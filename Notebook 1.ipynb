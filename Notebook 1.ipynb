{
 "cells": [
  {
   "cell_type": "markdown",
   "metadata": {
    "cell_id": "8544d46e42394210ae5c9a2d251917be",
    "deepnote_cell_type": "text-cell-h1",
    "formattedRanges": [],
    "is_collapsed": false,
    "tags": []
   },
   "source": [
    "# IEOR 142 - Final Project"
   ]
  },
  {
   "cell_type": "code",
   "execution_count": 258,
   "metadata": {
    "cell_id": "38650333e2c3482f86e12464ece4189b",
    "deepnote_cell_type": "code",
    "deepnote_to_be_reexecuted": false,
    "execution_millis": 7661,
    "execution_start": 1670976242991,
    "source_hash": "a8c44819",
    "tags": []
   },
   "outputs": [
    {
     "name": "stdout",
     "output_type": "stream",
     "text": [
      "Requirement already satisfied: statsmodels in /Users/kiangolestaneh/opt/anaconda3/lib/python3.9/site-packages (0.13.2)\n",
      "Requirement already satisfied: numpy>=1.17 in /Users/kiangolestaneh/opt/anaconda3/lib/python3.9/site-packages (from statsmodels) (1.21.5)\n",
      "Requirement already satisfied: packaging>=21.3 in /Users/kiangolestaneh/opt/anaconda3/lib/python3.9/site-packages (from statsmodels) (21.3)\n",
      "Requirement already satisfied: pandas>=0.25 in /Users/kiangolestaneh/opt/anaconda3/lib/python3.9/site-packages (from statsmodels) (1.4.2)\n",
      "Requirement already satisfied: scipy>=1.3 in /Users/kiangolestaneh/opt/anaconda3/lib/python3.9/site-packages (from statsmodels) (1.7.3)\n",
      "Requirement already satisfied: patsy>=0.5.2 in /Users/kiangolestaneh/opt/anaconda3/lib/python3.9/site-packages (from statsmodels) (0.5.2)\n",
      "Requirement already satisfied: pyparsing!=3.0.5,>=2.0.2 in /Users/kiangolestaneh/opt/anaconda3/lib/python3.9/site-packages (from packaging>=21.3->statsmodels) (3.0.4)\n",
      "Requirement already satisfied: python-dateutil>=2.8.1 in /Users/kiangolestaneh/opt/anaconda3/lib/python3.9/site-packages (from pandas>=0.25->statsmodels) (2.8.2)\n",
      "Requirement already satisfied: pytz>=2020.1 in /Users/kiangolestaneh/opt/anaconda3/lib/python3.9/site-packages (from pandas>=0.25->statsmodels) (2021.3)\n",
      "Requirement already satisfied: six in /Users/kiangolestaneh/opt/anaconda3/lib/python3.9/site-packages (from patsy>=0.5.2->statsmodels) (1.16.0)\n"
     ]
    }
   ],
   "source": [
    "#Loading Dependencies\n",
    "!pip install statsmodels\n",
    "import pandas as pd\n",
    "import numpy as np\n",
    "import datetime\n",
    "import statsmodels.api as sm\n",
    "import statsmodels.formula.api as smf\n",
    "import random\n",
    "\n",
    "from sklearn.discriminant_analysis import LinearDiscriminantAnalysis\n",
    "from sklearn.metrics import accuracy_score\n",
    "from sklearn.metrics import confusion_matrix"
   ]
  },
  {
   "cell_type": "code",
   "execution_count": 259,
   "metadata": {
    "cell_id": "832eed76f56642289364bb27f45fef03",
    "deepnote_cell_type": "code",
    "deepnote_to_be_reexecuted": false,
    "execution_millis": 1,
    "execution_start": 1670976250658,
    "source_hash": "3d246bad",
    "tags": []
   },
   "outputs": [],
   "source": [
    "\"\"\"Functions\"\"\"\n",
    "\n",
    "def time_since(i):\n",
    "    c = i.split(' -')[0]\n",
    "    format = '%b %d %Y'\n",
    "    a = datetime.datetime.strptime(c, format)\n",
    "    b = datetime.datetime.today() - a\n",
    "    return b.days\n",
    "\n",
    "def winner(home_score, away_score):\n",
    "    if home_score>away_score:\n",
    "        return 1\n",
    "    if home_score<away_score:\n",
    "        return 0\n",
    "    if home_score==away_score:\n",
    "        return 0.5\n",
    "\n",
    "def winner_binary(home_score, away_score):\n",
    "    if home_score>away_score:\n",
    "        return 1\n",
    "    return 0\n",
    "\n",
    "\n",
    "def year(text):\n",
    "    return text.split('-')[0]"
   ]
  },
  {
   "cell_type": "code",
   "execution_count": 260,
   "metadata": {
    "cell_id": "20ca4f90563c441dbe72c422fcd2182b",
    "deepnote_cell_type": "code",
    "deepnote_to_be_reexecuted": false,
    "execution_millis": 689,
    "execution_start": 1670976253114,
    "source_hash": "e151be80",
    "tags": []
   },
   "outputs": [
    {
     "name": "stderr",
     "output_type": "stream",
     "text": [
      "/var/folders/7r/3wbh_3yx46vflflwjp0xxbkm0000gn/T/ipykernel_83543/1720374977.py:6: DtypeWarning: Columns (25,108) have mixed types. Specify dtype option on import or set low_memory=False.\n",
      "  players_22 = pd.read_csv('players_22.csv')\n"
     ]
    }
   ],
   "source": [
    "#Kaggle Data\n",
    "fifa_ranking = pd.read_csv('fifa_ranking-2022-10-06.csv') \n",
    "goalscorers = pd.read_csv('goalscorers.csv') \n",
    "international_matches = pd.read_csv('international_matches.csv')\n",
    "last_team_scores = pd.read_csv('last_team_scores.csv')\n",
    "players_22 = pd.read_csv('players_22.csv')\n",
    "qatar_group_stage = pd.read_csv('Qatar_group_stage.csv')\n",
    "results = pd.read_csv('results.csv')\n",
    "shootouts = pd.read_csv('shootouts.csv')\n",
    "squad_stats = pd.read_csv('squad_stats.csv')"
   ]
  },
  {
   "cell_type": "code",
   "execution_count": 261,
   "metadata": {
    "cell_id": "0ec8007f3621422296779bf4d4605e90",
    "deepnote_cell_type": "code",
    "deepnote_to_be_reexecuted": false,
    "execution_millis": 112,
    "execution_start": 1670976255945,
    "source_hash": "967b79df",
    "tags": []
   },
   "outputs": [
    {
     "data": {
      "text/html": [
       "<div>\n",
       "<style scoped>\n",
       "    .dataframe tbody tr th:only-of-type {\n",
       "        vertical-align: middle;\n",
       "    }\n",
       "\n",
       "    .dataframe tbody tr th {\n",
       "        vertical-align: top;\n",
       "    }\n",
       "\n",
       "    .dataframe thead th {\n",
       "        text-align: right;\n",
       "    }\n",
       "</style>\n",
       "<table border=\"1\" class=\"dataframe\">\n",
       "  <thead>\n",
       "    <tr style=\"text-align: right;\">\n",
       "      <th></th>\n",
       "      <th>rank</th>\n",
       "      <th>total_points</th>\n",
       "      <th>previous_points</th>\n",
       "      <th>rank_change</th>\n",
       "      <th>year</th>\n",
       "    </tr>\n",
       "    <tr>\n",
       "      <th>country_full</th>\n",
       "      <th></th>\n",
       "      <th></th>\n",
       "      <th></th>\n",
       "      <th></th>\n",
       "      <th></th>\n",
       "    </tr>\n",
       "  </thead>\n",
       "  <tbody>\n",
       "    <tr>\n",
       "      <th>Afghanistan</th>\n",
       "      <td>146.280899</td>\n",
       "      <td>530.412360</td>\n",
       "      <td>530.872584</td>\n",
       "      <td>0.179775</td>\n",
       "      <td>2017.41573</td>\n",
       "    </tr>\n",
       "    <tr>\n",
       "      <th>Albania</th>\n",
       "      <td>57.191011</td>\n",
       "      <td>908.973034</td>\n",
       "      <td>909.679663</td>\n",
       "      <td>0.101124</td>\n",
       "      <td>2017.41573</td>\n",
       "    </tr>\n",
       "    <tr>\n",
       "      <th>Algeria</th>\n",
       "      <td>38.831461</td>\n",
       "      <td>1037.677640</td>\n",
       "      <td>1039.811348</td>\n",
       "      <td>0.112360</td>\n",
       "      <td>2017.41573</td>\n",
       "    </tr>\n",
       "    <tr>\n",
       "      <th>American Samoa</th>\n",
       "      <td>189.876404</td>\n",
       "      <td>387.497079</td>\n",
       "      <td>387.359213</td>\n",
       "      <td>-0.089888</td>\n",
       "      <td>2017.41573</td>\n",
       "    </tr>\n",
       "    <tr>\n",
       "      <th>Andorra</th>\n",
       "      <td>169.146067</td>\n",
       "      <td>457.956854</td>\n",
       "      <td>456.527640</td>\n",
       "      <td>-0.528090</td>\n",
       "      <td>2017.41573</td>\n",
       "    </tr>\n",
       "    <tr>\n",
       "      <th>...</th>\n",
       "      <td>...</td>\n",
       "      <td>...</td>\n",
       "      <td>...</td>\n",
       "      <td>...</td>\n",
       "      <td>...</td>\n",
       "    </tr>\n",
       "    <tr>\n",
       "      <th>Vietnam</th>\n",
       "      <td>118.157303</td>\n",
       "      <td>628.651461</td>\n",
       "      <td>626.700337</td>\n",
       "      <td>-0.550562</td>\n",
       "      <td>2017.41573</td>\n",
       "    </tr>\n",
       "    <tr>\n",
       "      <th>Wales</th>\n",
       "      <td>21.707865</td>\n",
       "      <td>1179.028764</td>\n",
       "      <td>1174.390337</td>\n",
       "      <td>-0.426966</td>\n",
       "      <td>2017.41573</td>\n",
       "    </tr>\n",
       "    <tr>\n",
       "      <th>Yemen</th>\n",
       "      <td>153.382022</td>\n",
       "      <td>509.252360</td>\n",
       "      <td>508.302697</td>\n",
       "      <td>-0.269663</td>\n",
       "      <td>2017.41573</td>\n",
       "    </tr>\n",
       "    <tr>\n",
       "      <th>Zambia</th>\n",
       "      <td>80.460674</td>\n",
       "      <td>777.233483</td>\n",
       "      <td>778.959213</td>\n",
       "      <td>0.224719</td>\n",
       "      <td>2017.41573</td>\n",
       "    </tr>\n",
       "    <tr>\n",
       "      <th>Zimbabwe</th>\n",
       "      <td>110.955056</td>\n",
       "      <td>648.627079</td>\n",
       "      <td>649.227528</td>\n",
       "      <td>0.202247</td>\n",
       "      <td>2017.41573</td>\n",
       "    </tr>\n",
       "  </tbody>\n",
       "</table>\n",
       "<p>219 rows × 5 columns</p>\n",
       "</div>"
      ],
      "text/plain": [
       "                      rank  total_points  previous_points  rank_change  \\\n",
       "country_full                                                             \n",
       "Afghanistan     146.280899    530.412360       530.872584     0.179775   \n",
       "Albania          57.191011    908.973034       909.679663     0.101124   \n",
       "Algeria          38.831461   1037.677640      1039.811348     0.112360   \n",
       "American Samoa  189.876404    387.497079       387.359213    -0.089888   \n",
       "Andorra         169.146067    457.956854       456.527640    -0.528090   \n",
       "...                    ...           ...              ...          ...   \n",
       "Vietnam         118.157303    628.651461       626.700337    -0.550562   \n",
       "Wales            21.707865   1179.028764      1174.390337    -0.426966   \n",
       "Yemen           153.382022    509.252360       508.302697    -0.269663   \n",
       "Zambia           80.460674    777.233483       778.959213     0.224719   \n",
       "Zimbabwe        110.955056    648.627079       649.227528     0.202247   \n",
       "\n",
       "                      year  \n",
       "country_full                \n",
       "Afghanistan     2017.41573  \n",
       "Albania         2017.41573  \n",
       "Algeria         2017.41573  \n",
       "American Samoa  2017.41573  \n",
       "Andorra         2017.41573  \n",
       "...                    ...  \n",
       "Vietnam         2017.41573  \n",
       "Wales           2017.41573  \n",
       "Yemen           2017.41573  \n",
       "Zambia          2017.41573  \n",
       "Zimbabwe        2017.41573  \n",
       "\n",
       "[219 rows x 5 columns]"
      ]
     },
     "execution_count": 261,
     "metadata": {},
     "output_type": "execute_result"
    }
   ],
   "source": [
    "fifa_ranking['year'] = fifa_ranking['rank_date'].apply(year)\n",
    "fifa_ranking['year'] = fifa_ranking['year'].apply(int)\n",
    "fifa_ranking[fifa_ranking['year']>=2014].groupby(by='country_full').mean()"
   ]
  },
  {
   "cell_type": "code",
   "execution_count": 262,
   "metadata": {
    "cell_id": "877df6c1193b4ceb89d0b0307f75effc",
    "deepnote_cell_type": "code",
    "deepnote_to_be_reexecuted": false,
    "execution_millis": 368,
    "execution_start": 1670976259254,
    "source_hash": "aafc7549",
    "tags": []
   },
   "outputs": [],
   "source": [
    "#Match to Match Data\n",
    "#Kian\n",
    "asia_cup = pd.read_csv('GitHub Data/international-asian-cup-qualification-matches-2023-to-2023-stats.csv')\n",
    "gold_cup = pd.read_csv('GitHub Data/international-concacaf-gold-cup-matches-2021-to-2021-stats.csv')\n",
    "copa = pd.read_csv('GitHub Data/international-copa-america-matches-2021-to-2021-stats.csv')\n",
    "arab_cup = pd.read_csv('GitHub Data/international-fifa-arab-cup-matches-2021-to-2021-stats.csv')\n",
    "#conf_cup = pd.read_csv('GitHub Data/international-fifa-confederations-cup-matches-2017-to-2017-stats.csv')\n",
    "#wc_2002 = pd.read_csv('/work/GitHub Data/international-fifa-world-cup-2002-korea-japan-matches-2002-to-2002-stats.csv')\n",
    "#wc_2006 = pd.read_csv('/work/GitHub Data/international-fifa-world-cup-2006-germany-matches-2006-to-2006-stats.csv')\n",
    "#wc_2010 = pd.read_csv('/work/GitHub Data/international-fifa-world-cup-2010-south-africa-matches-2010-to-2010-stats.csv')\n",
    "wc_2014 = pd.read_csv('GitHub Data/international-fifa-world-cup-2014-brazil-matches-2014-to-2014-stats.csv')\n",
    "wc_2018 = pd.read_csv('GitHub Data/international-fifa-world-cup-2018-russia-matches-2018-to-2018-stats.csv')\n",
    "#Kian\n",
    "\n",
    "#Sean\n",
    "#friendly_2015 = pd.read_csv('GitHub Data/international-international-friendlies-matches-2015-to-2015-stats.csv')\n",
    "#friendly_2016 = pd.read_csv('GitHub Data/international-international-friendlies-matches-2016-to-2016-stats.csv')\n",
    "#friendly_2017 = pd.read_csv('GitHub Data/international-international-friendlies-matches-2017-to-2017-stats.csv')\n",
    "friendly_2018 = pd.read_csv('GitHub Data/international-international-friendlies-matches-2018-to-2018-stats.csv')\n",
    "friendly_2019 = pd.read_csv('GitHub Data/international-international-friendlies-matches-2019-to-2019-stats.csv')\n",
    "friendly_2020 = pd.read_csv('GitHub Data/international-international-friendlies-matches-2020-to-2020-stats.csv')\n",
    "friendly_2021 = pd.read_csv('GitHub Data/international-international-friendlies-matches-2021-to-2021-stats.csv')\n",
    "friendly_2022 = pd.read_csv('GitHub Data/international-international-friendlies-matches-2022-to-2022-stats (1).csv')\n",
    "#Sean\n",
    "\n",
    "#euro_2016 = pd.read_csv('GitHub Data/international-uefa-euro-qualifiers-matches-2016-to-2016-stats.csv')\n",
    "euro_2019_2020 = pd.read_csv('GitHub Data/international-uefa-euro-qualifiers-matches-2019-to-2020-stats.csv')\n",
    "nations_2018_2019 = pd.read_csv('GitHub Data/international-uefa-nations-league-matches-2018-to-2019-stats.csv')\n",
    "nations_2020_2021 = pd.read_csv('GitHub Data/international-uefa-nations-league-matches-2020-to-2021-stats.csv')\n",
    "nations_2022_2023 = pd.read_csv('GitHub Data/international-uefa-nations-league-matches-2022-to-2023-stats.csv')\n",
    "\n",
    "#Tyler\n",
    "wc_qual_africa = pd.read_csv('GitHub Data/international-wc-qualification-africa-matches-2022-to-2022-stats.csv')\n",
    "wc_qual_asia = pd.read_csv('GitHub Data/international-wc-qualification-asia-matches-2022-to-2022-stats.csv')\n",
    "wc_qual_c = pd.read_csv('GitHub Data/international-wc-qualification-concacaf-matches-2022-to-2022-stats.csv')\n",
    "wc_qual_euro = pd.read_csv('GitHub Data/international-wc-qualification-europe-matches-2022-to-2022-stats.csv')\n",
    "wc_qual_inter = pd.read_csv('GitHub Data/international-wc-qualification-intercontinental-playoffs-matches-2022-to-2022-stats.csv')\n",
    "wc_qual_sa = pd.read_csv('GitHub Data/international-wc-qualification-south-america-matches-2020-to-2022-stats.csv')"
   ]
  },
  {
   "cell_type": "code",
   "execution_count": 263,
   "metadata": {
    "cell_id": "2b601b77fcc34e77ac89f135a52ff985",
    "deepnote_cell_type": "code",
    "deepnote_to_be_reexecuted": false,
    "execution_millis": 442,
    "execution_start": 1670976261703,
    "source_hash": "ca425f2",
    "tags": []
   },
   "outputs": [
    {
     "name": "stderr",
     "output_type": "stream",
     "text": [
      "/var/folders/7r/3wbh_3yx46vflflwjp0xxbkm0000gn/T/ipykernel_83543/534271841.py:34: DtypeWarning: Columns (3) have mixed types. Specify dtype option on import or set low_memory=False.\n",
      "  joined = pd.read_csv('DataScience_joined_data.csv')\n"
     ]
    }
   ],
   "source": [
    "#TEAM DATA\n",
    "\n",
    "#game data\n",
    "asia_cup_team = pd.read_csv('GitHub team data/international-asian-cup-qualification-teams-2023-to-2023-stats.csv')\n",
    "gold_cup_team = pd.read_csv('GitHub team data/international-concacaf-gold-cup-teams-2021-to-2021-stats.csv')\n",
    "copa_team = pd.read_csv('GitHub team data/international-copa-america-teams-2021-to-2021-stats.csv')\n",
    "arab_cup_team = pd.read_csv('GitHub team data/international-fifa-arab-cup-teams-2021-to-2021-stats.csv')\n",
    "conf_cupteam = pd.read_csv('GitHub team data/international-fifa-confederations-cup-teams-2017-to-2017-stats.csv')\n",
    "#wc_2002 = pd.read_csv('/work/GitHub Data/international-fifa-world-cup-2002-korea-japan-matches-2002-to-2002-stats.csv')\n",
    "#wc_2006 = pd.read_csv('/work/GitHub Data/international-fifa-world-cup-2006-germany-matches-2006-to-2006-stats.csv')\n",
    "#wc_2010 = pd.read_csv('/work/GitHub Data/international-fifa-world-cup-2010-south-africa-matches-2010-to-2010-stats.csv')\n",
    "wc_2014_team = pd.read_csv('GitHub team data/international-fifa-world-cup-2014-brazil-teams-2014-to-2014-stats.csv')\n",
    "wc_2018_team = pd.read_csv('GitHub team data/international-fifa-world-cup-2018-russia-teams-2018-to-2018-stats.csv')\n",
    "friendly_2015_team = pd.read_csv('GitHub team data/international-international-friendlies-teams-2015-to-2015-stats.csv')\n",
    "friendly_2016_team = pd.read_csv('GitHub team data/international-international-friendlies-teams-2016-to-2016-stats.csv')\n",
    "friendly_2017_team = pd.read_csv('GitHub team data/international-international-friendlies-teams-2017-to-2017-stats.csv')\n",
    "friendly_2018_team = pd.read_csv('GitHub team data/international-international-friendlies-teams-2018-to-2018-stats.csv')\n",
    "friendly_2019_team = pd.read_csv('GitHub team data/international-international-friendlies-teams-2019-to-2019-stats.csv')\n",
    "friendly_2020_team = pd.read_csv('GitHub team data/international-international-friendlies-teams-2020-to-2020-stats.csv')\n",
    "friendly_2021_team = pd.read_csv('GitHub team data/international-international-friendlies-teams-2021-to-2021-stats.csv')\n",
    "friendly_2022_team = pd.read_csv('GitHub team data/international-international-friendlies-teams-2022-to-2022-stats.csv')\n",
    "#euro_2016_team = pd.read_csv('GitHub team data/international-uefa-euro-qualifiers-teams-2016-to-2016-stats.csv')\n",
    "euro_2019_2020_team = pd.read_csv('GitHub team data/international-uefa-euro-qualifiers-teams-2019-to-2020-stats.csv')\n",
    "nations_2018_2019_team = pd.read_csv('GitHub team data/international-uefa-nations-league-teams-2018-to-2019-stats.csv')\n",
    "nations_2020_2021_team = pd.read_csv('GitHub team data/international-uefa-nations-league-teams-2020-to-2021-stats.csv')\n",
    "nations_2022_2023_team = pd.read_csv('GitHub team data/international-uefa-nations-league-teams-2022-to-2023-stats.csv')\n",
    "wc_qual_africa_team = pd.read_csv('GitHub team data/international-wc-qualification-africa-teams-2022-to-2022-stats.csv')\n",
    "wc_qual_asia_team = pd.read_csv('GitHub team data/international-wc-qualification-asia-teams-2022-to-2022-stats.csv')\n",
    "wc_qual_c_team = pd.read_csv('GitHub team data/international-wc-qualification-concacaf-teams-2022-to-2022-stats.csv')\n",
    "wc_qual_euro_team = pd.read_csv('GitHub team data/international-wc-qualification-europe-teams-2022-to-2022-stats.csv')\n",
    "wc_qual_inter_team = pd.read_csv('GitHub team data/international-wc-qualification-intercontinental-playoffs-teams-2022-to-2022-stats.csv')\n",
    "wc_qual_sa_team = pd.read_csv('GitHub team data/international-wc-qualification-south-america-teams-2020-to-2022-stats.csv')\n",
    "\n",
    "joined = pd.read_csv('DataScience_joined_data.csv')\n",
    "qatar_teams = pd.read_csv('Qatar2022-teams.csv')"
   ]
  },
  {
   "cell_type": "code",
   "execution_count": 264,
   "metadata": {},
   "outputs": [
    {
     "name": "stderr",
     "output_type": "stream",
     "text": [
      "/var/folders/7r/3wbh_3yx46vflflwjp0xxbkm0000gn/T/ipykernel_83543/1720374977.py:6: DtypeWarning: Columns (25,108) have mixed types. Specify dtype option on import or set low_memory=False.\n",
      "  players_22 = pd.read_csv('players_22.csv')\n"
     ]
    }
   ],
   "source": [
    "#Kaggle Data\n",
    "fifa_ranking = pd.read_csv('fifa_ranking-2022-10-06.csv') \n",
    "goalscorers = pd.read_csv('goalscorers.csv') \n",
    "international_matches = pd.read_csv('international_matches.csv')\n",
    "last_team_scores = pd.read_csv('last_team_scores.csv')\n",
    "players_22 = pd.read_csv('players_22.csv')\n",
    "qatar_group_stage = pd.read_csv('Qatar_group_stage.csv')\n",
    "results = pd.read_csv('results.csv')\n",
    "shootouts = pd.read_csv('shootouts.csv')\n",
    "squad_stats = pd.read_csv('squad_stats.csv')"
   ]
  },
  {
   "cell_type": "code",
   "execution_count": 265,
   "metadata": {},
   "outputs": [
    {
     "data": {
      "text/html": [
       "<div>\n",
       "<style scoped>\n",
       "    .dataframe tbody tr th:only-of-type {\n",
       "        vertical-align: middle;\n",
       "    }\n",
       "\n",
       "    .dataframe tbody tr th {\n",
       "        vertical-align: top;\n",
       "    }\n",
       "\n",
       "    .dataframe thead th {\n",
       "        text-align: right;\n",
       "    }\n",
       "</style>\n",
       "<table border=\"1\" class=\"dataframe\">\n",
       "  <thead>\n",
       "    <tr style=\"text-align: right;\">\n",
       "      <th></th>\n",
       "      <th>rank</th>\n",
       "      <th>country_full</th>\n",
       "      <th>country_abrv</th>\n",
       "      <th>total_points</th>\n",
       "      <th>previous_points</th>\n",
       "      <th>rank_change</th>\n",
       "      <th>year</th>\n",
       "    </tr>\n",
       "  </thead>\n",
       "  <tbody>\n",
       "    <tr>\n",
       "      <th>63809</th>\n",
       "      <td>1</td>\n",
       "      <td>Brazil</td>\n",
       "      <td>BRA</td>\n",
       "      <td>1841.30</td>\n",
       "      <td>1837.56</td>\n",
       "      <td>0</td>\n",
       "      <td>2022</td>\n",
       "    </tr>\n",
       "    <tr>\n",
       "      <th>63838</th>\n",
       "      <td>2</td>\n",
       "      <td>Belgium</td>\n",
       "      <td>BEL</td>\n",
       "      <td>1816.71</td>\n",
       "      <td>1821.92</td>\n",
       "      <td>0</td>\n",
       "      <td>2022</td>\n",
       "    </tr>\n",
       "    <tr>\n",
       "      <th>63839</th>\n",
       "      <td>3</td>\n",
       "      <td>Argentina</td>\n",
       "      <td>ARG</td>\n",
       "      <td>1773.88</td>\n",
       "      <td>1770.65</td>\n",
       "      <td>0</td>\n",
       "      <td>2022</td>\n",
       "    </tr>\n",
       "    <tr>\n",
       "      <th>63840</th>\n",
       "      <td>4</td>\n",
       "      <td>France</td>\n",
       "      <td>FRA</td>\n",
       "      <td>1759.78</td>\n",
       "      <td>1764.85</td>\n",
       "      <td>0</td>\n",
       "      <td>2022</td>\n",
       "    </tr>\n",
       "    <tr>\n",
       "      <th>63841</th>\n",
       "      <td>5</td>\n",
       "      <td>England</td>\n",
       "      <td>ENG</td>\n",
       "      <td>1728.47</td>\n",
       "      <td>1737.46</td>\n",
       "      <td>0</td>\n",
       "      <td>2022</td>\n",
       "    </tr>\n",
       "    <tr>\n",
       "      <th>...</th>\n",
       "      <td>...</td>\n",
       "      <td>...</td>\n",
       "      <td>...</td>\n",
       "      <td>...</td>\n",
       "      <td>...</td>\n",
       "      <td>...</td>\n",
       "      <td>...</td>\n",
       "    </tr>\n",
       "    <tr>\n",
       "      <th>63776</th>\n",
       "      <td>207</td>\n",
       "      <td>Sri Lanka</td>\n",
       "      <td>SRI</td>\n",
       "      <td>825.25</td>\n",
       "      <td>825.25</td>\n",
       "      <td>0</td>\n",
       "      <td>2022</td>\n",
       "    </tr>\n",
       "    <tr>\n",
       "      <th>63777</th>\n",
       "      <td>208</td>\n",
       "      <td>US Virgin Islands</td>\n",
       "      <td>VIR</td>\n",
       "      <td>823.97</td>\n",
       "      <td>823.97</td>\n",
       "      <td>0</td>\n",
       "      <td>2022</td>\n",
       "    </tr>\n",
       "    <tr>\n",
       "      <th>63778</th>\n",
       "      <td>209</td>\n",
       "      <td>British Virgin Islands</td>\n",
       "      <td>VGB</td>\n",
       "      <td>809.32</td>\n",
       "      <td>809.32</td>\n",
       "      <td>0</td>\n",
       "      <td>2022</td>\n",
       "    </tr>\n",
       "    <tr>\n",
       "      <th>63837</th>\n",
       "      <td>210</td>\n",
       "      <td>Anguilla</td>\n",
       "      <td>AIA</td>\n",
       "      <td>790.74</td>\n",
       "      <td>790.74</td>\n",
       "      <td>0</td>\n",
       "      <td>2022</td>\n",
       "    </tr>\n",
       "    <tr>\n",
       "      <th>63915</th>\n",
       "      <td>211</td>\n",
       "      <td>San Marino</td>\n",
       "      <td>SMR</td>\n",
       "      <td>762.22</td>\n",
       "      <td>763.82</td>\n",
       "      <td>0</td>\n",
       "      <td>2022</td>\n",
       "    </tr>\n",
       "  </tbody>\n",
       "</table>\n",
       "<p>211 rows × 7 columns</p>\n",
       "</div>"
      ],
      "text/plain": [
       "       rank            country_full country_abrv  total_points  \\\n",
       "63809     1                  Brazil          BRA       1841.30   \n",
       "63838     2                 Belgium          BEL       1816.71   \n",
       "63839     3               Argentina          ARG       1773.88   \n",
       "63840     4                  France          FRA       1759.78   \n",
       "63841     5                 England          ENG       1728.47   \n",
       "...     ...                     ...          ...           ...   \n",
       "63776   207               Sri Lanka          SRI        825.25   \n",
       "63777   208       US Virgin Islands          VIR        823.97   \n",
       "63778   209  British Virgin Islands          VGB        809.32   \n",
       "63837   210                Anguilla          AIA        790.74   \n",
       "63915   211              San Marino          SMR        762.22   \n",
       "\n",
       "       previous_points  rank_change  year  \n",
       "63809          1837.56            0  2022  \n",
       "63838          1821.92            0  2022  \n",
       "63839          1770.65            0  2022  \n",
       "63840          1764.85            0  2022  \n",
       "63841          1737.46            0  2022  \n",
       "...                ...          ...   ...  \n",
       "63776           825.25            0  2022  \n",
       "63777           823.97            0  2022  \n",
       "63778           809.32            0  2022  \n",
       "63837           790.74            0  2022  \n",
       "63915           763.82            0  2022  \n",
       "\n",
       "[211 rows x 7 columns]"
      ]
     },
     "execution_count": 265,
     "metadata": {},
     "output_type": "execute_result"
    }
   ],
   "source": [
    "# fifa_ranking['year'] = fifa_ranking['rank_date'].apply(year)\n",
    "# fifa_ranking['year'] = fifa_ranking['year'].apply(int)\n",
    "# fifa_ranking[fifa_ranking['year']>=2014].groupby(by='country_full').mean()\n",
    "fifa_ranking = fifa_ranking.replace(['IR Iran'], 'Iran')\n",
    "fifa_ranking = fifa_ranking.replace(['USA'], 'USMNT')\n",
    "fifa_ranking = fifa_ranking.replace(['United Arab Emirates'], 'UAE')\n",
    "fifa_ranking = fifa_ranking.replace(['Chinese Taipei'], 'Taiwan')\n",
    "fifa_ranking = fifa_ranking.replace(['Kyrgyz Republic'], 'Kyrgyzstan')\n",
    "fifa_ranking = fifa_ranking.replace(['Morroco A'], 'Morroco')\n",
    "fifa_ranking = fifa_ranking.replace(['Türkiye'], 'Turkey')\n",
    "fifa_ranking = fifa_ranking.replace(['North Macedonia'], 'FYR Macedonia')\n",
    "fifa_ranking = fifa_ranking.replace(['Korea Republic'], 'South Korea')\n",
    "fifa_ranking = fifa_ranking.replace(['China PR'], 'China') \n",
    "fifa_ranking = fifa_ranking.replace(['Korea DPR'], 'North Korea')\n",
    "\n",
    "\n",
    "fifa_ranking['year'] = fifa_ranking['rank_date'].astype(str).apply(year)\n",
    "fifa_ranking['year'] = fifa_ranking['year'].astype(float).dropna().astype(int)\n",
    "fifa_ranking_2022 = fifa_ranking[fifa_ranking['rank_date']=='2022-10-06']\n",
    "fifa_ranking_2022 = fifa_ranking_2022.sort_values(by='rank', ascending=True).drop(columns=['rank_date', 'confederation'])\n",
    "fifa_ranking_2022"
   ]
  },
  {
   "cell_type": "code",
   "execution_count": 266,
   "metadata": {},
   "outputs": [],
   "source": [
    "fifa_ranking_2021 = fifa_ranking[fifa_ranking['rank_date']=='2021-12-23']\n",
    "fifa_ranking_2021 = fifa_ranking_2021.sort_values(by='rank', ascending=True).drop(columns=['rank_date', 'confederation'])\n",
    "\n",
    "fifa_ranking_2020 = fifa_ranking[fifa_ranking['rank_date']=='2020-12-10']\n",
    "fifa_ranking_2020 = fifa_ranking_2020.sort_values(by='rank', ascending=True).drop(columns=['rank_date', 'confederation'])\n",
    "\n",
    "fifa_ranking_2019 = fifa_ranking[fifa_ranking['rank_date']=='2019-12-19']\n",
    "fifa_ranking_2019 = fifa_ranking_2019.sort_values(by='rank', ascending=True).drop(columns=['rank_date', 'confederation'])\n",
    "\n",
    "fifa_ranking_2018 = fifa_ranking[fifa_ranking['rank_date']=='2018-12-20']\n",
    "fifa_ranking_2018 = fifa_ranking_2018.sort_values(by='rank', ascending=True).drop(columns=['rank_date', 'confederation'])"
   ]
  },
  {
   "cell_type": "code",
   "execution_count": 267,
   "metadata": {},
   "outputs": [
    {
     "data": {
      "text/html": [
       "<div>\n",
       "<style scoped>\n",
       "    .dataframe tbody tr th:only-of-type {\n",
       "        vertical-align: middle;\n",
       "    }\n",
       "\n",
       "    .dataframe tbody tr th {\n",
       "        vertical-align: top;\n",
       "    }\n",
       "\n",
       "    .dataframe thead th {\n",
       "        text-align: right;\n",
       "    }\n",
       "</style>\n",
       "<table border=\"1\" class=\"dataframe\">\n",
       "  <thead>\n",
       "    <tr style=\"text-align: right;\">\n",
       "      <th></th>\n",
       "      <th>rank</th>\n",
       "      <th>country_full</th>\n",
       "      <th>country_abrv</th>\n",
       "      <th>total_points</th>\n",
       "      <th>previous_points</th>\n",
       "      <th>rank_change</th>\n",
       "      <th>year</th>\n",
       "    </tr>\n",
       "  </thead>\n",
       "  <tbody>\n",
       "    <tr>\n",
       "      <th>57608</th>\n",
       "      <td>1</td>\n",
       "      <td>Belgium</td>\n",
       "      <td>BEL</td>\n",
       "      <td>1727.00</td>\n",
       "      <td>1727.00</td>\n",
       "      <td>0</td>\n",
       "      <td>2018</td>\n",
       "    </tr>\n",
       "    <tr>\n",
       "      <th>57793</th>\n",
       "      <td>2</td>\n",
       "      <td>France</td>\n",
       "      <td>FRA</td>\n",
       "      <td>1726.00</td>\n",
       "      <td>1726.00</td>\n",
       "      <td>0</td>\n",
       "      <td>2018</td>\n",
       "    </tr>\n",
       "    <tr>\n",
       "      <th>57713</th>\n",
       "      <td>3</td>\n",
       "      <td>Brazil</td>\n",
       "      <td>BRA</td>\n",
       "      <td>1676.00</td>\n",
       "      <td>1676.00</td>\n",
       "      <td>0</td>\n",
       "      <td>2018</td>\n",
       "    </tr>\n",
       "    <tr>\n",
       "      <th>57607</th>\n",
       "      <td>4</td>\n",
       "      <td>Croatia</td>\n",
       "      <td>CRO</td>\n",
       "      <td>1634.00</td>\n",
       "      <td>1634.00</td>\n",
       "      <td>0</td>\n",
       "      <td>2018</td>\n",
       "    </tr>\n",
       "    <tr>\n",
       "      <th>57684</th>\n",
       "      <td>5</td>\n",
       "      <td>England</td>\n",
       "      <td>ENG</td>\n",
       "      <td>1631.00</td>\n",
       "      <td>1631.00</td>\n",
       "      <td>0</td>\n",
       "      <td>2018</td>\n",
       "    </tr>\n",
       "    <tr>\n",
       "      <th>...</th>\n",
       "      <td>...</td>\n",
       "      <td>...</td>\n",
       "      <td>...</td>\n",
       "      <td>...</td>\n",
       "      <td>...</td>\n",
       "      <td>...</td>\n",
       "      <td>...</td>\n",
       "    </tr>\n",
       "    <tr>\n",
       "      <th>63776</th>\n",
       "      <td>207</td>\n",
       "      <td>Sri Lanka</td>\n",
       "      <td>SRI</td>\n",
       "      <td>825.25</td>\n",
       "      <td>825.25</td>\n",
       "      <td>0</td>\n",
       "      <td>2022</td>\n",
       "    </tr>\n",
       "    <tr>\n",
       "      <th>63777</th>\n",
       "      <td>208</td>\n",
       "      <td>US Virgin Islands</td>\n",
       "      <td>VIR</td>\n",
       "      <td>823.97</td>\n",
       "      <td>823.97</td>\n",
       "      <td>0</td>\n",
       "      <td>2022</td>\n",
       "    </tr>\n",
       "    <tr>\n",
       "      <th>63778</th>\n",
       "      <td>209</td>\n",
       "      <td>British Virgin Islands</td>\n",
       "      <td>VGB</td>\n",
       "      <td>809.32</td>\n",
       "      <td>809.32</td>\n",
       "      <td>0</td>\n",
       "      <td>2022</td>\n",
       "    </tr>\n",
       "    <tr>\n",
       "      <th>63837</th>\n",
       "      <td>210</td>\n",
       "      <td>Anguilla</td>\n",
       "      <td>AIA</td>\n",
       "      <td>790.74</td>\n",
       "      <td>790.74</td>\n",
       "      <td>0</td>\n",
       "      <td>2022</td>\n",
       "    </tr>\n",
       "    <tr>\n",
       "      <th>63915</th>\n",
       "      <td>211</td>\n",
       "      <td>San Marino</td>\n",
       "      <td>SMR</td>\n",
       "      <td>762.22</td>\n",
       "      <td>763.82</td>\n",
       "      <td>0</td>\n",
       "      <td>2022</td>\n",
       "    </tr>\n",
       "  </tbody>\n",
       "</table>\n",
       "<p>1052 rows × 7 columns</p>\n",
       "</div>"
      ],
      "text/plain": [
       "       rank            country_full country_abrv  total_points  \\\n",
       "57608     1                 Belgium          BEL       1727.00   \n",
       "57793     2                  France          FRA       1726.00   \n",
       "57713     3                  Brazil          BRA       1676.00   \n",
       "57607     4                 Croatia          CRO       1634.00   \n",
       "57684     5                 England          ENG       1631.00   \n",
       "...     ...                     ...          ...           ...   \n",
       "63776   207               Sri Lanka          SRI        825.25   \n",
       "63777   208       US Virgin Islands          VIR        823.97   \n",
       "63778   209  British Virgin Islands          VGB        809.32   \n",
       "63837   210                Anguilla          AIA        790.74   \n",
       "63915   211              San Marino          SMR        762.22   \n",
       "\n",
       "       previous_points  rank_change  year  \n",
       "57608          1727.00            0  2018  \n",
       "57793          1726.00            0  2018  \n",
       "57713          1676.00            0  2018  \n",
       "57607          1634.00            0  2018  \n",
       "57684          1631.00            0  2018  \n",
       "...                ...          ...   ...  \n",
       "63776           825.25            0  2022  \n",
       "63777           823.97            0  2022  \n",
       "63778           809.32            0  2022  \n",
       "63837           790.74            0  2022  \n",
       "63915           763.82            0  2022  \n",
       "\n",
       "[1052 rows x 7 columns]"
      ]
     },
     "execution_count": 267,
     "metadata": {},
     "output_type": "execute_result"
    }
   ],
   "source": [
    "fifa_rank_2018_to_2022 = pd.concat([fifa_ranking_2018, fifa_ranking_2019, \n",
    "fifa_ranking_2020, fifa_ranking_2021, fifa_ranking_2022])\n",
    "fifa_rank_2018_to_2022"
   ]
  },
  {
   "cell_type": "code",
   "execution_count": null,
   "metadata": {},
   "outputs": [],
   "source": []
  },
  {
   "cell_type": "markdown",
   "metadata": {
    "cell_id": "d93f37bd8ad04ddf948fec2fc74a02cd",
    "deepnote_cell_type": "text-cell-h1",
    "formattedRanges": [],
    "is_collapsed": false,
    "tags": []
   },
   "source": [
    "# Data Cleaning + EDA (EDA will be done later)"
   ]
  },
  {
   "cell_type": "code",
   "execution_count": 268,
   "metadata": {
    "cell_id": "4da90647370d4318b4d09cad3450c1ec",
    "deepnote_cell_type": "code",
    "deepnote_table_loading": false,
    "deepnote_table_state": {
     "filters": [],
     "pageIndex": 0,
     "pageSize": 10,
     "sortBy": []
    },
    "deepnote_to_be_reexecuted": false,
    "execution_millis": 235,
    "execution_start": 1670976266463,
    "source_hash": "c743088a",
    "tags": []
   },
   "outputs": [],
   "source": [
    "full_data = pd.concat([asia_cup,gold_cup,copa,arab_cup,wc_2018,\n",
    "                     friendly_2018, friendly_2019, friendly_2020,\n",
    "                     friendly_2021, friendly_2022, euro_2019_2020, nations_2018_2019,\n",
    "                     nations_2020_2021, nations_2022_2023, wc_qual_africa, wc_qual_asia, wc_qual_c,\n",
    "                     wc_qual_euro, wc_qual_inter, wc_qual_sa], axis=0).reset_index()"
   ]
  },
  {
   "cell_type": "code",
   "execution_count": 269,
   "metadata": {},
   "outputs": [],
   "source": [
    "year = list(full_data['date_GMT'].str.split(' ', expand = True)[2])\n",
    "full_data['year'] = year\n",
    "full_data['year'] = full_data['year'].apply(int)\n",
    "fifa_rank_2018_to_2022['year']= fifa_rank_2018_to_2022['year'].apply(int)"
   ]
  },
  {
   "cell_type": "code",
   "execution_count": 270,
   "metadata": {},
   "outputs": [],
   "source": [
    "full_data = full_data.merge(fifa_rank_2018_to_2022, left_on=['home_team_name','year'], right_on=['country_full','year'], how='left')"
   ]
  },
  {
   "cell_type": "code",
   "execution_count": 271,
   "metadata": {},
   "outputs": [],
   "source": [
    "full_data = full_data.merge(fifa_rank_2018_to_2022, left_on=['away_team_name','year'], right_on=['country_full','year'], how='left',suffixes = ('_home', '_away'))"
   ]
  },
  {
   "cell_type": "code",
   "execution_count": 272,
   "metadata": {
    "cell_id": "370280ab1ecd4cdea2c6e5bc24fd54bb",
    "deepnote_cell_type": "code",
    "deepnote_to_be_reexecuted": false,
    "execution_millis": 7,
    "execution_start": 1670976266695,
    "source_hash": "661960a6",
    "tags": []
   },
   "outputs": [
    {
     "data": {
      "text/plain": [
       "Series([], Name: home_team_goal_timings, dtype: object)"
      ]
     },
     "execution_count": 272,
     "metadata": {},
     "output_type": "execute_result"
    }
   ],
   "source": [
    "### Replacing null values in 'home_team_goal_timings'\n",
    "full_data['home_team_goal_timings'] = full_data['home_team_goal_timings'].replace(np.nan, -1)\n",
    "full_data['away_team_goal_timings'] = full_data['away_team_goal_timings'].replace(np.nan, -1)\n",
    "full_data[full_data['home_team_goal_timings'].isnull()]['home_team_goal_timings']"
   ]
  },
  {
   "cell_type": "code",
   "execution_count": 273,
   "metadata": {
    "cell_id": "ff6e33a1440d480d88c638fcf1bb96e7",
    "deepnote_cell_type": "code",
    "deepnote_to_be_reexecuted": false,
    "execution_millis": 61,
    "execution_start": 1670976266697,
    "source_hash": "57fb0b71",
    "tags": []
   },
   "outputs": [],
   "source": [
    "full_data['days_since'] = full_data['date_GMT'].apply(time_since)\n",
    "full_data = full_data[full_data['days_since']>=0]\n",
    "full_data = full_data[full_data['status']!='canceled']\n",
    "full_data = full_data.drop(['Game Week','referee', 'attendance', 'stadium_name'], axis=1)\n"
   ]
  },
  {
   "cell_type": "code",
   "execution_count": 274,
   "metadata": {
    "cell_id": "a24778ed859b4c13aac07010b3ab7d4c",
    "deepnote_cell_type": "code",
    "deepnote_to_be_reexecuted": false,
    "execution_millis": 11,
    "execution_start": 1670976266774,
    "source_hash": "74a6c0c8",
    "tags": []
   },
   "outputs": [
    {
     "name": "stdout",
     "output_type": "stream",
     "text": [
      "index 0\n",
      "timestamp 0\n",
      "date_GMT 0\n",
      "status 0\n",
      "home_team_name 0\n",
      "away_team_name 0\n",
      "Pre-Match PPG (Home) 0\n",
      "Pre-Match PPG (Away) 0\n",
      "home_ppg 0\n",
      "away_ppg 0\n",
      "home_team_goal_count 0\n",
      "away_team_goal_count 0\n",
      "total_goal_count 0\n",
      "total_goals_at_half_time 0\n",
      "home_team_goal_count_half_time 0\n",
      "away_team_goal_count_half_time 0\n",
      "home_team_goal_timings 0\n",
      "away_team_goal_timings 0\n",
      "home_team_corner_count 0\n",
      "away_team_corner_count 0\n",
      "home_team_yellow_cards 0\n",
      "home_team_red_cards 0\n",
      "away_team_yellow_cards 0\n",
      "away_team_red_cards 0\n",
      "home_team_first_half_cards 0\n",
      "home_team_second_half_cards 0\n",
      "away_team_first_half_cards 0\n",
      "away_team_second_half_cards 0\n",
      "home_team_shots 0\n",
      "away_team_shots 0\n",
      "home_team_shots_on_target 0\n",
      "away_team_shots_on_target 0\n",
      "home_team_shots_off_target 0\n",
      "away_team_shots_off_target 0\n",
      "home_team_fouls 0\n",
      "away_team_fouls 0\n",
      "home_team_possession 0\n",
      "away_team_possession 0\n",
      "Home Team Pre-Match xG 0\n",
      "Away Team Pre-Match xG 0\n",
      "team_a_xg 0\n",
      "team_b_xg 0\n",
      "average_goals_per_match_pre_match 0\n",
      "btts_percentage_pre_match 0\n",
      "over_15_percentage_pre_match 0\n",
      "over_25_percentage_pre_match 0\n",
      "over_35_percentage_pre_match 0\n",
      "over_45_percentage_pre_match 0\n",
      "over_15_HT_FHG_percentage_pre_match 0\n",
      "over_05_HT_FHG_percentage_pre_match 0\n",
      "over_15_2HG_percentage_pre_match 0\n",
      "over_05_2HG_percentage_pre_match 0\n",
      "average_corners_per_match_pre_match 0\n",
      "average_cards_per_match_pre_match 0\n",
      "odds_ft_home_team_win 0\n",
      "odds_ft_draw 0\n",
      "odds_ft_away_team_win 0\n",
      "odds_ft_over15 0\n",
      "odds_ft_over25 0\n",
      "odds_ft_over35 0\n",
      "odds_ft_over45 0\n",
      "odds_btts_yes 0\n",
      "odds_btts_no 0\n",
      "year 0\n",
      "rank_home 70\n",
      "country_full_home 70\n",
      "country_abrv_home 70\n",
      "total_points_home 70\n",
      "previous_points_home 70\n",
      "rank_change_home 70\n",
      "rank_away 83\n",
      "country_full_away 83\n",
      "country_abrv_away 83\n",
      "total_points_away 83\n",
      "previous_points_away 83\n",
      "rank_change_away 83\n",
      "days_since 0\n"
     ]
    }
   ],
   "source": [
    "#Checking for null values:\n",
    "for i in full_data.columns:\n",
    "    print(i, full_data[i].isna().sum())"
   ]
  },
  {
   "cell_type": "code",
   "execution_count": 282,
   "metadata": {
    "cell_id": "d42b0c586509476d92d89410c7d1b1a0",
    "deepnote_cell_type": "code",
    "deepnote_to_be_reexecuted": false,
    "execution_millis": 160,
    "execution_start": 1670976273875,
    "source_hash": "4740309d",
    "tags": []
   },
   "outputs": [],
   "source": [
    "#Creating target variables for group and knockout stages:\n",
    "full_data['home_team_result'] = full_data.apply(lambda x: winner(x.home_team_goal_count, x.away_team_goal_count), axis=1)\n",
    "full_data['home_team_result_binary'] = full_data.apply(lambda x: winner_binary(x.home_team_goal_count, x.away_team_goal_count), axis=1)"
   ]
  },
  {
   "cell_type": "code",
   "execution_count": 283,
   "metadata": {
    "cell_id": "c565343e9c094d2da7ae420ca95a83ad",
    "deepnote_cell_type": "code",
    "deepnote_to_be_reexecuted": false,
    "execution_millis": 0,
    "execution_start": 1670976274046,
    "source_hash": "f1c66cc3",
    "tags": []
   },
   "outputs": [],
   "source": [
    "full_data = full_data = full_data.rename(columns= {'Pre-Match PPG (Home)' : 'Pre_Match_PPG_Home', 'Pre-Match PPG (Away)' : 'Pre_Match_PPG_Away'})"
   ]
  },
  {
   "cell_type": "code",
   "execution_count": 284,
   "metadata": {
    "cell_id": "4a652b71955047a8aa4738b663466468",
    "deepnote_cell_type": "code",
    "deepnote_to_be_reexecuted": false,
    "execution_millis": 13,
    "execution_start": 1670976274047,
    "source_hash": "e4cd06d",
    "tags": []
   },
   "outputs": [],
   "source": [
    "full_data = full_data.drop(columns=['index', 'timestamp', 'status'])"
   ]
  },
  {
   "cell_type": "markdown",
   "metadata": {
    "cell_id": "7e06bcec163a44cc89e2b927323d61d4",
    "deepnote_cell_type": "text-cell-p",
    "formattedRanges": [],
    "is_collapsed": false,
    "tags": []
   },
   "source": [
    "At this point, full_data is completely cleaned and ready to be used for model training. Note that full_data is our match-to-match dataset of every international match since 2015."
   ]
  },
  {
   "cell_type": "code",
   "execution_count": 285,
   "metadata": {
    "cell_id": "21e5a3739724447db27980e5a7df134f",
    "deepnote_cell_type": "code",
    "deepnote_to_be_reexecuted": false,
    "execution_millis": 2,
    "execution_start": 1670976281688,
    "source_hash": "1c0bde6c",
    "tags": []
   },
   "outputs": [
    {
     "name": "stdout",
     "output_type": "stream",
     "text": [
      "date_GMT + home_team_name + away_team_name + Pre_Match_PPG_Home + Pre_Match_PPG_Away + home_ppg + away_ppg + home_team_goal_count + away_team_goal_count + total_goal_count + total_goals_at_half_time + home_team_goal_count_half_time + away_team_goal_count_half_time + home_team_goal_timings + away_team_goal_timings + home_team_corner_count + away_team_corner_count + home_team_yellow_cards + home_team_red_cards + away_team_yellow_cards + away_team_red_cards + home_team_first_half_cards + home_team_second_half_cards + away_team_first_half_cards + away_team_second_half_cards + home_team_shots + away_team_shots + home_team_shots_on_target + away_team_shots_on_target + home_team_shots_off_target + away_team_shots_off_target + home_team_fouls + away_team_fouls + home_team_possession + away_team_possession + Home Team Pre-Match xG + Away Team Pre-Match xG + team_a_xg + team_b_xg + average_goals_per_match_pre_match + btts_percentage_pre_match + over_15_percentage_pre_match + over_25_percentage_pre_match + over_35_percentage_pre_match + over_45_percentage_pre_match + over_15_HT_FHG_percentage_pre_match + over_05_HT_FHG_percentage_pre_match + over_15_2HG_percentage_pre_match + over_05_2HG_percentage_pre_match + average_corners_per_match_pre_match + average_cards_per_match_pre_match + odds_ft_home_team_win + odds_ft_draw + odds_ft_away_team_win + odds_ft_over15 + odds_ft_over25 + odds_ft_over35 + odds_ft_over45 + odds_btts_yes + odds_btts_no + year + rank_home + country_full_home + country_abrv_home + total_points_home + previous_points_home + rank_change_home + rank_away + country_full_away + country_abrv_away + total_points_away + previous_points_away + rank_change_away + days_since + home_team_result + home_team_result_binary\n"
     ]
    }
   ],
   "source": [
    "text1 = full_data.columns.values.tolist()\n",
    "listToStr = ','.join([str(elem) for elem in text1])\n",
    "list1 = listToStr.replace(',', ' + ')\n",
    "print(list1)"
   ]
  },
  {
   "cell_type": "markdown",
   "metadata": {
    "cell_id": "bb89334382dd4b01a972d76e0e197fbe",
    "deepnote_cell_type": "text-cell-p",
    "formattedRanges": [],
    "is_collapsed": false,
    "tags": []
   },
   "source": [
    "Due to missing values in possession columns, we will take the country's average possession and impute these averages where there are no values recorded. (Need steps we took to get final_df inputted below):"
   ]
  },
  {
   "cell_type": "code",
   "execution_count": 286,
   "metadata": {
    "cell_id": "5a539d7575cc4b27acd5dda3ae245e7f",
    "deepnote_cell_type": "code",
    "deepnote_to_be_reexecuted": false,
    "execution_millis": 0,
    "execution_start": 1670976306890,
    "source_hash": "65d43d34",
    "tags": []
   },
   "outputs": [],
   "source": [
    "# From Tyler's code. Need all other team data here to be concatenated for possession calcuation:\n",
    "qualification_full = pd.concat([asia_cup_team,gold_cup_team,copa_team,arab_cup_team,wc_2018_team,\n",
    "                     friendly_2018_team, friendly_2019_team, friendly_2020_team,\n",
    "                     friendly_2021_team, friendly_2022_team, euro_2019_2020_team, nations_2018_2019_team,\n",
    "                     nations_2020_2021_team, nations_2022_2023_team, wc_qual_africa_team, wc_qual_asia_team, \n",
    "                     wc_qual_c_team, wc_qual_euro_team, wc_qual_inter_team, wc_qual_sa_team])"
   ]
  },
  {
   "cell_type": "code",
   "execution_count": 287,
   "metadata": {
    "cell_id": "c378a69dc9894d198d934396f5f05223",
    "deepnote_cell_type": "code",
    "deepnote_to_be_reexecuted": false,
    "execution_millis": 73,
    "execution_start": 1670976309568,
    "source_hash": "9a5dd2a9",
    "tags": []
   },
   "outputs": [
    {
     "data": {
      "text/html": [
       "<div>\n",
       "<style scoped>\n",
       "    .dataframe tbody tr th:only-of-type {\n",
       "        vertical-align: middle;\n",
       "    }\n",
       "\n",
       "    .dataframe tbody tr th {\n",
       "        vertical-align: top;\n",
       "    }\n",
       "\n",
       "    .dataframe thead th {\n",
       "        text-align: right;\n",
       "    }\n",
       "</style>\n",
       "<table border=\"1\" class=\"dataframe\">\n",
       "  <thead>\n",
       "    <tr style=\"text-align: right;\">\n",
       "      <th></th>\n",
       "      <th>country</th>\n",
       "      <th>average_possession</th>\n",
       "      <th>average_possession_home</th>\n",
       "      <th>average_possession_away</th>\n",
       "    </tr>\n",
       "  </thead>\n",
       "  <tbody>\n",
       "    <tr>\n",
       "      <th>0</th>\n",
       "      <td>Afghanistan</td>\n",
       "      <td>40.400000</td>\n",
       "      <td>29.000000</td>\n",
       "      <td>41.400000</td>\n",
       "    </tr>\n",
       "    <tr>\n",
       "      <th>1</th>\n",
       "      <td>Albania</td>\n",
       "      <td>51.444444</td>\n",
       "      <td>46.555556</td>\n",
       "      <td>37.666667</td>\n",
       "    </tr>\n",
       "    <tr>\n",
       "      <th>2</th>\n",
       "      <td>Algeria</td>\n",
       "      <td>53.857143</td>\n",
       "      <td>48.428571</td>\n",
       "      <td>44.142857</td>\n",
       "    </tr>\n",
       "    <tr>\n",
       "      <th>3</th>\n",
       "      <td>Andorra</td>\n",
       "      <td>37.111111</td>\n",
       "      <td>38.000000</td>\n",
       "      <td>31.333333</td>\n",
       "    </tr>\n",
       "    <tr>\n",
       "      <th>4</th>\n",
       "      <td>Angola</td>\n",
       "      <td>50.000000</td>\n",
       "      <td>26.750000</td>\n",
       "      <td>37.000000</td>\n",
       "    </tr>\n",
       "    <tr>\n",
       "      <th>...</th>\n",
       "      <td>...</td>\n",
       "      <td>...</td>\n",
       "      <td>...</td>\n",
       "      <td>...</td>\n",
       "    </tr>\n",
       "    <tr>\n",
       "      <th>203</th>\n",
       "      <td>Vietnam</td>\n",
       "      <td>36.800000</td>\n",
       "      <td>30.000000</td>\n",
       "      <td>15.400000</td>\n",
       "    </tr>\n",
       "    <tr>\n",
       "      <th>204</th>\n",
       "      <td>Wales</td>\n",
       "      <td>49.000000</td>\n",
       "      <td>48.600000</td>\n",
       "      <td>37.400000</td>\n",
       "    </tr>\n",
       "    <tr>\n",
       "      <th>205</th>\n",
       "      <td>Yemen</td>\n",
       "      <td>41.750000</td>\n",
       "      <td>24.000000</td>\n",
       "      <td>37.750000</td>\n",
       "    </tr>\n",
       "    <tr>\n",
       "      <th>206</th>\n",
       "      <td>Zambia</td>\n",
       "      <td>46.000000</td>\n",
       "      <td>25.500000</td>\n",
       "      <td>37.166667</td>\n",
       "    </tr>\n",
       "    <tr>\n",
       "      <th>207</th>\n",
       "      <td>Zimbabwe</td>\n",
       "      <td>19.200000</td>\n",
       "      <td>9.800000</td>\n",
       "      <td>18.600000</td>\n",
       "    </tr>\n",
       "  </tbody>\n",
       "</table>\n",
       "<p>208 rows × 4 columns</p>\n",
       "</div>"
      ],
      "text/plain": [
       "         country  average_possession  average_possession_home  \\\n",
       "0    Afghanistan           40.400000                29.000000   \n",
       "1        Albania           51.444444                46.555556   \n",
       "2        Algeria           53.857143                48.428571   \n",
       "3        Andorra           37.111111                38.000000   \n",
       "4         Angola           50.000000                26.750000   \n",
       "..           ...                 ...                      ...   \n",
       "203      Vietnam           36.800000                30.000000   \n",
       "204        Wales           49.000000                48.600000   \n",
       "205        Yemen           41.750000                24.000000   \n",
       "206       Zambia           46.000000                25.500000   \n",
       "207     Zimbabwe           19.200000                 9.800000   \n",
       "\n",
       "     average_possession_away  \n",
       "0                  41.400000  \n",
       "1                  37.666667  \n",
       "2                  44.142857  \n",
       "3                  31.333333  \n",
       "4                  37.000000  \n",
       "..                       ...  \n",
       "203                15.400000  \n",
       "204                37.400000  \n",
       "205                37.750000  \n",
       "206                37.166667  \n",
       "207                18.600000  \n",
       "\n",
       "[208 rows x 4 columns]"
      ]
     },
     "execution_count": 287,
     "metadata": {},
     "output_type": "execute_result"
    }
   ],
   "source": [
    "qualification_full = qualification_full.reset_index().drop(columns = ['index'])\n",
    "possession = qualification_full[['country', 'average_possession', 'average_possession_home', 'average_possession_away']]\n",
    "possession = possession.groupby('country').agg(np.average).reset_index()\n",
    "possession"
   ]
  },
  {
   "cell_type": "code",
   "execution_count": 288,
   "metadata": {
    "cell_id": "3973f3a928514b28b3cb19b9ce924c3b",
    "deepnote_cell_type": "code",
    "deepnote_to_be_reexecuted": false,
    "execution_millis": 436,
    "execution_start": 1670976312280,
    "source_hash": "1be6ac1",
    "tags": []
   },
   "outputs": [],
   "source": [
    "### Function to find who scored first:\n",
    "\n",
    "### HERE 1 means : home team scored first\n",
    "######## 0 means : neither home team or away team scored\n",
    "######## -1 means : away team scored first\n",
    "\n",
    "\n",
    "first_score_country = []\n",
    "who_won = []\n",
    "\n",
    "for index, row in full_data.iterrows():\n",
    "    temp_home_team_name = row['home_team_name']\n",
    "    temp_away_team_name = row['away_team_name']\n",
    "    \n",
    "    home_first_time = str(row['home_team_goal_timings']).split(',')[0]\n",
    "    away_first_time = str(row['away_team_goal_timings']).split(',')[0]\n",
    "    \n",
    "    if (home_first_time > away_first_time):\n",
    "        first_score_country.append(1)\n",
    "    elif (home_first_time < away_first_time):\n",
    "        first_score_country.append(-1)\n",
    "    else:\n",
    "        first_score_country.append(0)\n",
    "        \n",
    "    temp_home_team_goal_cnt = row['home_team_goal_count']\n",
    "    temp_away_team_goal_cnt = row['away_team_goal_count']\n",
    "    \n",
    "    if (temp_home_team_goal_cnt > temp_away_team_goal_cnt):\n",
    "        who_won.append(1)\n",
    "    elif (temp_home_team_goal_cnt < temp_away_team_goal_cnt):\n",
    "        who_won.append(-1)\n",
    "    else:\n",
    "        who_won.append(0)"
   ]
  },
  {
   "cell_type": "code",
   "execution_count": 289,
   "metadata": {
    "cell_id": "b81511ccdef54afaa6919ff07fa90343",
    "deepnote_cell_type": "code",
    "deepnote_to_be_reexecuted": false,
    "execution_millis": 3,
    "execution_start": 1670976314557,
    "source_hash": "3a9b0eff",
    "tags": []
   },
   "outputs": [],
   "source": [
    "full_data['first_score_country'] = first_score_country\n",
    "full_data['who_won'] = who_won"
   ]
  },
  {
   "cell_type": "code",
   "execution_count": 290,
   "metadata": {
    "cell_id": "11d8bc1021484c8f81f48e28cf2db78a",
    "deepnote_cell_type": "code",
    "deepnote_to_be_reexecuted": false,
    "execution_millis": 0,
    "execution_start": 1670975071428,
    "source_hash": "ca713359",
    "tags": []
   },
   "outputs": [],
   "source": [
    "full_data['home_team_result'] = full_data['home_team_result'].astype(int)\n",
    "full_data['home_team_result_binary'] = full_data['home_team_result_binary'].astype(int)"
   ]
  },
  {
   "cell_type": "code",
   "execution_count": 291,
   "metadata": {
    "cell_id": "4eff9e8693c54514ae9b37b41a23e112",
    "deepnote_cell_type": "code",
    "deepnote_to_be_reexecuted": false,
    "execution_millis": 0,
    "execution_start": 1670977248854,
    "source_hash": "4b584521",
    "tags": []
   },
   "outputs": [],
   "source": [
    "year = list(full_data['date_GMT'].str.split(' ', expand = True)[2])\n",
    "full_data['year'] = year"
   ]
  },
  {
   "cell_type": "code",
   "execution_count": 292,
   "metadata": {
    "cell_id": "bec537e6657e4e1bac67880e1f0e92c6",
    "deepnote_cell_type": "code",
    "deepnote_to_be_reexecuted": false,
    "execution_millis": 4,
    "execution_start": 1670977250366,
    "source_hash": "4f08802f",
    "tags": []
   },
   "outputs": [],
   "source": [
    "year_dummies = pd.get_dummies(full_data[['year']])"
   ]
  },
  {
   "cell_type": "code",
   "execution_count": 293,
   "metadata": {
    "cell_id": "312581dcf3e0433c942ba81a881a2f58",
    "deepnote_cell_type": "code",
    "deepnote_to_be_reexecuted": false,
    "execution_millis": 0,
    "execution_start": 1670977251922,
    "source_hash": "f4b21d72",
    "tags": []
   },
   "outputs": [],
   "source": [
    "full_data = pd.concat([full_data, year_dummies], axis = 1).drop(columns = ['year'])"
   ]
  },
  {
   "cell_type": "code",
   "execution_count": 294,
   "metadata": {
    "cell_id": "c7bcc3c3ecc5413793f88df1b4032699",
    "deepnote_cell_type": "code",
    "deepnote_to_be_reexecuted": false,
    "execution_millis": 0,
    "execution_start": 1670977254955,
    "source_hash": "e7940f27",
    "tags": []
   },
   "outputs": [],
   "source": [
    "def converting_home_and_away(df):\n",
    "    '''Input : a df\n",
    "    what it does : it converts home to team1 and away to team2 on the column index'''\n",
    "    \n",
    "    for column in list(df.columns):\n",
    "        if 'home_team' in str(column):\n",
    "            df = df.rename(columns = {column : column.replace('home_team', 'team1')})\n",
    "        elif 'away_team' in column:\n",
    "            df = df.rename(columns = {column : column.replace('away_team', 'team2')})\n",
    "        elif 'home' in column:\n",
    "            df = df.rename(columns = {column : column.replace('home', 'team1')})\n",
    "        elif 'away' in column:\n",
    "            df = df.rename(columns = {column : column.replace('away', 'team2')})\n",
    "        else:\n",
    "            continue\n",
    "            \n",
    "    return df"
   ]
  },
  {
   "cell_type": "code",
   "execution_count": 295,
   "metadata": {
    "cell_id": "e502fd8035fc4bf287c82e250c988c0d",
    "deepnote_cell_type": "code",
    "deepnote_to_be_reexecuted": false,
    "execution_millis": 144,
    "execution_start": 1670977291633,
    "source_hash": "7f1645d6",
    "tags": []
   },
   "outputs": [
    {
     "data": {
      "text/html": [
       "<div>\n",
       "<style scoped>\n",
       "    .dataframe tbody tr th:only-of-type {\n",
       "        vertical-align: middle;\n",
       "    }\n",
       "\n",
       "    .dataframe tbody tr th {\n",
       "        vertical-align: top;\n",
       "    }\n",
       "\n",
       "    .dataframe thead th {\n",
       "        text-align: right;\n",
       "    }\n",
       "</style>\n",
       "<table border=\"1\" class=\"dataframe\">\n",
       "  <thead>\n",
       "    <tr style=\"text-align: right;\">\n",
       "      <th></th>\n",
       "      <th>date_GMT</th>\n",
       "      <th>team1_name</th>\n",
       "      <th>team2_name</th>\n",
       "      <th>Pre_Match_PPG_Home</th>\n",
       "      <th>Pre_Match_PPG_Away</th>\n",
       "      <th>team1_ppg</th>\n",
       "      <th>team2_ppg</th>\n",
       "      <th>team1_goal_count</th>\n",
       "      <th>team2_goal_count</th>\n",
       "      <th>total_goal_count</th>\n",
       "      <th>...</th>\n",
       "      <th>days_since</th>\n",
       "      <th>team1_result</th>\n",
       "      <th>team1_result_binary</th>\n",
       "      <th>first_score_country</th>\n",
       "      <th>who_won</th>\n",
       "      <th>year_2018</th>\n",
       "      <th>year_2019</th>\n",
       "      <th>year_2020</th>\n",
       "      <th>year_2021</th>\n",
       "      <th>year_2022</th>\n",
       "    </tr>\n",
       "  </thead>\n",
       "  <tbody>\n",
       "    <tr>\n",
       "      <th>0</th>\n",
       "      <td>Oct 07 2021 - 12:00pm</td>\n",
       "      <td>Indonesia</td>\n",
       "      <td>Taiwan</td>\n",
       "      <td>0.00</td>\n",
       "      <td>0.00</td>\n",
       "      <td>2.40</td>\n",
       "      <td>0.00</td>\n",
       "      <td>2</td>\n",
       "      <td>1</td>\n",
       "      <td>3</td>\n",
       "      <td>...</td>\n",
       "      <td>433</td>\n",
       "      <td>1</td>\n",
       "      <td>1</td>\n",
       "      <td>-1</td>\n",
       "      <td>1</td>\n",
       "      <td>0</td>\n",
       "      <td>0</td>\n",
       "      <td>0</td>\n",
       "      <td>1</td>\n",
       "      <td>0</td>\n",
       "    </tr>\n",
       "    <tr>\n",
       "      <th>1</th>\n",
       "      <td>Oct 09 2021 - 5:30pm</td>\n",
       "      <td>Guam</td>\n",
       "      <td>Cambodia</td>\n",
       "      <td>0.00</td>\n",
       "      <td>0.00</td>\n",
       "      <td>0.00</td>\n",
       "      <td>1.40</td>\n",
       "      <td>0</td>\n",
       "      <td>1</td>\n",
       "      <td>1</td>\n",
       "      <td>...</td>\n",
       "      <td>431</td>\n",
       "      <td>0</td>\n",
       "      <td>0</td>\n",
       "      <td>-1</td>\n",
       "      <td>-1</td>\n",
       "      <td>0</td>\n",
       "      <td>0</td>\n",
       "      <td>0</td>\n",
       "      <td>1</td>\n",
       "      <td>0</td>\n",
       "    </tr>\n",
       "    <tr>\n",
       "      <th>2</th>\n",
       "      <td>Oct 11 2021 - 1:00pm</td>\n",
       "      <td>Taiwan</td>\n",
       "      <td>Indonesia</td>\n",
       "      <td>0.00</td>\n",
       "      <td>3.00</td>\n",
       "      <td>0.00</td>\n",
       "      <td>2.40</td>\n",
       "      <td>0</td>\n",
       "      <td>3</td>\n",
       "      <td>3</td>\n",
       "      <td>...</td>\n",
       "      <td>429</td>\n",
       "      <td>0</td>\n",
       "      <td>0</td>\n",
       "      <td>-1</td>\n",
       "      <td>-1</td>\n",
       "      <td>0</td>\n",
       "      <td>0</td>\n",
       "      <td>0</td>\n",
       "      <td>1</td>\n",
       "      <td>0</td>\n",
       "    </tr>\n",
       "    <tr>\n",
       "      <th>3</th>\n",
       "      <td>Oct 12 2021 - 4:00pm</td>\n",
       "      <td>Cambodia</td>\n",
       "      <td>Guam</td>\n",
       "      <td>3.00</td>\n",
       "      <td>0.00</td>\n",
       "      <td>1.40</td>\n",
       "      <td>0.00</td>\n",
       "      <td>2</td>\n",
       "      <td>1</td>\n",
       "      <td>3</td>\n",
       "      <td>...</td>\n",
       "      <td>428</td>\n",
       "      <td>1</td>\n",
       "      <td>1</td>\n",
       "      <td>1</td>\n",
       "      <td>1</td>\n",
       "      <td>0</td>\n",
       "      <td>0</td>\n",
       "      <td>0</td>\n",
       "      <td>1</td>\n",
       "      <td>0</td>\n",
       "    </tr>\n",
       "    <tr>\n",
       "      <th>4</th>\n",
       "      <td>Jun 08 2022 - 4:30am</td>\n",
       "      <td>Philippines</td>\n",
       "      <td>Yemen</td>\n",
       "      <td>0.00</td>\n",
       "      <td>0.00</td>\n",
       "      <td>1.33</td>\n",
       "      <td>0.33</td>\n",
       "      <td>0</td>\n",
       "      <td>0</td>\n",
       "      <td>0</td>\n",
       "      <td>...</td>\n",
       "      <td>189</td>\n",
       "      <td>0</td>\n",
       "      <td>0</td>\n",
       "      <td>0</td>\n",
       "      <td>0</td>\n",
       "      <td>0</td>\n",
       "      <td>0</td>\n",
       "      <td>0</td>\n",
       "      <td>0</td>\n",
       "      <td>1</td>\n",
       "    </tr>\n",
       "    <tr>\n",
       "      <th>...</th>\n",
       "      <td>...</td>\n",
       "      <td>...</td>\n",
       "      <td>...</td>\n",
       "      <td>...</td>\n",
       "      <td>...</td>\n",
       "      <td>...</td>\n",
       "      <td>...</td>\n",
       "      <td>...</td>\n",
       "      <td>...</td>\n",
       "      <td>...</td>\n",
       "      <td>...</td>\n",
       "      <td>...</td>\n",
       "      <td>...</td>\n",
       "      <td>...</td>\n",
       "      <td>...</td>\n",
       "      <td>...</td>\n",
       "      <td>...</td>\n",
       "      <td>...</td>\n",
       "      <td>...</td>\n",
       "      <td>...</td>\n",
       "      <td>...</td>\n",
       "    </tr>\n",
       "    <tr>\n",
       "      <th>3280</th>\n",
       "      <td>Mar 29 2022 - 11:30pm</td>\n",
       "      <td>Bolivia</td>\n",
       "      <td>Brazil</td>\n",
       "      <td>0.88</td>\n",
       "      <td>2.63</td>\n",
       "      <td>0.83</td>\n",
       "      <td>2.65</td>\n",
       "      <td>0</td>\n",
       "      <td>4</td>\n",
       "      <td>4</td>\n",
       "      <td>...</td>\n",
       "      <td>260</td>\n",
       "      <td>0</td>\n",
       "      <td>0</td>\n",
       "      <td>-1</td>\n",
       "      <td>-1</td>\n",
       "      <td>0</td>\n",
       "      <td>0</td>\n",
       "      <td>0</td>\n",
       "      <td>0</td>\n",
       "      <td>1</td>\n",
       "    </tr>\n",
       "    <tr>\n",
       "      <th>3281</th>\n",
       "      <td>Mar 29 2022 - 11:30pm</td>\n",
       "      <td>Ecuador</td>\n",
       "      <td>Argentina</td>\n",
       "      <td>1.47</td>\n",
       "      <td>2.38</td>\n",
       "      <td>1.44</td>\n",
       "      <td>2.29</td>\n",
       "      <td>1</td>\n",
       "      <td>1</td>\n",
       "      <td>2</td>\n",
       "      <td>...</td>\n",
       "      <td>260</td>\n",
       "      <td>0</td>\n",
       "      <td>0</td>\n",
       "      <td>1</td>\n",
       "      <td>0</td>\n",
       "      <td>0</td>\n",
       "      <td>0</td>\n",
       "      <td>0</td>\n",
       "      <td>0</td>\n",
       "      <td>1</td>\n",
       "    </tr>\n",
       "    <tr>\n",
       "      <th>3282</th>\n",
       "      <td>Mar 29 2022 - 11:30pm</td>\n",
       "      <td>Peru</td>\n",
       "      <td>Paraguay</td>\n",
       "      <td>1.24</td>\n",
       "      <td>0.94</td>\n",
       "      <td>1.33</td>\n",
       "      <td>0.89</td>\n",
       "      <td>2</td>\n",
       "      <td>0</td>\n",
       "      <td>2</td>\n",
       "      <td>...</td>\n",
       "      <td>260</td>\n",
       "      <td>1</td>\n",
       "      <td>1</td>\n",
       "      <td>1</td>\n",
       "      <td>1</td>\n",
       "      <td>0</td>\n",
       "      <td>0</td>\n",
       "      <td>0</td>\n",
       "      <td>0</td>\n",
       "      <td>1</td>\n",
       "    </tr>\n",
       "    <tr>\n",
       "      <th>3283</th>\n",
       "      <td>Mar 29 2022 - 11:30pm</td>\n",
       "      <td>Chile</td>\n",
       "      <td>Uruguay</td>\n",
       "      <td>1.12</td>\n",
       "      <td>1.47</td>\n",
       "      <td>1.06</td>\n",
       "      <td>1.56</td>\n",
       "      <td>0</td>\n",
       "      <td>2</td>\n",
       "      <td>2</td>\n",
       "      <td>...</td>\n",
       "      <td>260</td>\n",
       "      <td>0</td>\n",
       "      <td>0</td>\n",
       "      <td>-1</td>\n",
       "      <td>-1</td>\n",
       "      <td>0</td>\n",
       "      <td>0</td>\n",
       "      <td>0</td>\n",
       "      <td>0</td>\n",
       "      <td>1</td>\n",
       "    </tr>\n",
       "    <tr>\n",
       "      <th>3284</th>\n",
       "      <td>Mar 29 2022 - 11:30pm</td>\n",
       "      <td>Venezuela</td>\n",
       "      <td>Colombia</td>\n",
       "      <td>0.59</td>\n",
       "      <td>1.18</td>\n",
       "      <td>0.56</td>\n",
       "      <td>1.28</td>\n",
       "      <td>0</td>\n",
       "      <td>1</td>\n",
       "      <td>1</td>\n",
       "      <td>...</td>\n",
       "      <td>260</td>\n",
       "      <td>0</td>\n",
       "      <td>0</td>\n",
       "      <td>-1</td>\n",
       "      <td>-1</td>\n",
       "      <td>0</td>\n",
       "      <td>0</td>\n",
       "      <td>0</td>\n",
       "      <td>0</td>\n",
       "      <td>1</td>\n",
       "    </tr>\n",
       "  </tbody>\n",
       "</table>\n",
       "<p>3057 rows × 82 columns</p>\n",
       "</div>"
      ],
      "text/plain": [
       "                   date_GMT   team1_name team2_name  Pre_Match_PPG_Home  \\\n",
       "0     Oct 07 2021 - 12:00pm    Indonesia     Taiwan                0.00   \n",
       "1      Oct 09 2021 - 5:30pm         Guam   Cambodia                0.00   \n",
       "2      Oct 11 2021 - 1:00pm       Taiwan  Indonesia                0.00   \n",
       "3      Oct 12 2021 - 4:00pm     Cambodia       Guam                3.00   \n",
       "4      Jun 08 2022 - 4:30am  Philippines      Yemen                0.00   \n",
       "...                     ...          ...        ...                 ...   \n",
       "3280  Mar 29 2022 - 11:30pm      Bolivia     Brazil                0.88   \n",
       "3281  Mar 29 2022 - 11:30pm      Ecuador  Argentina                1.47   \n",
       "3282  Mar 29 2022 - 11:30pm         Peru   Paraguay                1.24   \n",
       "3283  Mar 29 2022 - 11:30pm        Chile    Uruguay                1.12   \n",
       "3284  Mar 29 2022 - 11:30pm    Venezuela   Colombia                0.59   \n",
       "\n",
       "      Pre_Match_PPG_Away  team1_ppg  team2_ppg  team1_goal_count  \\\n",
       "0                   0.00       2.40       0.00                 2   \n",
       "1                   0.00       0.00       1.40                 0   \n",
       "2                   3.00       0.00       2.40                 0   \n",
       "3                   0.00       1.40       0.00                 2   \n",
       "4                   0.00       1.33       0.33                 0   \n",
       "...                  ...        ...        ...               ...   \n",
       "3280                2.63       0.83       2.65                 0   \n",
       "3281                2.38       1.44       2.29                 1   \n",
       "3282                0.94       1.33       0.89                 2   \n",
       "3283                1.47       1.06       1.56                 0   \n",
       "3284                1.18       0.56       1.28                 0   \n",
       "\n",
       "      team2_goal_count  total_goal_count  ...  days_since  team1_result  \\\n",
       "0                    1                 3  ...         433             1   \n",
       "1                    1                 1  ...         431             0   \n",
       "2                    3                 3  ...         429             0   \n",
       "3                    1                 3  ...         428             1   \n",
       "4                    0                 0  ...         189             0   \n",
       "...                ...               ...  ...         ...           ...   \n",
       "3280                 4                 4  ...         260             0   \n",
       "3281                 1                 2  ...         260             0   \n",
       "3282                 0                 2  ...         260             1   \n",
       "3283                 2                 2  ...         260             0   \n",
       "3284                 1                 1  ...         260             0   \n",
       "\n",
       "      team1_result_binary first_score_country who_won  year_2018  year_2019  \\\n",
       "0                       1                  -1       1          0          0   \n",
       "1                       0                  -1      -1          0          0   \n",
       "2                       0                  -1      -1          0          0   \n",
       "3                       1                   1       1          0          0   \n",
       "4                       0                   0       0          0          0   \n",
       "...                   ...                 ...     ...        ...        ...   \n",
       "3280                    0                  -1      -1          0          0   \n",
       "3281                    0                   1       0          0          0   \n",
       "3282                    1                   1       1          0          0   \n",
       "3283                    0                  -1      -1          0          0   \n",
       "3284                    0                  -1      -1          0          0   \n",
       "\n",
       "      year_2020  year_2021  year_2022  \n",
       "0             0          1          0  \n",
       "1             0          1          0  \n",
       "2             0          1          0  \n",
       "3             0          1          0  \n",
       "4             0          0          1  \n",
       "...         ...        ...        ...  \n",
       "3280          0          0          1  \n",
       "3281          0          0          1  \n",
       "3282          0          0          1  \n",
       "3283          0          0          1  \n",
       "3284          0          0          1  \n",
       "\n",
       "[3057 rows x 82 columns]"
      ]
     },
     "execution_count": 295,
     "metadata": {},
     "output_type": "execute_result"
    }
   ],
   "source": [
    "full_data = converting_home_and_away(full_data)\n",
    "full_data "
   ]
  },
  {
   "cell_type": "code",
   "execution_count": 300,
   "metadata": {},
   "outputs": [],
   "source": [
    "full_data = full_data.dropna()"
   ]
  },
  {
   "cell_type": "markdown",
   "metadata": {
    "cell_id": "5006d46fc0ba46aca5e2d9ec224595cd",
    "deepnote_cell_type": "text-cell-h1",
    "formattedRanges": [],
    "is_collapsed": false,
    "tags": []
   },
   "source": [
    "# Feature Selection here?"
   ]
  },
  {
   "cell_type": "markdown",
   "metadata": {
    "cell_id": "d16f27be946147f4acb808fe3b608186",
    "deepnote_cell_type": "text-cell-h2",
    "formattedRanges": [],
    "is_collapsed": false,
    "tags": []
   },
   "source": [
    "## VIF:"
   ]
  },
  {
   "cell_type": "code",
   "execution_count": 296,
   "metadata": {
    "cell_id": "13bbbba4f9e44c3e8c22aa4369e54a65",
    "deepnote_cell_type": "code",
    "deepnote_to_be_reexecuted": false,
    "execution_millis": 0,
    "execution_start": 1670977318127,
    "source_hash": "3c59f3e4",
    "tags": []
   },
   "outputs": [],
   "source": [
    "from statsmodels.stats.outliers_influence import variance_inflation_factor\n",
    "def VIF(df, columns):\n",
    "    values = sm.add_constant(df[columns]).values\n",
    "    num_columns = len(columns)+1\n",
    "    vif = [variance_inflation_factor(values, i) for i in range(num_columns)]\n",
    "    return pd.Series(vif[1:], index=columns)"
   ]
  },
  {
   "cell_type": "markdown",
   "metadata": {
    "cell_id": "27dfd1f120be4f5bb328fb1d60c60ed1",
    "deepnote_cell_type": "markdown",
    "tags": []
   },
   "source": [
    "Since, we are building a model that predicts the reuslt of a game based on game statisitics, I was able to remove some relevant columns by hands. Notice that 'home_team_goal_timings' and 'away_team_goal_timings' are removed because those were used to create 'who_won' column(our dependent variable) and 'first_score_country'."
   ]
  },
  {
   "cell_type": "code",
   "execution_count": 365,
   "metadata": {
    "cell_id": "b79aa5eae6974b69815bbc04282df09c",
    "deepnote_cell_type": "code",
    "deepnote_to_be_reexecuted": false,
    "execution_millis": 2,
    "execution_start": 1670977419518,
    "source_hash": "19fd4625",
    "tags": []
   },
   "outputs": [],
   "source": [
    "vif_columns = list(full_data.columns)"
   ]
  },
  {
   "cell_type": "code",
   "execution_count": 366,
   "metadata": {
    "cell_id": "d19b1acb8dfe4b2ea645d434584cbfa2",
    "deepnote_cell_type": "code",
    "deepnote_to_be_reexecuted": false,
    "execution_millis": 1,
    "execution_start": 1670977421983,
    "source_hash": "6970bf5a",
    "tags": []
   },
   "outputs": [],
   "source": [
    "vif_columns.remove('date_GMT')\n",
    "vif_columns.remove('team1_name')\n",
    "vif_columns.remove('team2_name')\n",
    "vif_columns.remove('team1_goal_timings')\n",
    "vif_columns.remove('team2_goal_timings')\n",
    "vif_columns.remove('who_won')\n",
    "vif_columns.remove('team1_result_binary')\n",
    "vif_columns.remove('team1_result')\n",
    "vif_columns.remove('country_abrv_team2')\n",
    "vif_columns.remove('country_full_team2')\n",
    "vif_columns.remove('country_abrv_team1')\n",
    "vif_columns.remove('country_full_team1')\n",
    "vif_columns.remove('previous_points_team2')\n",
    "vif_columns.remove('previous_points_team1')\n",
    "vif_columns.remove('total_points_team2')\n",
    "vif_columns.remove('team_a_xg')\n",
    "vif_columns.remove('total_points_team1')\n",
    "vif_columns.remove('days_since')\n",
    "vif_columns.remove('team1_possession')\n",
    "vif_columns.remove('average_goals_per_match_pre_match')\n",
    "vif_columns.remove('team_b_xg')\n",
    "vif_columns.remove('odds_ft_over35')"
   ]
  },
  {
   "cell_type": "code",
   "execution_count": 369,
   "metadata": {
    "cell_id": "3394961b6ac44117bc342c60fd9b91a1",
    "deepnote_cell_type": "code",
    "deepnote_table_loading": false,
    "deepnote_table_state": {
     "filters": [],
     "pageIndex": 0,
     "pageSize": 100,
     "sortBy": []
    },
    "deepnote_to_be_reexecuted": false,
    "execution_millis": 7560,
    "execution_start": 1670978378946,
    "source_hash": "ba0c7231",
    "tags": []
   },
   "outputs": [
    {
     "name": "stderr",
     "output_type": "stream",
     "text": [
      "/Users/kiangolestaneh/opt/anaconda3/lib/python3.9/site-packages/statsmodels/regression/linear_model.py:1736: RuntimeWarning: divide by zero encountered in double_scalars\n",
      "  return 1 - self.ssr/self.centered_tss\n",
      "/Users/kiangolestaneh/opt/anaconda3/lib/python3.9/site-packages/statsmodels/stats/outliers_influence.py:195: RuntimeWarning: divide by zero encountered in double_scalars\n",
      "  vif = 1. / (1. - r_squared_i)\n"
     ]
    },
    {
     "data": {
      "text/html": [
       "<div>\n",
       "<style scoped>\n",
       "    .dataframe tbody tr th:only-of-type {\n",
       "        vertical-align: middle;\n",
       "    }\n",
       "\n",
       "    .dataframe tbody tr th {\n",
       "        vertical-align: top;\n",
       "    }\n",
       "\n",
       "    .dataframe thead th {\n",
       "        text-align: right;\n",
       "    }\n",
       "</style>\n",
       "<table border=\"1\" class=\"dataframe\">\n",
       "  <thead>\n",
       "    <tr style=\"text-align: right;\">\n",
       "      <th></th>\n",
       "      <th>0</th>\n",
       "    </tr>\n",
       "  </thead>\n",
       "  <tbody>\n",
       "    <tr>\n",
       "      <th>Pre_Match_PPG_Home</th>\n",
       "      <td>2.290205</td>\n",
       "    </tr>\n",
       "    <tr>\n",
       "      <th>Pre_Match_PPG_Away</th>\n",
       "      <td>2.448734</td>\n",
       "    </tr>\n",
       "    <tr>\n",
       "      <th>team1_ppg</th>\n",
       "      <td>2.437796</td>\n",
       "    </tr>\n",
       "    <tr>\n",
       "      <th>team2_ppg</th>\n",
       "      <td>2.778330</td>\n",
       "    </tr>\n",
       "    <tr>\n",
       "      <th>team1_corner_count</th>\n",
       "      <td>2.249693</td>\n",
       "    </tr>\n",
       "    <tr>\n",
       "      <th>team2_corner_count</th>\n",
       "      <td>2.219151</td>\n",
       "    </tr>\n",
       "    <tr>\n",
       "      <th>team1_fouls</th>\n",
       "      <td>2.968776</td>\n",
       "    </tr>\n",
       "    <tr>\n",
       "      <th>team2_fouls</th>\n",
       "      <td>2.883360</td>\n",
       "    </tr>\n",
       "    <tr>\n",
       "      <th>team2_possession</th>\n",
       "      <td>6.102458</td>\n",
       "    </tr>\n",
       "    <tr>\n",
       "      <th>Home Team Pre-Match xG</th>\n",
       "      <td>2.174909</td>\n",
       "    </tr>\n",
       "    <tr>\n",
       "      <th>Away Team Pre-Match xG</th>\n",
       "      <td>1.842288</td>\n",
       "    </tr>\n",
       "    <tr>\n",
       "      <th>btts_percentage_pre_match</th>\n",
       "      <td>2.380474</td>\n",
       "    </tr>\n",
       "    <tr>\n",
       "      <th>over_15_percentage_pre_match</th>\n",
       "      <td>6.909567</td>\n",
       "    </tr>\n",
       "    <tr>\n",
       "      <th>over_25_percentage_pre_match</th>\n",
       "      <td>5.152663</td>\n",
       "    </tr>\n",
       "    <tr>\n",
       "      <th>over_35_percentage_pre_match</th>\n",
       "      <td>3.713201</td>\n",
       "    </tr>\n",
       "    <tr>\n",
       "      <th>over_45_percentage_pre_match</th>\n",
       "      <td>2.612019</td>\n",
       "    </tr>\n",
       "    <tr>\n",
       "      <th>over_15_HT_FHG_percentage_pre_match</th>\n",
       "      <td>2.924098</td>\n",
       "    </tr>\n",
       "    <tr>\n",
       "      <th>over_05_HT_FHG_percentage_pre_match</th>\n",
       "      <td>3.712836</td>\n",
       "    </tr>\n",
       "    <tr>\n",
       "      <th>over_15_2HG_percentage_pre_match</th>\n",
       "      <td>3.846279</td>\n",
       "    </tr>\n",
       "    <tr>\n",
       "      <th>over_05_2HG_percentage_pre_match</th>\n",
       "      <td>4.425074</td>\n",
       "    </tr>\n",
       "    <tr>\n",
       "      <th>average_corners_per_match_pre_match</th>\n",
       "      <td>2.982869</td>\n",
       "    </tr>\n",
       "    <tr>\n",
       "      <th>average_cards_per_match_pre_match</th>\n",
       "      <td>2.149142</td>\n",
       "    </tr>\n",
       "    <tr>\n",
       "      <th>odds_ft_team1_win</th>\n",
       "      <td>2.433664</td>\n",
       "    </tr>\n",
       "    <tr>\n",
       "      <th>odds_ft_draw</th>\n",
       "      <td>4.122695</td>\n",
       "    </tr>\n",
       "    <tr>\n",
       "      <th>odds_ft_team2_win</th>\n",
       "      <td>3.392291</td>\n",
       "    </tr>\n",
       "    <tr>\n",
       "      <th>odds_ft_over15</th>\n",
       "      <td>5.439224</td>\n",
       "    </tr>\n",
       "    <tr>\n",
       "      <th>odds_ft_over25</th>\n",
       "      <td>5.184065</td>\n",
       "    </tr>\n",
       "    <tr>\n",
       "      <th>odds_ft_over45</th>\n",
       "      <td>2.550021</td>\n",
       "    </tr>\n",
       "    <tr>\n",
       "      <th>odds_btts_yes</th>\n",
       "      <td>2.278744</td>\n",
       "    </tr>\n",
       "    <tr>\n",
       "      <th>odds_btts_no</th>\n",
       "      <td>2.449938</td>\n",
       "    </tr>\n",
       "    <tr>\n",
       "      <th>rank_team1</th>\n",
       "      <td>3.632220</td>\n",
       "    </tr>\n",
       "    <tr>\n",
       "      <th>rank_change_team1</th>\n",
       "      <td>1.044730</td>\n",
       "    </tr>\n",
       "    <tr>\n",
       "      <th>rank_team2</th>\n",
       "      <td>3.647744</td>\n",
       "    </tr>\n",
       "    <tr>\n",
       "      <th>rank_change_team2</th>\n",
       "      <td>1.038605</td>\n",
       "    </tr>\n",
       "    <tr>\n",
       "      <th>first_score_country</th>\n",
       "      <td>1.376870</td>\n",
       "    </tr>\n",
       "  </tbody>\n",
       "</table>\n",
       "</div>"
      ],
      "text/plain": [
       "                                            0\n",
       "Pre_Match_PPG_Home                   2.290205\n",
       "Pre_Match_PPG_Away                   2.448734\n",
       "team1_ppg                            2.437796\n",
       "team2_ppg                            2.778330\n",
       "team1_corner_count                   2.249693\n",
       "team2_corner_count                   2.219151\n",
       "team1_fouls                          2.968776\n",
       "team2_fouls                          2.883360\n",
       "team2_possession                     6.102458\n",
       "Home Team Pre-Match xG               2.174909\n",
       "Away Team Pre-Match xG               1.842288\n",
       "btts_percentage_pre_match            2.380474\n",
       "over_15_percentage_pre_match         6.909567\n",
       "over_25_percentage_pre_match         5.152663\n",
       "over_35_percentage_pre_match         3.713201\n",
       "over_45_percentage_pre_match         2.612019\n",
       "over_15_HT_FHG_percentage_pre_match  2.924098\n",
       "over_05_HT_FHG_percentage_pre_match  3.712836\n",
       "over_15_2HG_percentage_pre_match     3.846279\n",
       "over_05_2HG_percentage_pre_match     4.425074\n",
       "average_corners_per_match_pre_match  2.982869\n",
       "average_cards_per_match_pre_match    2.149142\n",
       "odds_ft_team1_win                    2.433664\n",
       "odds_ft_draw                         4.122695\n",
       "odds_ft_team2_win                    3.392291\n",
       "odds_ft_over15                       5.439224\n",
       "odds_ft_over25                       5.184065\n",
       "odds_ft_over45                       2.550021\n",
       "odds_btts_yes                        2.278744\n",
       "odds_btts_no                         2.449938\n",
       "rank_team1                           3.632220\n",
       "rank_change_team1                    1.044730\n",
       "rank_team2                           3.647744\n",
       "rank_change_team2                    1.038605\n",
       "first_score_country                  1.376870"
      ]
     },
     "execution_count": 369,
     "metadata": {},
     "output_type": "execute_result"
    }
   ],
   "source": [
    "vif_output = VIF(full_data, vif_columns).to_frame()\n",
    "vif_output.replace([np.inf, -np.inf], np.nan, inplace=True)\n",
    "vif_output.dropna(inplace=True)\n",
    "vif_output.index.values.tolist()\n",
    "#vif_output[vif_output[0]>5].sort_values(by=0, ascending=False)\n",
    "vif_output"
   ]
  },
  {
   "cell_type": "code",
   "execution_count": 419,
   "metadata": {},
   "outputs": [],
   "source": [
    "vifs = list(vif_output.reset_index()['index'])"
   ]
  },
  {
   "cell_type": "code",
   "execution_count": 420,
   "metadata": {},
   "outputs": [],
   "source": [
    "vifs.append('who_won')"
   ]
  },
  {
   "cell_type": "code",
   "execution_count": 423,
   "metadata": {
    "cell_id": "21f0c2561d0f422c9bb92d0428b2bb0d",
    "deepnote_cell_type": "code",
    "deepnote_to_be_reexecuted": false,
    "execution_millis": 1,
    "execution_start": 1670979474969,
    "source_hash": "e88a3f71",
    "tags": []
   },
   "outputs": [],
   "source": [
    "final_cols = vifs"
   ]
  },
  {
   "cell_type": "markdown",
   "metadata": {
    "cell_id": "0f4e80140a754b879c4badfa5a952bed",
    "deepnote_cell_type": "text-cell-h1",
    "formattedRanges": [],
    "is_collapsed": false,
    "tags": []
   },
   "source": [
    "# Splitting the Data for Modeling:"
   ]
  },
  {
   "cell_type": "code",
   "execution_count": 424,
   "metadata": {
    "cell_id": "51694414abfa42e5a4b7705302501466",
    "deepnote_cell_type": "code",
    "deepnote_to_be_reexecuted": false,
    "execution_millis": 5,
    "execution_start": 1670977752054,
    "source_hash": "d1afad08",
    "tags": []
   },
   "outputs": [],
   "source": [
    "from sklearn.model_selection import train_test_split\n",
    "import statsmodels.formula.api as smf\n",
    "#Using Tyler's filtered data for now. Can go back to using original full_data if needed.\n",
    "temp_full_data = full_data[final_cols]\n",
    "full_data_train, full_data_test = train_test_split(temp_full_data, test_size=0.25, random_state=44)"
   ]
  },
  {
   "cell_type": "code",
   "execution_count": 425,
   "metadata": {
    "cell_id": "d729d58befb14395b6d6f755c1e3ad37",
    "deepnote_cell_type": "code",
    "deepnote_to_be_reexecuted": false,
    "execution_millis": 15,
    "execution_start": 1670977753942,
    "source_hash": "eefb58af",
    "tags": []
   },
   "outputs": [],
   "source": [
    "y_train = full_data_train['who_won']\n",
    "X_train = full_data_train.drop(['who_won'], axis=1)\n",
    "\n",
    "y_test = full_data_test['who_won']\n",
    "X_test = full_data_test.drop(['who_won'], axis=1)"
   ]
  },
  {
   "cell_type": "markdown",
   "metadata": {
    "cell_id": "0919576d6b3448fc9d40f6f0d131d797",
    "deepnote_cell_type": "text-cell-h1",
    "formattedRanges": [],
    "is_collapsed": false,
    "tags": []
   },
   "source": [
    "# Models:"
   ]
  },
  {
   "cell_type": "markdown",
   "metadata": {
    "cell_id": "dff0283bbd974b498d59e84722c3bd49",
    "deepnote_cell_type": "text-cell-h2",
    "formattedRanges": [],
    "is_collapsed": false,
    "tags": []
   },
   "source": [
    "## Logistic Regression:"
   ]
  },
  {
   "cell_type": "code",
   "execution_count": 426,
   "metadata": {
    "cell_id": "77864c2d3c964486ab9a34cb122e90b5",
    "deepnote_cell_type": "code",
    "deepnote_to_be_reexecuted": false,
    "execution_millis": 100,
    "execution_start": 1670977756740,
    "source_hash": "f5840d5c",
    "tags": []
   },
   "outputs": [
    {
     "name": "stdout",
     "output_type": "stream",
     "text": [
      "Optimization terminated successfully.\n",
      "         Current function value: 0.555398\n",
      "         Iterations 8\n",
      "                          MNLogit Regression Results                          \n",
      "==============================================================================\n",
      "Dep. Variable:                who_won   No. Observations:                 2180\n",
      "Model:                        MNLogit   Df Residuals:                     2110\n",
      "Method:                           MLE   Df Model:                           68\n",
      "Date:                Wed, 14 Dec 2022   Pseudo R-squ.:                  0.4736\n",
      "Time:                        20:28:00   Log-Likelihood:                -1210.8\n",
      "converged:                       True   LL-Null:                       -2300.3\n",
      "Covariance Type:            nonrobust   LLR p-value:                     0.000\n",
      "=======================================================================================================\n",
      "                          who_won=0       coef    std err          z      P>|z|      [0.025      0.975]\n",
      "-------------------------------------------------------------------------------------------------------\n",
      "Pre_Match_PPG_Home                     -0.5419      0.121     -4.486      0.000      -0.779      -0.305\n",
      "Pre_Match_PPG_Away                      0.5581      0.113      4.955      0.000       0.337       0.779\n",
      "team1_ppg                               2.0253      0.192     10.566      0.000       1.650       2.401\n",
      "team2_ppg                              -2.0060      0.172    -11.665      0.000      -2.343      -1.669\n",
      "team1_corner_count                     -0.0633      0.029     -2.202      0.028      -0.120      -0.007\n",
      "team2_corner_count                     -0.0624      0.036     -1.735      0.083      -0.133       0.008\n",
      "team1_fouls                             0.0196      0.019      1.035      0.301      -0.018       0.057\n",
      "team2_fouls                            -0.0242      0.017     -1.389      0.165      -0.058       0.010\n",
      "team2_possession                        0.0154      0.007      2.288      0.022       0.002       0.029\n",
      "Home Team Pre-Match xG                  0.1680      0.129      1.305      0.192      -0.084       0.420\n",
      "Away Team Pre-Match xG                  0.1455      0.135      1.082      0.279      -0.118       0.409\n",
      "btts_percentage_pre_match               0.0044      0.005      0.965      0.334      -0.005       0.013\n",
      "over_15_percentage_pre_match           -0.0056      0.006     -0.962      0.336      -0.017       0.006\n",
      "over_25_percentage_pre_match            0.0163      0.006      2.647      0.008       0.004       0.028\n",
      "over_35_percentage_pre_match           -0.0104      0.007     -1.527      0.127      -0.024       0.003\n",
      "over_45_percentage_pre_match            0.0015      0.007      0.207      0.836      -0.013       0.016\n",
      "over_15_HT_FHG_percentage_pre_match    -0.0074      0.006     -1.303      0.193      -0.019       0.004\n",
      "over_05_HT_FHG_percentage_pre_match    -0.0030      0.004     -0.680      0.496      -0.012       0.006\n",
      "over_15_2HG_percentage_pre_match       -0.0057      0.006     -0.986      0.324      -0.017       0.006\n",
      "over_05_2HG_percentage_pre_match        0.0012      0.004      0.270      0.787      -0.008       0.010\n",
      "average_corners_per_match_pre_match    -0.0342      0.029     -1.168      0.243      -0.092       0.023\n",
      "average_cards_per_match_pre_match       0.1232      0.056      2.212      0.027       0.014       0.232\n",
      "odds_ft_team1_win                       0.0203      0.047      0.434      0.664      -0.071       0.112\n",
      "odds_ft_draw                           -0.2109      0.105     -2.006      0.045      -0.417      -0.005\n",
      "odds_ft_team2_win                       0.0695      0.042      1.664      0.096      -0.012       0.151\n",
      "odds_ft_over15                          0.2123      0.344      0.617      0.537      -0.462       0.887\n",
      "odds_ft_over25                          0.1323      0.198      0.670      0.503      -0.255       0.520\n",
      "odds_ft_over45                          0.0065      0.027      0.243      0.808      -0.046       0.059\n",
      "odds_btts_yes                          -0.0635      0.145     -0.438      0.662      -0.348       0.221\n",
      "odds_btts_no                            0.2869      0.226      1.270      0.204      -0.156       0.730\n",
      "rank_team1                             -0.0087      0.003     -3.075      0.002      -0.014      -0.003\n",
      "rank_change_team1                       0.1080      0.081      1.338      0.181      -0.050       0.266\n",
      "rank_team2                              0.0128      0.003      4.339      0.000       0.007       0.019\n",
      "rank_change_team2                      -0.0387      0.078     -0.497      0.619      -0.191       0.114\n",
      "first_score_country                     0.7945      0.093      8.563      0.000       0.613       0.976\n",
      "-------------------------------------------------------------------------------------------------------\n",
      "                          who_won=1       coef    std err          z      P>|z|      [0.025      0.975]\n",
      "-------------------------------------------------------------------------------------------------------\n",
      "Pre_Match_PPG_Home                     -1.2746      0.144     -8.860      0.000      -1.557      -0.993\n",
      "Pre_Match_PPG_Away                      1.2052      0.139      8.650      0.000       0.932       1.478\n",
      "team1_ppg                               3.8156      0.221     17.236      0.000       3.382       4.249\n",
      "team2_ppg                              -3.7500      0.218    -17.183      0.000      -4.178      -3.322\n",
      "team1_corner_count                     -0.1485      0.033     -4.502      0.000      -0.213      -0.084\n",
      "team2_corner_count                     -0.0533      0.043     -1.252      0.211      -0.137       0.030\n",
      "team1_fouls                             0.0451      0.022      2.029      0.042       0.002       0.089\n",
      "team2_fouls                            -0.0511      0.021     -2.451      0.014      -0.092      -0.010\n",
      "team2_possession                        0.0202      0.008      2.513      0.012       0.004       0.036\n",
      "Home Team Pre-Match xG                  0.3525      0.150      2.350      0.019       0.058       0.646\n",
      "Away Team Pre-Match xG                  0.1874      0.156      1.198      0.231      -0.119       0.494\n",
      "btts_percentage_pre_match               0.0016      0.005      0.308      0.758      -0.009       0.012\n",
      "over_15_percentage_pre_match           -0.0014      0.007     -0.209      0.834      -0.015       0.012\n",
      "over_25_percentage_pre_match            0.0062      0.007      0.858      0.391      -0.008       0.020\n",
      "over_35_percentage_pre_match           -0.0107      0.008     -1.325      0.185      -0.027       0.005\n",
      "over_45_percentage_pre_match            0.0029      0.009      0.334      0.738      -0.014       0.020\n",
      "over_15_HT_FHG_percentage_pre_match    -0.0003      0.007     -0.038      0.969      -0.013       0.013\n",
      "over_05_HT_FHG_percentage_pre_match    -0.0013      0.005     -0.247      0.805      -0.011       0.009\n",
      "over_15_2HG_percentage_pre_match       -0.0050      0.007     -0.727      0.467      -0.019       0.009\n",
      "over_05_2HG_percentage_pre_match        0.0013      0.005      0.242      0.809      -0.009       0.012\n",
      "average_corners_per_match_pre_match    -0.0289      0.034     -0.859      0.391      -0.095       0.037\n",
      "average_cards_per_match_pre_match       0.0855      0.064      1.325      0.185      -0.041       0.212\n",
      "odds_ft_team1_win                      -0.1609      0.069     -2.337      0.019      -0.296      -0.026\n",
      "odds_ft_draw                            0.0138      0.099      0.140      0.889      -0.180       0.207\n",
      "odds_ft_team2_win                       0.0466      0.042      1.115      0.265      -0.035       0.128\n",
      "odds_ft_over15                          0.0493      0.401      0.123      0.902      -0.737       0.836\n",
      "odds_ft_over25                          0.2062      0.234      0.882      0.378      -0.252       0.664\n",
      "odds_ft_over45                          0.0267      0.031      0.858      0.391      -0.034       0.088\n",
      "odds_btts_yes                          -0.0809      0.163     -0.495      0.620      -0.401       0.239\n",
      "odds_btts_no                            0.0239      0.255      0.094      0.925      -0.475       0.523\n",
      "rank_team1                             -0.0150      0.003     -4.413      0.000      -0.022      -0.008\n",
      "rank_change_team1                       0.0450      0.093      0.485      0.628      -0.137       0.227\n",
      "rank_team2                              0.0154      0.003      4.406      0.000       0.009       0.022\n",
      "rank_change_team2                       0.0789      0.089      0.887      0.375      -0.095       0.253\n",
      "first_score_country                     1.5255      0.110     13.826      0.000       1.309       1.742\n",
      "=======================================================================================================\n"
     ]
    }
   ],
   "source": [
    "import statsmodels.api as sm\n",
    "log_reg_R = sm.MNLogit(y_train, X_train).fit()\n",
    "print(log_reg_R.summary())"
   ]
  },
  {
   "cell_type": "code",
   "execution_count": 427,
   "metadata": {
    "cell_id": "70b54372b032407a88dd40154ab23d77",
    "deepnote_cell_type": "code",
    "deepnote_to_be_reexecuted": false,
    "execution_millis": 82,
    "execution_start": 1670915611799,
    "source_hash": "b38c215b",
    "tags": []
   },
   "outputs": [
    {
     "name": "stderr",
     "output_type": "stream",
     "text": [
      "/Users/kiangolestaneh/opt/anaconda3/lib/python3.9/site-packages/sklearn/linear_model/_logistic.py:814: ConvergenceWarning: lbfgs failed to converge (status=1):\n",
      "STOP: TOTAL NO. of ITERATIONS REACHED LIMIT.\n",
      "\n",
      "Increase the number of iterations (max_iter) or scale the data as shown in:\n",
      "    https://scikit-learn.org/stable/modules/preprocessing.html\n",
      "Please also refer to the documentation for alternative solver options:\n",
      "    https://scikit-learn.org/stable/modules/linear_model.html#logistic-regression\n",
      "  n_iter_i = _check_optimize_result(\n"
     ]
    },
    {
     "data": {
      "text/plain": [
       "LogisticRegression(max_iter=50)"
      ]
     },
     "execution_count": 427,
     "metadata": {},
     "output_type": "execute_result"
    }
   ],
   "source": [
    "from sklearn.linear_model import LogisticRegression\n",
    "clf = LogisticRegression(max_iter=50)\n",
    "clf.fit(X_train, y_train)"
   ]
  },
  {
   "cell_type": "code",
   "execution_count": 428,
   "metadata": {
    "cell_id": "04ac7fc1acc34261badde2aff3b0fd4d",
    "deepnote_cell_type": "code",
    "deepnote_to_be_reexecuted": false,
    "execution_millis": 17,
    "execution_start": 1670915614713,
    "source_hash": "9c38218f",
    "tags": []
   },
   "outputs": [
    {
     "name": "stdout",
     "output_type": "stream",
     "text": [
      "[[134  31  38]\n",
      " [ 47  36  90]\n",
      " [ 26  18 307]]\n",
      "Accuracy: 0.656121045392022\n"
     ]
    }
   ],
   "source": [
    "from sklearn.metrics import confusion_matrix\n",
    "y_pred = clf.predict(X_test)\n",
    "acc_logreg = clf.score(X_test, y_test)\n",
    "cm = confusion_matrix(y_test, y_pred)\n",
    "print(cm)\n",
    "print('Accuracy:', acc_logreg)"
   ]
  },
  {
   "cell_type": "code",
   "execution_count": 429,
   "metadata": {
    "cell_id": "8e7d3ab06fe143299647d147f59d489f",
    "deepnote_cell_type": "code",
    "deepnote_to_be_reexecuted": false,
    "execution_millis": 2,
    "execution_start": 1670915617597,
    "source_hash": "14df8e1",
    "tags": []
   },
   "outputs": [
    {
     "name": "stdout",
     "output_type": "stream",
     "text": [
      "[[0.42962017 0.30847981 0.26190003]\n",
      " [0.44278106 0.44008152 0.11713742]\n",
      " [0.0979129  0.14186131 0.76022579]\n",
      " ...\n",
      " [0.29392862 0.54041363 0.16565775]\n",
      " [0.05304196 0.12428851 0.82266953]\n",
      " [0.06486025 0.30799694 0.6271428 ]]\n"
     ]
    }
   ],
   "source": [
    "y_prob_logreg = clf.predict_proba(X_test)\n",
    "print(y_prob_logreg)"
   ]
  },
  {
   "cell_type": "markdown",
   "metadata": {
    "cell_id": "a82c547044dc426a9c63155b7000f20a",
    "deepnote_cell_type": "text-cell-h2",
    "formattedRanges": [],
    "is_collapsed": false,
    "tags": []
   },
   "source": [
    "## Logistic Regression on final data:"
   ]
  },
  {
   "cell_type": "code",
   "execution_count": 431,
   "metadata": {
    "cell_id": "ff7744764a434f508d11689977b0477b",
    "deepnote_cell_type": "code",
    "deepnote_to_be_reexecuted": false,
    "execution_millis": 51,
    "execution_start": 1670909733360,
    "source_hash": "4700a70",
    "tags": []
   },
   "outputs": [
    {
     "name": "stderr",
     "output_type": "stream",
     "text": [
      "/Users/kiangolestaneh/opt/anaconda3/lib/python3.9/site-packages/sklearn/linear_model/_logistic.py:814: ConvergenceWarning: lbfgs failed to converge (status=1):\n",
      "STOP: TOTAL NO. of ITERATIONS REACHED LIMIT.\n",
      "\n",
      "Increase the number of iterations (max_iter) or scale the data as shown in:\n",
      "    https://scikit-learn.org/stable/modules/preprocessing.html\n",
      "Please also refer to the documentation for alternative solver options:\n",
      "    https://scikit-learn.org/stable/modules/linear_model.html#logistic-regression\n",
      "  n_iter_i = _check_optimize_result(\n"
     ]
    },
    {
     "data": {
      "text/plain": [
       "LogisticRegression(max_iter=50)"
      ]
     },
     "execution_count": 431,
     "metadata": {},
     "output_type": "execute_result"
    }
   ],
   "source": [
    "from sklearn.linear_model import LogisticRegression\n",
    "clf2 = LogisticRegression(max_iter=50)\n",
    "clf2.fit(X_train, y_train)"
   ]
  },
  {
   "cell_type": "code",
   "execution_count": 433,
   "metadata": {
    "cell_id": "e5f8c2bcb62849d0820a90d4f9e57527",
    "deepnote_cell_type": "code",
    "deepnote_to_be_reexecuted": false,
    "execution_millis": 30,
    "execution_start": 1670910816247,
    "source_hash": "84c8d75f",
    "tags": []
   },
   "outputs": [
    {
     "name": "stdout",
     "output_type": "stream",
     "text": [
      "[[134  31  38]\n",
      " [ 47  36  90]\n",
      " [ 26  18 307]]\n",
      "Accuracy: 0.656121045392022\n"
     ]
    }
   ],
   "source": [
    "from sklearn.metrics import confusion_matrix\n",
    "y_pred_2 = clf2.predict(X_test)\n",
    "acc_logreg2 = clf2.score(X_test, y_test)\n",
    "cm = confusion_matrix(y_test, y_pred_2)\n",
    "print(cm)\n",
    "print('Accuracy:', acc_logreg2)"
   ]
  },
  {
   "cell_type": "code",
   "execution_count": 435,
   "metadata": {
    "cell_id": "eb3e59b1148f401e9a586be3d20bc931",
    "deepnote_cell_type": "code",
    "deepnote_to_be_reexecuted": false,
    "execution_millis": 9,
    "execution_start": 1670909739433,
    "source_hash": "8b8df945",
    "tags": []
   },
   "outputs": [
    {
     "name": "stdout",
     "output_type": "stream",
     "text": [
      "[[0.42962017 0.30847981 0.26190003]\n",
      " [0.44278106 0.44008152 0.11713742]\n",
      " [0.0979129  0.14186131 0.76022579]\n",
      " ...\n",
      " [0.29392862 0.54041363 0.16565775]\n",
      " [0.05304196 0.12428851 0.82266953]\n",
      " [0.06486025 0.30799694 0.6271428 ]]\n"
     ]
    }
   ],
   "source": [
    "y_prob_logreg_2 = clf2.predict_proba(X_test)\n",
    "print(y_prob_logreg_2)"
   ]
  },
  {
   "cell_type": "markdown",
   "metadata": {
    "cell_id": "945b144896df445da90bf6077697d8c2",
    "deepnote_cell_type": "text-cell-h2",
    "formattedRanges": [],
    "is_collapsed": false,
    "tags": []
   },
   "source": [
    "## SVM:"
   ]
  },
  {
   "cell_type": "code",
   "execution_count": 436,
   "metadata": {
    "cell_id": "d933dd93078b4749992e310d94cfae49",
    "deepnote_cell_type": "code",
    "deepnote_to_be_reexecuted": false,
    "execution_millis": 29389,
    "execution_start": 1670915626655,
    "source_hash": "f4f66b5e",
    "tags": []
   },
   "outputs": [
    {
     "name": "stdout",
     "output_type": "stream",
     "text": [
      "Accuracy: 0.7138927097661623\n",
      "[[157  35  11]\n",
      " [ 47  57  69]\n",
      " [ 11  35 305]]\n"
     ]
    }
   ],
   "source": [
    "from sklearn.multiclass import OneVsRestClassifier\n",
    "from sklearn.svm import SVC\n",
    "from sklearn.metrics import confusion_matrix\n",
    "multiclass = SVC(kernel = 'linear', C = 1).fit(X_train, y_train)\n",
    "svm_predictions = multiclass.predict(X_test)\n",
    "acc_svm = multiclass.score(X_test, y_test)\n",
    "cm = confusion_matrix(y_test, svm_predictions)\n",
    "print('Accuracy:', acc_svm)\n",
    "print(cm)"
   ]
  },
  {
   "cell_type": "markdown",
   "metadata": {
    "cell_id": "3e7f26367a4746dd80287fa4a9672f16",
    "deepnote_cell_type": "text-cell-h2",
    "formattedRanges": [],
    "is_collapsed": false,
    "tags": []
   },
   "source": [
    "## LDA:"
   ]
  },
  {
   "cell_type": "code",
   "execution_count": 437,
   "metadata": {
    "cell_id": "5f2de8a25c43494b8689d343e0be6072",
    "deepnote_cell_type": "code",
    "deepnote_to_be_reexecuted": false,
    "execution_millis": 2,
    "execution_start": 1670915521675,
    "source_hash": "1f282b17",
    "tags": []
   },
   "outputs": [
    {
     "data": {
      "text/plain": [
       "LinearDiscriminantAnalysis()"
      ]
     },
     "execution_count": 437,
     "metadata": {},
     "output_type": "execute_result"
    }
   ],
   "source": [
    "lda = LinearDiscriminantAnalysis()\n",
    "lda.fit(X_train, y_train)"
   ]
  },
  {
   "cell_type": "code",
   "execution_count": 438,
   "metadata": {
    "cell_id": "25911613d36f45a79e9268d3313fb341",
    "deepnote_cell_type": "code",
    "deepnote_to_be_reexecuted": false,
    "execution_millis": 2,
    "execution_start": 1670915524172,
    "source_hash": "8f066740",
    "tags": []
   },
   "outputs": [
    {
     "data": {
      "text/plain": [
       "array([[0.32290657, 0.55729733, 0.1197961 ],\n",
       "       [0.7933222 , 0.20165988, 0.00501792],\n",
       "       [0.00190702, 0.05919213, 0.93890085],\n",
       "       ...,\n",
       "       [0.02022717, 0.43845112, 0.54132171],\n",
       "       [0.00123339, 0.06583746, 0.93292916],\n",
       "       [0.00464922, 0.18523329, 0.81011749]])"
      ]
     },
     "execution_count": 438,
     "metadata": {},
     "output_type": "execute_result"
    }
   ],
   "source": [
    "y_prob_lda = lda.predict_proba(X_test)\n",
    "y_prob_lda"
   ]
  },
  {
   "cell_type": "code",
   "execution_count": 441,
   "metadata": {
    "cell_id": "fea92b44233e4604971b12414af947f6",
    "deepnote_cell_type": "code",
    "deepnote_to_be_reexecuted": false,
    "execution_millis": 10,
    "execution_start": 1670915715854,
    "source_hash": "583305ad",
    "tags": []
   },
   "outputs": [
    {
     "data": {
      "text/plain": [
       "'Accuracy: 0.7138927097661623'"
      ]
     },
     "execution_count": 441,
     "metadata": {},
     "output_type": "execute_result"
    }
   ],
   "source": [
    "lda_prediction = convert_to_result(y_prob_lda)\n",
    "acc_lda = accuracy_score(y_test, lda_prediction)\n",
    "\"Accuracy: \" + str(acc_lda)"
   ]
  },
  {
   "cell_type": "code",
   "execution_count": 440,
   "metadata": {
    "cell_id": "b95acbe9ab06400cb46e6026760d2565",
    "deepnote_cell_type": "code",
    "deepnote_to_be_reexecuted": false,
    "execution_millis": 0,
    "execution_start": 1670915656055,
    "source_hash": "3c097827",
    "tags": []
   },
   "outputs": [],
   "source": [
    "def convert_to_result(prediction):\n",
    "    '''Input : nested 3D array\n",
    "        Output : array of (-1,0,1)'''\n",
    "    \n",
    "    result = []\n",
    "    for i in prediction:\n",
    "        if (i[0] > i[1] and i[0] > i[2]):\n",
    "            result.append(-1)\n",
    "        elif (i[1] > i[0] and i[1] > i[2]):\n",
    "            result.append(0)\n",
    "        elif (i[2] > i[0] and i[2] > i[1]):\n",
    "            result.append(1)\n",
    "        else:\n",
    "            result.append('Edge Case')\n",
    "            \n",
    "    return result\n",
    "    "
   ]
  },
  {
   "cell_type": "markdown",
   "metadata": {
    "cell_id": "0376ed7dcc25458eac7cc65c5cb343a0",
    "deepnote_cell_type": "text-cell-h2",
    "formattedRanges": [],
    "is_collapsed": false,
    "tags": []
   },
   "source": [
    "## Decision Tree Classifier:"
   ]
  },
  {
   "cell_type": "code",
   "execution_count": 442,
   "metadata": {
    "cell_id": "f5b8d53c95374829937a21963490a89c",
    "deepnote_cell_type": "code",
    "deepnote_to_be_reexecuted": false,
    "execution_millis": 13,
    "execution_start": 1670915668707,
    "source_hash": "a549059b",
    "tags": []
   },
   "outputs": [],
   "source": [
    "from sklearn.tree import DecisionTreeClassifier\n",
    "\n",
    "dtc = DecisionTreeClassifier(criterion='entropy',\n",
    "                             min_samples_leaf=5, \n",
    "                             ccp_alpha=0.001,\n",
    "                             random_state = 88,\n",
    "                             max_depth=3)\n",
    "\n",
    "dtc = dtc.fit(X_train, y_train)"
   ]
  },
  {
   "cell_type": "code",
   "execution_count": 443,
   "metadata": {
    "cell_id": "05e63fbfd7654bcf8a05380a95e8e764",
    "deepnote_cell_type": "code",
    "deepnote_to_be_reexecuted": false,
    "execution_millis": 2,
    "execution_start": 1670915671053,
    "source_hash": "cc4be55f",
    "tags": []
   },
   "outputs": [
    {
     "data": {
      "text/plain": [
       "array([[0.61478599, 0.22957198, 0.15564202],\n",
       "       [0.61478599, 0.22957198, 0.15564202],\n",
       "       [0.12587413, 0.13986014, 0.73426573],\n",
       "       ...,\n",
       "       [0.2887538 , 0.27051672, 0.44072948],\n",
       "       [0.        , 0.06880734, 0.93119266],\n",
       "       [0.2887538 , 0.27051672, 0.44072948]])"
      ]
     },
     "execution_count": 443,
     "metadata": {},
     "output_type": "execute_result"
    }
   ],
   "source": [
    "\n",
    "y_prob_dtc = dtc.predict_proba(X_test)\n",
    "y_prob_dtc"
   ]
  },
  {
   "cell_type": "code",
   "execution_count": 444,
   "metadata": {
    "cell_id": "631631857aa540f6adfb1b27277c3fb8",
    "deepnote_cell_type": "code",
    "deepnote_to_be_reexecuted": false,
    "execution_millis": 17,
    "execution_start": 1670915673251,
    "source_hash": "ad413335",
    "tags": []
   },
   "outputs": [
    {
     "data": {
      "text/plain": [
       "'Accuracy: 0.6822558459422283'"
      ]
     },
     "execution_count": 444,
     "metadata": {},
     "output_type": "execute_result"
    }
   ],
   "source": [
    "dtc_prediction = convert_to_result(y_prob_dtc)\n",
    "acc_dtc = accuracy_score(y_test, dtc_prediction)\n",
    "\"Accuracy: \" + str(acc_dtc)"
   ]
  },
  {
   "cell_type": "markdown",
   "metadata": {
    "cell_id": "ae96b714e44344e695a03b774384c3de",
    "deepnote_cell_type": "markdown",
    "tags": []
   },
   "source": [
    "## Naive Bayes"
   ]
  },
  {
   "cell_type": "code",
   "execution_count": 445,
   "metadata": {
    "cell_id": "d480d26aa64441ccaee16e5beaf8d083",
    "deepnote_cell_type": "code",
    "deepnote_to_be_reexecuted": false,
    "execution_millis": 13,
    "execution_start": 1670915676894,
    "source_hash": "a64bef3a",
    "tags": []
   },
   "outputs": [],
   "source": [
    "from sklearn.naive_bayes import GaussianNB\n",
    "gnb = GaussianNB()\n",
    "y_prob_bayes_final = gnb.fit(X_train, y_train).predict_proba(X_test)"
   ]
  },
  {
   "cell_type": "code",
   "execution_count": 446,
   "metadata": {
    "cell_id": "e84979b5c04e4540ad6bbe749f5baa53",
    "deepnote_cell_type": "code",
    "deepnote_to_be_reexecuted": false,
    "execution_millis": 6,
    "execution_start": 1670915680423,
    "source_hash": "43a545df",
    "tags": []
   },
   "outputs": [
    {
     "data": {
      "text/plain": [
       "'Accuracy: 0.5859697386519945'"
      ]
     },
     "execution_count": 446,
     "metadata": {},
     "output_type": "execute_result"
    }
   ],
   "source": [
    "bayes_final_prediction = convert_to_result(y_prob_bayes_final)\n",
    "acc_bayes = accuracy_score(y_test, bayes_final_prediction)\n",
    "\"Accuracy: \" + str(acc_bayes)"
   ]
  },
  {
   "cell_type": "markdown",
   "metadata": {
    "cell_id": "b13e4355fdd14acbb7c7c2ceba3381ec",
    "deepnote_cell_type": "text-cell-h2",
    "formattedRanges": [],
    "is_collapsed": false,
    "tags": []
   },
   "source": [
    "## Amy's Model:"
   ]
  },
  {
   "cell_type": "code",
   "execution_count": null,
   "metadata": {
    "cell_id": "5cb4db128f1f4e9da2777a99840419c4",
    "deepnote_cell_type": "code",
    "deepnote_to_be_reexecuted": false,
    "execution_millis": 16,
    "execution_start": 1670912679390,
    "source_hash": "9b095f23",
    "tags": []
   },
   "outputs": [],
   "source": []
  },
  {
   "cell_type": "code",
   "execution_count": 447,
   "metadata": {
    "cell_id": "95f9be22c4704c1dbce4ac8a50685fef",
    "deepnote_cell_type": "code",
    "deepnote_to_be_reexecuted": false,
    "execution_millis": 2944,
    "execution_start": 1670915433194,
    "source_hash": "a92b8d0f",
    "tags": []
   },
   "outputs": [
    {
     "name": "stderr",
     "output_type": "stream",
     "text": [
      "[Parallel(n_jobs=1)]: Using backend SequentialBackend with 1 concurrent workers.\n",
      "[Parallel(n_jobs=1)]: Done   1 out of   1 | elapsed:    0.0s remaining:    0.0s\n"
     ]
    },
    {
     "name": "stdout",
     "output_type": "stream",
     "text": [
      "building tree 1 of 500\n",
      "building tree 2 of 500\n",
      "building tree 3 of 500\n",
      "building tree 4 of 500\n",
      "building tree 5 of 500\n",
      "building tree 6 of 500\n",
      "building tree 7 of 500\n",
      "building tree 8 of 500\n",
      "building tree 9 of 500\n",
      "building tree 10 of 500\n",
      "building tree 11 of 500\n",
      "building tree 12 of 500\n",
      "building tree 13 of 500\n",
      "building tree 14 of 500\n",
      "building tree 15 of 500\n",
      "building tree 16 of 500\n",
      "building tree 17 of 500\n",
      "building tree 18 of 500\n",
      "building tree 19 of 500\n",
      "building tree 20 of 500\n",
      "building tree 21 of 500\n",
      "building tree 22 of 500\n",
      "building tree 23 of 500\n",
      "building tree 24 of 500\n",
      "building tree 25 of 500\n",
      "building tree 26 of 500\n",
      "building tree 27 of 500\n",
      "building tree 28 of 500\n",
      "building tree 29 of 500\n",
      "building tree 30 of 500\n",
      "building tree 31 of 500\n",
      "building tree 32 of 500\n",
      "building tree 33 of 500\n",
      "building tree 34 of 500\n",
      "building tree 35 of 500\n",
      "building tree 36 of 500\n",
      "building tree 37 of 500\n",
      "building tree 38 of 500\n",
      "building tree 39 of 500\n",
      "building tree 40 of 500\n",
      "building tree 41 of 500\n",
      "building tree 42 of 500\n",
      "building tree 43 of 500\n",
      "building tree 44 of 500\n",
      "building tree 45 of 500\n",
      "building tree 46 of 500\n",
      "building tree 47 of 500\n",
      "building tree 48 of 500\n",
      "building tree 49 of 500\n",
      "building tree 50 of 500\n",
      "building tree 51 of 500\n",
      "building tree 52 of 500\n",
      "building tree 53 of 500\n",
      "building tree 54 of 500\n",
      "building tree 55 of 500\n",
      "building tree 56 of 500\n",
      "building tree 57 of 500\n",
      "building tree 58 of 500\n",
      "building tree 59 of 500\n",
      "building tree 60 of 500\n",
      "building tree 61 of 500\n",
      "building tree 62 of 500\n",
      "building tree 63 of 500\n",
      "building tree 64 of 500\n",
      "building tree 65 of 500\n",
      "building tree 66 of 500\n",
      "building tree 67 of 500\n",
      "building tree 68 of 500\n",
      "building tree 69 of 500\n",
      "building tree 70 of 500\n",
      "building tree 71 of 500\n",
      "building tree 72 of 500\n",
      "building tree 73 of 500\n",
      "building tree 74 of 500\n",
      "building tree 75 of 500\n",
      "building tree 76 of 500\n",
      "building tree 77 of 500\n",
      "building tree 78 of 500\n",
      "building tree 79 of 500\n",
      "building tree 80 of 500\n",
      "building tree 81 of 500\n",
      "building tree 82 of 500\n",
      "building tree 83 of 500\n",
      "building tree 84 of 500\n",
      "building tree 85 of 500\n",
      "building tree 86 of 500\n",
      "building tree 87 of 500\n",
      "building tree 88 of 500\n",
      "building tree 89 of 500\n",
      "building tree 90 of 500\n",
      "building tree 91 of 500\n",
      "building tree 92 of 500\n",
      "building tree 93 of 500\n",
      "building tree 94 of 500\n",
      "building tree 95 of 500\n",
      "building tree 96 of 500\n",
      "building tree 97 of 500\n",
      "building tree 98 of 500\n",
      "building tree 99 of 500\n",
      "building tree 100 of 500\n",
      "building tree 101 of 500\n",
      "building tree 102 of 500\n",
      "building tree 103 of 500\n",
      "building tree 104 of 500\n",
      "building tree 105 of 500\n",
      "building tree 106 of 500\n",
      "building tree 107 of 500\n",
      "building tree 108 of 500\n",
      "building tree 109 of 500\n",
      "building tree 110 of 500\n",
      "building tree 111 of 500\n",
      "building tree 112 of 500\n",
      "building tree 113 of 500\n",
      "building tree 114 of 500\n",
      "building tree 115 of 500\n",
      "building tree 116 of 500\n",
      "building tree 117 of 500\n",
      "building tree 118 of 500\n",
      "building tree 119 of 500\n",
      "building tree 120 of 500\n",
      "building tree 121 of 500\n",
      "building tree 122 of 500\n",
      "building tree 123 of 500\n",
      "building tree 124 of 500\n",
      "building tree 125 of 500\n",
      "building tree 126 of 500\n",
      "building tree 127 of 500\n",
      "building tree 128 of 500\n",
      "building tree 129 of 500\n",
      "building tree 130 of 500\n",
      "building tree 131 of 500\n",
      "building tree 132 of 500\n",
      "building tree 133 of 500\n",
      "building tree 134 of 500\n",
      "building tree 135 of 500\n",
      "building tree 136 of 500\n",
      "building tree 137 of 500\n",
      "building tree 138 of 500\n",
      "building tree 139 of 500\n",
      "building tree 140 of 500\n",
      "building tree 141 of 500\n",
      "building tree 142 of 500\n",
      "building tree 143 of 500\n",
      "building tree 144 of 500\n",
      "building tree 145 of 500\n",
      "building tree 146 of 500\n",
      "building tree 147 of 500\n",
      "building tree 148 of 500\n",
      "building tree 149 of 500\n",
      "building tree 150 of 500\n",
      "building tree 151 of 500\n",
      "building tree 152 of 500\n",
      "building tree 153 of 500\n",
      "building tree 154 of 500\n",
      "building tree 155 of 500\n",
      "building tree 156 of 500\n",
      "building tree 157 of 500\n",
      "building tree 158 of 500\n",
      "building tree 159 of 500\n",
      "building tree 160 of 500\n",
      "building tree 161 of 500\n",
      "building tree 162 of 500\n",
      "building tree 163 of 500\n",
      "building tree 164 of 500\n",
      "building tree 165 of 500\n",
      "building tree 166 of 500\n",
      "building tree 167 of 500\n",
      "building tree 168 of 500\n",
      "building tree 169 of 500\n",
      "building tree 170 of 500\n",
      "building tree 171 of 500\n",
      "building tree 172 of 500\n",
      "building tree 173 of 500\n",
      "building tree 174 of 500\n",
      "building tree 175 of 500\n",
      "building tree 176 of 500\n",
      "building tree 177 of 500\n",
      "building tree 178 of 500\n",
      "building tree 179 of 500\n",
      "building tree 180 of 500\n",
      "building tree 181 of 500\n",
      "building tree 182 of 500\n",
      "building tree 183 of 500\n",
      "building tree 184 of 500\n",
      "building tree 185 of 500\n",
      "building tree 186 of 500\n",
      "building tree 187 of 500\n",
      "building tree 188 of 500\n",
      "building tree 189 of 500\n",
      "building tree 190 of 500\n",
      "building tree 191 of 500\n",
      "building tree 192 of 500\n",
      "building tree 193 of 500\n",
      "building tree 194 of 500\n",
      "building tree 195 of 500\n",
      "building tree 196 of 500\n",
      "building tree 197 of 500\n",
      "building tree 198 of 500\n",
      "building tree 199 of 500\n",
      "building tree 200 of 500\n",
      "building tree 201 of 500\n",
      "building tree 202 of 500\n",
      "building tree 203 of 500\n",
      "building tree 204 of 500\n",
      "building tree 205 of 500\n",
      "building tree 206 of 500\n",
      "building tree 207 of 500\n",
      "building tree 208 of 500\n",
      "building tree 209 of 500\n",
      "building tree 210 of 500\n",
      "building tree 211 of 500\n",
      "building tree 212 of 500\n",
      "building tree 213 of 500\n",
      "building tree 214 of 500\n",
      "building tree 215 of 500\n",
      "building tree 216 of 500\n",
      "building tree 217 of 500\n",
      "building tree 218 of 500\n",
      "building tree 219 of 500\n",
      "building tree 220 of 500\n",
      "building tree 221 of 500\n",
      "building tree 222 of 500\n",
      "building tree 223 of 500\n",
      "building tree 224 of 500\n",
      "building tree 225 of 500\n",
      "building tree 226 of 500\n",
      "building tree 227 of 500\n",
      "building tree 228 of 500\n",
      "building tree 229 of 500\n",
      "building tree 230 of 500\n",
      "building tree 231 of 500\n",
      "building tree 232 of 500\n",
      "building tree 233 of 500\n",
      "building tree 234 of 500\n",
      "building tree 235 of 500\n",
      "building tree 236 of 500\n",
      "building tree 237 of 500\n",
      "building tree 238 of 500\n",
      "building tree 239 of 500\n",
      "building tree 240 of 500\n",
      "building tree 241 of 500\n",
      "building tree 242 of 500\n",
      "building tree 243 of 500\n",
      "building tree 244 of 500\n",
      "building tree 245 of 500\n",
      "building tree 246 of 500\n",
      "building tree 247 of 500\n",
      "building tree 248 of 500\n",
      "building tree 249 of 500\n",
      "building tree 250 of 500\n",
      "building tree 251 of 500\n",
      "building tree 252 of 500\n",
      "building tree 253 of 500\n",
      "building tree 254 of 500\n",
      "building tree 255 of 500\n",
      "building tree 256 of 500\n",
      "building tree 257 of 500\n",
      "building tree 258 of 500\n",
      "building tree 259 of 500\n",
      "building tree 260 of 500\n",
      "building tree 261 of 500\n",
      "building tree 262 of 500\n",
      "building tree 263 of 500\n",
      "building tree 264 of 500\n",
      "building tree 265 of 500\n",
      "building tree 266 of 500\n",
      "building tree 267 of 500\n",
      "building tree 268 of 500\n",
      "building tree 269 of 500\n",
      "building tree 270 of 500\n",
      "building tree 271 of 500\n",
      "building tree 272 of 500\n",
      "building tree 273 of 500\n",
      "building tree 274 of 500\n",
      "building tree 275 of 500\n",
      "building tree 276 of 500\n",
      "building tree 277 of 500\n",
      "building tree 278 of 500\n",
      "building tree 279 of 500\n",
      "building tree 280 of 500\n",
      "building tree 281 of 500\n",
      "building tree 282 of 500\n",
      "building tree 283 of 500\n",
      "building tree 284 of 500\n",
      "building tree 285 of 500\n",
      "building tree 286 of 500\n",
      "building tree 287 of 500\n",
      "building tree 288 of 500\n",
      "building tree 289 of 500\n",
      "building tree 290 of 500\n",
      "building tree 291 of 500\n",
      "building tree 292 of 500\n",
      "building tree 293 of 500\n",
      "building tree 294 of 500\n",
      "building tree 295 of 500\n",
      "building tree 296 of 500\n",
      "building tree 297 of 500\n",
      "building tree 298 of 500\n",
      "building tree 299 of 500\n",
      "building tree 300 of 500\n",
      "building tree 301 of 500\n",
      "building tree 302 of 500\n",
      "building tree 303 of 500\n",
      "building tree 304 of 500\n",
      "building tree 305 of 500\n",
      "building tree 306 of 500\n",
      "building tree 307 of 500\n",
      "building tree 308 of 500\n",
      "building tree 309 of 500\n",
      "building tree 310 of 500\n",
      "building tree 311 of 500\n",
      "building tree 312 of 500\n",
      "building tree 313 of 500\n",
      "building tree 314 of 500\n",
      "building tree 315 of 500\n",
      "building tree 316 of 500\n",
      "building tree 317 of 500\n",
      "building tree 318 of 500\n",
      "building tree 319 of 500\n",
      "building tree 320 of 500\n",
      "building tree 321 of 500\n",
      "building tree 322 of 500\n",
      "building tree 323 of 500\n",
      "building tree 324 of 500\n",
      "building tree 325 of 500\n",
      "building tree 326 of 500\n",
      "building tree 327 of 500\n",
      "building tree 328 of 500\n",
      "building tree 329 of 500\n",
      "building tree 330 of 500\n",
      "building tree 331 of 500\n",
      "building tree 332 of 500\n",
      "building tree 333 of 500\n",
      "building tree 334 of 500\n",
      "building tree 335 of 500\n",
      "building tree 336 of 500\n",
      "building tree 337 of 500\n",
      "building tree 338 of 500\n",
      "building tree 339 of 500\n",
      "building tree 340 of 500\n",
      "building tree 341 of 500\n",
      "building tree 342 of 500\n",
      "building tree 343 of 500\n",
      "building tree 344 of 500\n",
      "building tree 345 of 500\n",
      "building tree 346 of 500\n",
      "building tree 347 of 500\n",
      "building tree 348 of 500\n",
      "building tree 349 of 500\n",
      "building tree 350 of 500\n",
      "building tree 351 of 500\n",
      "building tree 352 of 500\n",
      "building tree 353 of 500\n",
      "building tree 354 of 500\n"
     ]
    },
    {
     "name": "stdout",
     "output_type": "stream",
     "text": [
      "building tree 355 of 500\n",
      "building tree 356 of 500\n",
      "building tree 357 of 500\n",
      "building tree 358 of 500\n",
      "building tree 359 of 500\n",
      "building tree 360 of 500\n",
      "building tree 361 of 500\n",
      "building tree 362 of 500\n",
      "building tree 363 of 500\n",
      "building tree 364 of 500\n",
      "building tree 365 of 500\n",
      "building tree 366 of 500\n",
      "building tree 367 of 500\n",
      "building tree 368 of 500\n",
      "building tree 369 of 500\n",
      "building tree 370 of 500\n",
      "building tree 371 of 500\n",
      "building tree 372 of 500\n",
      "building tree 373 of 500\n",
      "building tree 374 of 500\n",
      "building tree 375 of 500\n",
      "building tree 376 of 500\n",
      "building tree 377 of 500\n",
      "building tree 378 of 500\n",
      "building tree 379 of 500\n",
      "building tree 380 of 500\n",
      "building tree 381 of 500\n",
      "building tree 382 of 500\n",
      "building tree 383 of 500\n",
      "building tree 384 of 500\n",
      "building tree 385 of 500\n",
      "building tree 386 of 500\n",
      "building tree 387 of 500\n",
      "building tree 388 of 500\n",
      "building tree 389 of 500\n",
      "building tree 390 of 500\n",
      "building tree 391 of 500\n",
      "building tree 392 of 500\n",
      "building tree 393 of 500\n",
      "building tree 394 of 500\n",
      "building tree 395 of 500\n",
      "building tree 396 of 500\n",
      "building tree 397 of 500\n",
      "building tree 398 of 500\n",
      "building tree 399 of 500\n",
      "building tree 400 of 500\n",
      "building tree 401 of 500\n",
      "building tree 402 of 500\n",
      "building tree 403 of 500\n",
      "building tree 404 of 500\n",
      "building tree 405 of 500\n",
      "building tree 406 of 500\n",
      "building tree 407 of 500\n",
      "building tree 408 of 500\n",
      "building tree 409 of 500\n",
      "building tree 410 of 500\n",
      "building tree 411 of 500\n",
      "building tree 412 of 500\n",
      "building tree 413 of 500\n",
      "building tree 414 of 500\n",
      "building tree 415 of 500\n",
      "building tree 416 of 500\n",
      "building tree 417 of 500\n",
      "building tree 418 of 500\n",
      "building tree 419 of 500\n",
      "building tree 420 of 500\n",
      "building tree 421 of 500\n",
      "building tree 422 of 500\n",
      "building tree 423 of 500\n",
      "building tree 424 of 500\n",
      "building tree 425 of 500\n",
      "building tree 426 of 500\n",
      "building tree 427 of 500\n",
      "building tree 428 of 500\n",
      "building tree 429 of 500\n",
      "building tree 430 of 500\n",
      "building tree 431 of 500\n",
      "building tree 432 of 500\n",
      "building tree 433 of 500\n",
      "building tree 434 of 500\n",
      "building tree 435 of 500\n",
      "building tree 436 of 500\n",
      "building tree 437 of 500\n",
      "building tree 438 of 500\n",
      "building tree 439 of 500\n",
      "building tree 440 of 500\n",
      "building tree 441 of 500\n",
      "building tree 442 of 500\n",
      "building tree 443 of 500\n",
      "building tree 444 of 500\n",
      "building tree 445 of 500\n",
      "building tree 446 of 500\n",
      "building tree 447 of 500\n",
      "building tree 448 of 500\n",
      "building tree 449 of 500\n",
      "building tree 450 of 500\n",
      "building tree 451 of 500\n",
      "building tree 452 of 500\n",
      "building tree 453 of 500\n",
      "building tree 454 of 500\n",
      "building tree 455 of 500\n",
      "building tree 456 of 500\n",
      "building tree 457 of 500\n",
      "building tree 458 of 500\n",
      "building tree 459 of 500\n",
      "building tree 460 of 500\n",
      "building tree 461 of 500\n",
      "building tree 462 of 500\n",
      "building tree 463 of 500\n",
      "building tree 464 of 500\n",
      "building tree 465 of 500\n",
      "building tree 466 of 500\n",
      "building tree 467 of 500\n",
      "building tree 468 of 500\n",
      "building tree 469 of 500\n",
      "building tree 470 of 500\n",
      "building tree 471 of 500\n",
      "building tree 472 of 500\n",
      "building tree 473 of 500\n",
      "building tree 474 of 500\n",
      "building tree 475 of 500\n",
      "building tree 476 of 500\n",
      "building tree 477 of 500\n",
      "building tree 478 of 500\n",
      "building tree 479 of 500\n",
      "building tree 480 of 500\n",
      "building tree 481 of 500\n",
      "building tree 482 of 500\n",
      "building tree 483 of 500\n",
      "building tree 484 of 500\n",
      "building tree 485 of 500\n",
      "building tree 486 of 500\n",
      "building tree 487 of 500\n",
      "building tree 488 of 500\n",
      "building tree 489 of 500\n",
      "building tree 490 of 500\n",
      "building tree 491 of 500\n",
      "building tree 492 of 500\n",
      "building tree 493 of 500\n",
      "building tree 494 of 500\n",
      "building tree 495 of 500\n",
      "building tree 496 of 500\n",
      "building tree 497 of 500\n",
      "building tree 498 of 500\n",
      "building tree 499 of 500\n",
      "building tree 500 of 500\n"
     ]
    },
    {
     "name": "stderr",
     "output_type": "stream",
     "text": [
      "[Parallel(n_jobs=1)]: Done 500 out of 500 | elapsed:    1.5s finished\n"
     ]
    },
    {
     "data": {
      "text/plain": [
       "'Accuracy: 0.7482806052269602'"
      ]
     },
     "execution_count": 447,
     "metadata": {},
     "output_type": "execute_result"
    }
   ],
   "source": [
    "from sklearn.ensemble import RandomForestClassifier\n",
    "\n",
    "rf = RandomForestClassifier(max_features=5, min_samples_leaf=5, \n",
    "                           n_estimators = 500, random_state=88, verbose=2)\n",
    "\n",
    "rf.fit(X_train, y_train)\n",
    "rf.verbose = False\n",
    "\n",
    "y_pred = rf.predict(X_test)\n",
    "\n",
    "\n",
    "acc_rf = accuracy_score(y_test,y_pred)\n",
    "\"Accuracy: \" + str(acc_rf)"
   ]
  },
  {
   "cell_type": "code",
   "execution_count": 448,
   "metadata": {
    "cell_id": "8f55fa8b9ab7400480d8fb0390b57a68",
    "deepnote_cell_type": "code",
    "deepnote_to_be_reexecuted": false,
    "execution_millis": 72,
    "execution_start": 1670915285055,
    "source_hash": "6752c38b",
    "tags": []
   },
   "outputs": [
    {
     "data": {
      "text/html": [
       "<div>\n",
       "<style scoped>\n",
       "    .dataframe tbody tr th:only-of-type {\n",
       "        vertical-align: middle;\n",
       "    }\n",
       "\n",
       "    .dataframe tbody tr th {\n",
       "        vertical-align: top;\n",
       "    }\n",
       "\n",
       "    .dataframe thead th {\n",
       "        text-align: right;\n",
       "    }\n",
       "</style>\n",
       "<table border=\"1\" class=\"dataframe\">\n",
       "  <thead>\n",
       "    <tr style=\"text-align: right;\">\n",
       "      <th></th>\n",
       "      <th>Feature</th>\n",
       "      <th>Importance score</th>\n",
       "    </tr>\n",
       "  </thead>\n",
       "  <tbody>\n",
       "    <tr>\n",
       "      <th>0</th>\n",
       "      <td>Pre_Match_PPG_Home</td>\n",
       "      <td>1.7</td>\n",
       "    </tr>\n",
       "    <tr>\n",
       "      <th>1</th>\n",
       "      <td>Pre_Match_PPG_Away</td>\n",
       "      <td>1.6</td>\n",
       "    </tr>\n",
       "    <tr>\n",
       "      <th>2</th>\n",
       "      <td>team1_ppg</td>\n",
       "      <td>15.1</td>\n",
       "    </tr>\n",
       "    <tr>\n",
       "      <th>3</th>\n",
       "      <td>team2_ppg</td>\n",
       "      <td>10.7</td>\n",
       "    </tr>\n",
       "    <tr>\n",
       "      <th>4</th>\n",
       "      <td>team1_corner_count</td>\n",
       "      <td>1.5</td>\n",
       "    </tr>\n",
       "    <tr>\n",
       "      <th>5</th>\n",
       "      <td>team2_corner_count</td>\n",
       "      <td>1.5</td>\n",
       "    </tr>\n",
       "    <tr>\n",
       "      <th>6</th>\n",
       "      <td>team1_fouls</td>\n",
       "      <td>1.2</td>\n",
       "    </tr>\n",
       "    <tr>\n",
       "      <th>7</th>\n",
       "      <td>team2_fouls</td>\n",
       "      <td>1.1</td>\n",
       "    </tr>\n",
       "    <tr>\n",
       "      <th>8</th>\n",
       "      <td>team2_possession</td>\n",
       "      <td>3.0</td>\n",
       "    </tr>\n",
       "    <tr>\n",
       "      <th>9</th>\n",
       "      <td>Home Team Pre-Match xG</td>\n",
       "      <td>1.4</td>\n",
       "    </tr>\n",
       "    <tr>\n",
       "      <th>10</th>\n",
       "      <td>Away Team Pre-Match xG</td>\n",
       "      <td>1.3</td>\n",
       "    </tr>\n",
       "    <tr>\n",
       "      <th>11</th>\n",
       "      <td>btts_percentage_pre_match</td>\n",
       "      <td>1.0</td>\n",
       "    </tr>\n",
       "    <tr>\n",
       "      <th>12</th>\n",
       "      <td>over_15_percentage_pre_match</td>\n",
       "      <td>1.1</td>\n",
       "    </tr>\n",
       "    <tr>\n",
       "      <th>13</th>\n",
       "      <td>over_25_percentage_pre_match</td>\n",
       "      <td>1.0</td>\n",
       "    </tr>\n",
       "    <tr>\n",
       "      <th>14</th>\n",
       "      <td>over_35_percentage_pre_match</td>\n",
       "      <td>0.8</td>\n",
       "    </tr>\n",
       "    <tr>\n",
       "      <th>15</th>\n",
       "      <td>over_45_percentage_pre_match</td>\n",
       "      <td>0.7</td>\n",
       "    </tr>\n",
       "    <tr>\n",
       "      <th>16</th>\n",
       "      <td>over_15_HT_FHG_percentage_pre_match</td>\n",
       "      <td>1.0</td>\n",
       "    </tr>\n",
       "    <tr>\n",
       "      <th>17</th>\n",
       "      <td>over_05_HT_FHG_percentage_pre_match</td>\n",
       "      <td>1.2</td>\n",
       "    </tr>\n",
       "    <tr>\n",
       "      <th>18</th>\n",
       "      <td>over_15_2HG_percentage_pre_match</td>\n",
       "      <td>0.9</td>\n",
       "    </tr>\n",
       "    <tr>\n",
       "      <th>19</th>\n",
       "      <td>over_05_2HG_percentage_pre_match</td>\n",
       "      <td>1.1</td>\n",
       "    </tr>\n",
       "    <tr>\n",
       "      <th>20</th>\n",
       "      <td>average_corners_per_match_pre_match</td>\n",
       "      <td>1.5</td>\n",
       "    </tr>\n",
       "    <tr>\n",
       "      <th>21</th>\n",
       "      <td>average_cards_per_match_pre_match</td>\n",
       "      <td>1.5</td>\n",
       "    </tr>\n",
       "    <tr>\n",
       "      <th>22</th>\n",
       "      <td>odds_ft_team1_win</td>\n",
       "      <td>7.9</td>\n",
       "    </tr>\n",
       "    <tr>\n",
       "      <th>23</th>\n",
       "      <td>odds_ft_draw</td>\n",
       "      <td>2.9</td>\n",
       "    </tr>\n",
       "    <tr>\n",
       "      <th>24</th>\n",
       "      <td>odds_ft_team2_win</td>\n",
       "      <td>7.0</td>\n",
       "    </tr>\n",
       "    <tr>\n",
       "      <th>25</th>\n",
       "      <td>odds_ft_over15</td>\n",
       "      <td>1.6</td>\n",
       "    </tr>\n",
       "    <tr>\n",
       "      <th>26</th>\n",
       "      <td>odds_ft_over25</td>\n",
       "      <td>1.7</td>\n",
       "    </tr>\n",
       "    <tr>\n",
       "      <th>27</th>\n",
       "      <td>odds_ft_over45</td>\n",
       "      <td>1.5</td>\n",
       "    </tr>\n",
       "    <tr>\n",
       "      <th>28</th>\n",
       "      <td>odds_btts_yes</td>\n",
       "      <td>1.9</td>\n",
       "    </tr>\n",
       "    <tr>\n",
       "      <th>29</th>\n",
       "      <td>odds_btts_no</td>\n",
       "      <td>1.8</td>\n",
       "    </tr>\n",
       "    <tr>\n",
       "      <th>30</th>\n",
       "      <td>rank_team1</td>\n",
       "      <td>3.2</td>\n",
       "    </tr>\n",
       "    <tr>\n",
       "      <th>31</th>\n",
       "      <td>rank_change_team1</td>\n",
       "      <td>0.2</td>\n",
       "    </tr>\n",
       "    <tr>\n",
       "      <th>32</th>\n",
       "      <td>rank_team2</td>\n",
       "      <td>3.0</td>\n",
       "    </tr>\n",
       "    <tr>\n",
       "      <th>33</th>\n",
       "      <td>rank_change_team2</td>\n",
       "      <td>0.3</td>\n",
       "    </tr>\n",
       "    <tr>\n",
       "      <th>34</th>\n",
       "      <td>first_score_country</td>\n",
       "      <td>15.1</td>\n",
       "    </tr>\n",
       "  </tbody>\n",
       "</table>\n",
       "</div>"
      ],
      "text/plain": [
       "                                Feature  Importance score\n",
       "0                    Pre_Match_PPG_Home               1.7\n",
       "1                    Pre_Match_PPG_Away               1.6\n",
       "2                             team1_ppg              15.1\n",
       "3                             team2_ppg              10.7\n",
       "4                    team1_corner_count               1.5\n",
       "5                    team2_corner_count               1.5\n",
       "6                           team1_fouls               1.2\n",
       "7                           team2_fouls               1.1\n",
       "8                      team2_possession               3.0\n",
       "9                Home Team Pre-Match xG               1.4\n",
       "10               Away Team Pre-Match xG               1.3\n",
       "11            btts_percentage_pre_match               1.0\n",
       "12         over_15_percentage_pre_match               1.1\n",
       "13         over_25_percentage_pre_match               1.0\n",
       "14         over_35_percentage_pre_match               0.8\n",
       "15         over_45_percentage_pre_match               0.7\n",
       "16  over_15_HT_FHG_percentage_pre_match               1.0\n",
       "17  over_05_HT_FHG_percentage_pre_match               1.2\n",
       "18     over_15_2HG_percentage_pre_match               0.9\n",
       "19     over_05_2HG_percentage_pre_match               1.1\n",
       "20  average_corners_per_match_pre_match               1.5\n",
       "21    average_cards_per_match_pre_match               1.5\n",
       "22                    odds_ft_team1_win               7.9\n",
       "23                         odds_ft_draw               2.9\n",
       "24                    odds_ft_team2_win               7.0\n",
       "25                       odds_ft_over15               1.6\n",
       "26                       odds_ft_over25               1.7\n",
       "27                       odds_ft_over45               1.5\n",
       "28                        odds_btts_yes               1.9\n",
       "29                         odds_btts_no               1.8\n",
       "30                           rank_team1               3.2\n",
       "31                    rank_change_team1               0.2\n",
       "32                           rank_team2               3.0\n",
       "33                    rank_change_team2               0.3\n",
       "34                  first_score_country              15.1"
      ]
     },
     "execution_count": 448,
     "metadata": {},
     "output_type": "execute_result"
    }
   ],
   "source": [
    "pd.DataFrame({'Feature' : X_train.columns, \n",
    "              'Importance score': 100*rf.feature_importances_}).round(1)"
   ]
  },
  {
   "cell_type": "markdown",
   "metadata": {
    "cell_id": "f9ad44134e114687a323920e2b393bdb",
    "deepnote_cell_type": "text-cell-h1",
    "formattedRanges": [],
    "is_collapsed": false,
    "tags": []
   },
   "source": [
    "# "
   ]
  },
  {
   "cell_type": "markdown",
   "metadata": {
    "cell_id": "8c54ac8f0de9473bb4b72b461ddf1b59",
    "deepnote_cell_type": "text-cell-h1",
    "formattedRanges": [],
    "is_collapsed": false,
    "tags": []
   },
   "source": [
    "# Model Accuracy Table:"
   ]
  },
  {
   "cell_type": "code",
   "execution_count": 449,
   "metadata": {
    "cell_id": "ffeae31c6c314d87bc028d51ce750f86",
    "deepnote_cell_type": "code",
    "deepnote_to_be_reexecuted": false,
    "execution_millis": 13,
    "execution_start": 1670915730596,
    "source_hash": "df85b5b6",
    "tags": []
   },
   "outputs": [
    {
     "data": {
      "text/html": [
       "<div>\n",
       "<style scoped>\n",
       "    .dataframe tbody tr th:only-of-type {\n",
       "        vertical-align: middle;\n",
       "    }\n",
       "\n",
       "    .dataframe tbody tr th {\n",
       "        vertical-align: top;\n",
       "    }\n",
       "\n",
       "    .dataframe thead th {\n",
       "        text-align: right;\n",
       "    }\n",
       "</style>\n",
       "<table border=\"1\" class=\"dataframe\">\n",
       "  <thead>\n",
       "    <tr style=\"text-align: right;\">\n",
       "      <th></th>\n",
       "      <th>Model</th>\n",
       "      <th>Accuracy</th>\n",
       "    </tr>\n",
       "  </thead>\n",
       "  <tbody>\n",
       "    <tr>\n",
       "      <th>5</th>\n",
       "      <td>Random Forest</td>\n",
       "      <td>0.74828</td>\n",
       "    </tr>\n",
       "    <tr>\n",
       "      <th>0</th>\n",
       "      <td>Support Vector Machines</td>\n",
       "      <td>0.71389</td>\n",
       "    </tr>\n",
       "    <tr>\n",
       "      <th>2</th>\n",
       "      <td>LDA</td>\n",
       "      <td>0.71389</td>\n",
       "    </tr>\n",
       "    <tr>\n",
       "      <th>4</th>\n",
       "      <td>Decision Tree</td>\n",
       "      <td>0.68226</td>\n",
       "    </tr>\n",
       "    <tr>\n",
       "      <th>1</th>\n",
       "      <td>Logistic Regression</td>\n",
       "      <td>0.65612</td>\n",
       "    </tr>\n",
       "    <tr>\n",
       "      <th>3</th>\n",
       "      <td>Naive Bayes</td>\n",
       "      <td>0.58597</td>\n",
       "    </tr>\n",
       "  </tbody>\n",
       "</table>\n",
       "</div>"
      ],
      "text/plain": [
       "                     Model  Accuracy\n",
       "5            Random Forest   0.74828\n",
       "0  Support Vector Machines   0.71389\n",
       "2                      LDA   0.71389\n",
       "4            Decision Tree   0.68226\n",
       "1      Logistic Regression   0.65612\n",
       "3              Naive Bayes   0.58597"
      ]
     },
     "execution_count": 449,
     "metadata": {},
     "output_type": "execute_result"
    }
   ],
   "source": [
    "#Once all models are done we can compare accuracies here:\n",
    "models = pd.DataFrame({\n",
    "    'Model': ['Support Vector Machines', 'Logistic Regression', \n",
    "              'LDA', 'Naive Bayes','Decision Tree', 'Random Forest'],\n",
    "    'Accuracy': [acc_svm, acc_logreg, \n",
    "              acc_lda, acc_bayes, acc_dtc, acc_rf]})\n",
    "models.round(5).sort_values(by='Accuracy', ascending=False)"
   ]
  },
  {
   "cell_type": "markdown",
   "metadata": {
    "cell_id": "015894e18f194be0a265f21cf3803c7d",
    "deepnote_cell_type": "text-cell-h1",
    "formattedRanges": [],
    "is_collapsed": false,
    "tags": []
   },
   "source": [
    "# Aggregating Data by Country:"
   ]
  },
  {
   "cell_type": "code",
   "execution_count": 452,
   "metadata": {
    "cell_id": "3a9549bffcae47e7ad67eabe827e0a6f",
    "deepnote_cell_type": "code",
    "deepnote_to_be_reexecuted": false,
    "execution_millis": 1075,
    "execution_start": 1670911915950,
    "source_hash": "1fa6379e",
    "tags": []
   },
   "outputs": [
    {
     "name": "stderr",
     "output_type": "stream",
     "text": [
      "/var/folders/7r/3wbh_3yx46vflflwjp0xxbkm0000gn/T/ipykernel_83543/3825291683.py:1: FutureWarning: ['date_GMT', 'team2_name', 'team1_goal_timings', 'team2_goal_timings', 'country_full_team1', 'country_abrv_team1', 'country_full_team2', 'country_abrv_team2'] did not aggregate successfully. If any error is raised this will raise in a future version of pandas. Drop these columns/ops to avoid this warning.\n",
      "  temp_agg = full_data.groupby('team1_name').agg(np.average).reset_index()\n"
     ]
    },
    {
     "data": {
      "text/plain": [
       "array(['Afghanistan', 'Albania', 'Algeria', 'Andorra', 'Angola',\n",
       "       'Anguilla', 'Antigua and Barbuda', 'Argentina', 'Armenia', 'Aruba',\n",
       "       'Australia', 'Austria', 'Azerbaijan', 'Bahamas', 'Bahrain',\n",
       "       'Bangladesh', 'Barbados', 'Belarus', 'Belgium', 'Belize', 'Benin',\n",
       "       'Bermuda', 'Bhutan', 'Bolivia', 'Botswana', 'Brazil',\n",
       "       'British Virgin Islands', 'Bulgaria', 'Burundi', 'Cambodia',\n",
       "       'Cameroon', 'Canada', 'Cayman Islands', 'Central African Republic',\n",
       "       'Chad', 'Chile', 'China', 'Colombia', 'Comoros', 'Congo',\n",
       "       'Congo DR', 'Costa Rica', 'Croatia', 'Cuba', 'Curaçao', 'Cyprus',\n",
       "       'Czech Republic', 'Denmark', 'Djibouti', 'Dominica',\n",
       "       'Dominican Republic', 'Ecuador', 'Egypt', 'El Salvador', 'England',\n",
       "       'Equatorial Guinea', 'Eritrea', 'Estonia', 'Ethiopia',\n",
       "       'FYR Macedonia', 'Faroe Islands', 'Fiji', 'Finland', 'France',\n",
       "       'Gabon', 'Gambia', 'Georgia', 'Germany', 'Ghana', 'Gibraltar',\n",
       "       'Greece', 'Grenada', 'Guam', 'Guatemala', 'Guinea',\n",
       "       'Guinea-Bissau', 'Guyana', 'Haiti', 'Honduras', 'Hong Kong',\n",
       "       'Hungary', 'Iceland', 'India', 'Indonesia', 'Iran', 'Iraq',\n",
       "       'Israel', 'Italy', 'Jamaica', 'Japan', 'Jordan', 'Kazakhstan',\n",
       "       'Kenya', 'Kosovo', 'Kuwait', 'Kyrgyzstan', 'Laos', 'Latvia',\n",
       "       'Lebanon', 'Lesotho', 'Liberia', 'Libya', 'Liechtenstein',\n",
       "       'Lithuania', 'Luxembourg', 'Macau', 'Madagascar', 'Malawi',\n",
       "       'Malaysia', 'Maldives', 'Mali', 'Malta', 'Mauritania', 'Mauritius',\n",
       "       'Mexico', 'Moldova', 'Mongolia', 'Montenegro', 'Montserrat',\n",
       "       'Morocco', 'Mozambique', 'Myanmar', 'Namibia', 'Nepal',\n",
       "       'Netherlands', 'New Zealand', 'Nicaragua', 'Niger', 'Nigeria',\n",
       "       'Northern Ireland', 'Norway', 'Oman', 'Pakistan', 'Palestine',\n",
       "       'Panama', 'Paraguay', 'Peru', 'Philippines', 'Poland', 'Portugal',\n",
       "       'Puerto Rico', 'Qatar', 'Republic of Ireland', 'Romania', 'Russia',\n",
       "       'Rwanda', 'San Marino', 'Saudi Arabia', 'Scotland', 'Senegal',\n",
       "       'Serbia', 'Seychelles', 'Sierra Leone', 'Singapore', 'Slovakia',\n",
       "       'Slovenia', 'Solomon Islands', 'Somalia', 'South Africa',\n",
       "       'South Korea', 'South Sudan', 'Spain', 'Sri Lanka',\n",
       "       'St. Kitts and Nevis', 'St. Lucia', 'Sudan', 'Suriname', 'Sweden',\n",
       "       'Switzerland', 'Syria', 'Tahiti', 'Taiwan', 'Tajikistan',\n",
       "       'Tanzania', 'Thailand', 'Timor-Leste', 'Togo',\n",
       "       'Trinidad and Tobago', 'Tunisia', 'Turkey', 'Turkmenistan',\n",
       "       'Turks and Caicos Islands', 'UAE', 'US Virgin Islands', 'USMNT',\n",
       "       'Uganda', 'Ukraine', 'Uruguay', 'Uzbekistan', 'Vanuatu',\n",
       "       'Venezuela', 'Vietnam', 'Wales', 'Yemen', 'Zambia', 'Zimbabwe'],\n",
       "      dtype=object)"
      ]
     },
     "execution_count": 452,
     "metadata": {},
     "output_type": "execute_result"
    }
   ],
   "source": [
    "temp_agg = full_data.groupby('team1_name').agg(np.average).reset_index()\n",
    "temp_agg['team1_name'].unique()"
   ]
  },
  {
   "cell_type": "markdown",
   "metadata": {
    "cell_id": "43134c3049d44229bd5bc3c000d3c1b1",
    "deepnote_cell_type": "text-cell-h1",
    "formattedRanges": [],
    "is_collapsed": false,
    "tags": []
   },
   "source": [
    "# Testing Models on Specific Countries:"
   ]
  },
  {
   "cell_type": "code",
   "execution_count": 457,
   "metadata": {},
   "outputs": [
    {
     "data": {
      "text/html": [
       "<div>\n",
       "<style scoped>\n",
       "    .dataframe tbody tr th:only-of-type {\n",
       "        vertical-align: middle;\n",
       "    }\n",
       "\n",
       "    .dataframe tbody tr th {\n",
       "        vertical-align: top;\n",
       "    }\n",
       "\n",
       "    .dataframe thead th {\n",
       "        text-align: right;\n",
       "    }\n",
       "</style>\n",
       "<table border=\"1\" class=\"dataframe\">\n",
       "  <thead>\n",
       "    <tr style=\"text-align: right;\">\n",
       "      <th></th>\n",
       "      <th>date_GMT</th>\n",
       "      <th>team1_name</th>\n",
       "      <th>team2_name</th>\n",
       "      <th>Pre_Match_PPG_Home</th>\n",
       "      <th>Pre_Match_PPG_Away</th>\n",
       "      <th>team1_ppg</th>\n",
       "      <th>team2_ppg</th>\n",
       "      <th>team1_goal_count</th>\n",
       "      <th>team2_goal_count</th>\n",
       "      <th>total_goal_count</th>\n",
       "      <th>...</th>\n",
       "      <th>days_since</th>\n",
       "      <th>team1_result</th>\n",
       "      <th>team1_result_binary</th>\n",
       "      <th>first_score_country</th>\n",
       "      <th>who_won</th>\n",
       "      <th>year_2018</th>\n",
       "      <th>year_2019</th>\n",
       "      <th>year_2020</th>\n",
       "      <th>year_2021</th>\n",
       "      <th>year_2022</th>\n",
       "    </tr>\n",
       "  </thead>\n",
       "  <tbody>\n",
       "    <tr>\n",
       "      <th>0</th>\n",
       "      <td>Oct 07 2021 - 12:00pm</td>\n",
       "      <td>Indonesia</td>\n",
       "      <td>Taiwan</td>\n",
       "      <td>0.00</td>\n",
       "      <td>0.00</td>\n",
       "      <td>2.40</td>\n",
       "      <td>0.00</td>\n",
       "      <td>2</td>\n",
       "      <td>1</td>\n",
       "      <td>3</td>\n",
       "      <td>...</td>\n",
       "      <td>433</td>\n",
       "      <td>1</td>\n",
       "      <td>1</td>\n",
       "      <td>-1</td>\n",
       "      <td>1</td>\n",
       "      <td>0</td>\n",
       "      <td>0</td>\n",
       "      <td>0</td>\n",
       "      <td>1</td>\n",
       "      <td>0</td>\n",
       "    </tr>\n",
       "    <tr>\n",
       "      <th>1</th>\n",
       "      <td>Oct 09 2021 - 5:30pm</td>\n",
       "      <td>Guam</td>\n",
       "      <td>Cambodia</td>\n",
       "      <td>0.00</td>\n",
       "      <td>0.00</td>\n",
       "      <td>0.00</td>\n",
       "      <td>1.40</td>\n",
       "      <td>0</td>\n",
       "      <td>1</td>\n",
       "      <td>1</td>\n",
       "      <td>...</td>\n",
       "      <td>431</td>\n",
       "      <td>0</td>\n",
       "      <td>0</td>\n",
       "      <td>-1</td>\n",
       "      <td>-1</td>\n",
       "      <td>0</td>\n",
       "      <td>0</td>\n",
       "      <td>0</td>\n",
       "      <td>1</td>\n",
       "      <td>0</td>\n",
       "    </tr>\n",
       "    <tr>\n",
       "      <th>2</th>\n",
       "      <td>Oct 11 2021 - 1:00pm</td>\n",
       "      <td>Taiwan</td>\n",
       "      <td>Indonesia</td>\n",
       "      <td>0.00</td>\n",
       "      <td>3.00</td>\n",
       "      <td>0.00</td>\n",
       "      <td>2.40</td>\n",
       "      <td>0</td>\n",
       "      <td>3</td>\n",
       "      <td>3</td>\n",
       "      <td>...</td>\n",
       "      <td>429</td>\n",
       "      <td>0</td>\n",
       "      <td>0</td>\n",
       "      <td>-1</td>\n",
       "      <td>-1</td>\n",
       "      <td>0</td>\n",
       "      <td>0</td>\n",
       "      <td>0</td>\n",
       "      <td>1</td>\n",
       "      <td>0</td>\n",
       "    </tr>\n",
       "    <tr>\n",
       "      <th>3</th>\n",
       "      <td>Oct 12 2021 - 4:00pm</td>\n",
       "      <td>Cambodia</td>\n",
       "      <td>Guam</td>\n",
       "      <td>3.00</td>\n",
       "      <td>0.00</td>\n",
       "      <td>1.40</td>\n",
       "      <td>0.00</td>\n",
       "      <td>2</td>\n",
       "      <td>1</td>\n",
       "      <td>3</td>\n",
       "      <td>...</td>\n",
       "      <td>428</td>\n",
       "      <td>1</td>\n",
       "      <td>1</td>\n",
       "      <td>1</td>\n",
       "      <td>1</td>\n",
       "      <td>0</td>\n",
       "      <td>0</td>\n",
       "      <td>0</td>\n",
       "      <td>1</td>\n",
       "      <td>0</td>\n",
       "    </tr>\n",
       "    <tr>\n",
       "      <th>4</th>\n",
       "      <td>Jun 08 2022 - 4:30am</td>\n",
       "      <td>Philippines</td>\n",
       "      <td>Yemen</td>\n",
       "      <td>0.00</td>\n",
       "      <td>0.00</td>\n",
       "      <td>1.33</td>\n",
       "      <td>0.33</td>\n",
       "      <td>0</td>\n",
       "      <td>0</td>\n",
       "      <td>0</td>\n",
       "      <td>...</td>\n",
       "      <td>189</td>\n",
       "      <td>0</td>\n",
       "      <td>0</td>\n",
       "      <td>0</td>\n",
       "      <td>0</td>\n",
       "      <td>0</td>\n",
       "      <td>0</td>\n",
       "      <td>0</td>\n",
       "      <td>0</td>\n",
       "      <td>1</td>\n",
       "    </tr>\n",
       "    <tr>\n",
       "      <th>...</th>\n",
       "      <td>...</td>\n",
       "      <td>...</td>\n",
       "      <td>...</td>\n",
       "      <td>...</td>\n",
       "      <td>...</td>\n",
       "      <td>...</td>\n",
       "      <td>...</td>\n",
       "      <td>...</td>\n",
       "      <td>...</td>\n",
       "      <td>...</td>\n",
       "      <td>...</td>\n",
       "      <td>...</td>\n",
       "      <td>...</td>\n",
       "      <td>...</td>\n",
       "      <td>...</td>\n",
       "      <td>...</td>\n",
       "      <td>...</td>\n",
       "      <td>...</td>\n",
       "      <td>...</td>\n",
       "      <td>...</td>\n",
       "      <td>...</td>\n",
       "    </tr>\n",
       "    <tr>\n",
       "      <th>3280</th>\n",
       "      <td>Mar 29 2022 - 11:30pm</td>\n",
       "      <td>Bolivia</td>\n",
       "      <td>Brazil</td>\n",
       "      <td>0.88</td>\n",
       "      <td>2.63</td>\n",
       "      <td>0.83</td>\n",
       "      <td>2.65</td>\n",
       "      <td>0</td>\n",
       "      <td>4</td>\n",
       "      <td>4</td>\n",
       "      <td>...</td>\n",
       "      <td>260</td>\n",
       "      <td>0</td>\n",
       "      <td>0</td>\n",
       "      <td>-1</td>\n",
       "      <td>-1</td>\n",
       "      <td>0</td>\n",
       "      <td>0</td>\n",
       "      <td>0</td>\n",
       "      <td>0</td>\n",
       "      <td>1</td>\n",
       "    </tr>\n",
       "    <tr>\n",
       "      <th>3281</th>\n",
       "      <td>Mar 29 2022 - 11:30pm</td>\n",
       "      <td>Ecuador</td>\n",
       "      <td>Argentina</td>\n",
       "      <td>1.47</td>\n",
       "      <td>2.38</td>\n",
       "      <td>1.44</td>\n",
       "      <td>2.29</td>\n",
       "      <td>1</td>\n",
       "      <td>1</td>\n",
       "      <td>2</td>\n",
       "      <td>...</td>\n",
       "      <td>260</td>\n",
       "      <td>0</td>\n",
       "      <td>0</td>\n",
       "      <td>1</td>\n",
       "      <td>0</td>\n",
       "      <td>0</td>\n",
       "      <td>0</td>\n",
       "      <td>0</td>\n",
       "      <td>0</td>\n",
       "      <td>1</td>\n",
       "    </tr>\n",
       "    <tr>\n",
       "      <th>3282</th>\n",
       "      <td>Mar 29 2022 - 11:30pm</td>\n",
       "      <td>Peru</td>\n",
       "      <td>Paraguay</td>\n",
       "      <td>1.24</td>\n",
       "      <td>0.94</td>\n",
       "      <td>1.33</td>\n",
       "      <td>0.89</td>\n",
       "      <td>2</td>\n",
       "      <td>0</td>\n",
       "      <td>2</td>\n",
       "      <td>...</td>\n",
       "      <td>260</td>\n",
       "      <td>1</td>\n",
       "      <td>1</td>\n",
       "      <td>1</td>\n",
       "      <td>1</td>\n",
       "      <td>0</td>\n",
       "      <td>0</td>\n",
       "      <td>0</td>\n",
       "      <td>0</td>\n",
       "      <td>1</td>\n",
       "    </tr>\n",
       "    <tr>\n",
       "      <th>3283</th>\n",
       "      <td>Mar 29 2022 - 11:30pm</td>\n",
       "      <td>Chile</td>\n",
       "      <td>Uruguay</td>\n",
       "      <td>1.12</td>\n",
       "      <td>1.47</td>\n",
       "      <td>1.06</td>\n",
       "      <td>1.56</td>\n",
       "      <td>0</td>\n",
       "      <td>2</td>\n",
       "      <td>2</td>\n",
       "      <td>...</td>\n",
       "      <td>260</td>\n",
       "      <td>0</td>\n",
       "      <td>0</td>\n",
       "      <td>-1</td>\n",
       "      <td>-1</td>\n",
       "      <td>0</td>\n",
       "      <td>0</td>\n",
       "      <td>0</td>\n",
       "      <td>0</td>\n",
       "      <td>1</td>\n",
       "    </tr>\n",
       "    <tr>\n",
       "      <th>3284</th>\n",
       "      <td>Mar 29 2022 - 11:30pm</td>\n",
       "      <td>Venezuela</td>\n",
       "      <td>Colombia</td>\n",
       "      <td>0.59</td>\n",
       "      <td>1.18</td>\n",
       "      <td>0.56</td>\n",
       "      <td>1.28</td>\n",
       "      <td>0</td>\n",
       "      <td>1</td>\n",
       "      <td>1</td>\n",
       "      <td>...</td>\n",
       "      <td>260</td>\n",
       "      <td>0</td>\n",
       "      <td>0</td>\n",
       "      <td>-1</td>\n",
       "      <td>-1</td>\n",
       "      <td>0</td>\n",
       "      <td>0</td>\n",
       "      <td>0</td>\n",
       "      <td>0</td>\n",
       "      <td>1</td>\n",
       "    </tr>\n",
       "  </tbody>\n",
       "</table>\n",
       "<p>2907 rows × 82 columns</p>\n",
       "</div>"
      ],
      "text/plain": [
       "                   date_GMT   team1_name team2_name  Pre_Match_PPG_Home  \\\n",
       "0     Oct 07 2021 - 12:00pm    Indonesia     Taiwan                0.00   \n",
       "1      Oct 09 2021 - 5:30pm         Guam   Cambodia                0.00   \n",
       "2      Oct 11 2021 - 1:00pm       Taiwan  Indonesia                0.00   \n",
       "3      Oct 12 2021 - 4:00pm     Cambodia       Guam                3.00   \n",
       "4      Jun 08 2022 - 4:30am  Philippines      Yemen                0.00   \n",
       "...                     ...          ...        ...                 ...   \n",
       "3280  Mar 29 2022 - 11:30pm      Bolivia     Brazil                0.88   \n",
       "3281  Mar 29 2022 - 11:30pm      Ecuador  Argentina                1.47   \n",
       "3282  Mar 29 2022 - 11:30pm         Peru   Paraguay                1.24   \n",
       "3283  Mar 29 2022 - 11:30pm        Chile    Uruguay                1.12   \n",
       "3284  Mar 29 2022 - 11:30pm    Venezuela   Colombia                0.59   \n",
       "\n",
       "      Pre_Match_PPG_Away  team1_ppg  team2_ppg  team1_goal_count  \\\n",
       "0                   0.00       2.40       0.00                 2   \n",
       "1                   0.00       0.00       1.40                 0   \n",
       "2                   3.00       0.00       2.40                 0   \n",
       "3                   0.00       1.40       0.00                 2   \n",
       "4                   0.00       1.33       0.33                 0   \n",
       "...                  ...        ...        ...               ...   \n",
       "3280                2.63       0.83       2.65                 0   \n",
       "3281                2.38       1.44       2.29                 1   \n",
       "3282                0.94       1.33       0.89                 2   \n",
       "3283                1.47       1.06       1.56                 0   \n",
       "3284                1.18       0.56       1.28                 0   \n",
       "\n",
       "      team2_goal_count  total_goal_count  ...  days_since  team1_result  \\\n",
       "0                    1                 3  ...         433             1   \n",
       "1                    1                 1  ...         431             0   \n",
       "2                    3                 3  ...         429             0   \n",
       "3                    1                 3  ...         428             1   \n",
       "4                    0                 0  ...         189             0   \n",
       "...                ...               ...  ...         ...           ...   \n",
       "3280                 4                 4  ...         260             0   \n",
       "3281                 1                 2  ...         260             0   \n",
       "3282                 0                 2  ...         260             1   \n",
       "3283                 2                 2  ...         260             0   \n",
       "3284                 1                 1  ...         260             0   \n",
       "\n",
       "      team1_result_binary first_score_country who_won  year_2018  year_2019  \\\n",
       "0                       1                  -1       1          0          0   \n",
       "1                       0                  -1      -1          0          0   \n",
       "2                       0                  -1      -1          0          0   \n",
       "3                       1                   1       1          0          0   \n",
       "4                       0                   0       0          0          0   \n",
       "...                   ...                 ...     ...        ...        ...   \n",
       "3280                    0                  -1      -1          0          0   \n",
       "3281                    0                   1       0          0          0   \n",
       "3282                    1                   1       1          0          0   \n",
       "3283                    0                  -1      -1          0          0   \n",
       "3284                    0                  -1      -1          0          0   \n",
       "\n",
       "      year_2020  year_2021  year_2022  \n",
       "0             0          1          0  \n",
       "1             0          1          0  \n",
       "2             0          1          0  \n",
       "3             0          1          0  \n",
       "4             0          0          1  \n",
       "...         ...        ...        ...  \n",
       "3280          0          0          1  \n",
       "3281          0          0          1  \n",
       "3282          0          0          1  \n",
       "3283          0          0          1  \n",
       "3284          0          0          1  \n",
       "\n",
       "[2907 rows x 82 columns]"
      ]
     },
     "execution_count": 457,
     "metadata": {},
     "output_type": "execute_result"
    }
   ],
   "source": [
    "full_data"
   ]
  },
  {
   "cell_type": "code",
   "execution_count": 458,
   "metadata": {
    "cell_id": "c095ffced723415e8eed78e80d697b02",
    "deepnote_cell_type": "code",
    "deepnote_to_be_reexecuted": false,
    "execution_millis": 42,
    "execution_start": 1670914798765,
    "source_hash": "560b9028",
    "tags": []
   },
   "outputs": [],
   "source": [
    "#Function that pulls all features for two specific countries that will play in a match:\n",
    "def getting_data_from_team2(country_name1, country_name2):\n",
    "    ### Features feeded into the model:\n",
    "    ## When using X_train, values are all 0. When using X_train_final, values are positive numbers.\n",
    "    ## We want to use X_train, need to figure out what is wrong:\n",
    "    temp_features = X_train.columns\n",
    "    temp_dict = {}\n",
    "    \n",
    "    for feature in list(temp_features):\n",
    "        if 'team1' in feature:\n",
    "            temp_dict[feature] = [list(temp_agg[temp_agg['team1_name'] == country_name1][temp_dict2.get(feature)])[0]]\n",
    "        elif 'team2' in feature:\n",
    "            temp_dict[feature] = [list(temp_agg[temp_agg['team1_name'] == country_name2][temp_dict2.get(feature)])[0]]\n",
    "        else:\n",
    "            if (feature != 'year_2022'):\n",
    "                temp_dict[feature] = [0]\n",
    "            else:\n",
    "                temp_dict[feature] = [1]\n",
    "                \n",
    "    return pd.DataFrame(temp_dict)"
   ]
  },
  {
   "cell_type": "code",
   "execution_count": 461,
   "metadata": {},
   "outputs": [
    {
     "data": {
      "text/plain": [
       "['Pre_Match_PPG_Home',\n",
       " 'Pre_Match_PPG_Away',\n",
       " 'team1_ppg',\n",
       " 'team2_ppg',\n",
       " 'team1_corner_count',\n",
       " 'team2_corner_count',\n",
       " 'team1_fouls',\n",
       " 'team2_fouls',\n",
       " 'team2_possession',\n",
       " 'Home Team Pre-Match xG',\n",
       " 'Away Team Pre-Match xG',\n",
       " 'btts_percentage_pre_match',\n",
       " 'over_15_percentage_pre_match',\n",
       " 'over_25_percentage_pre_match',\n",
       " 'over_35_percentage_pre_match',\n",
       " 'over_45_percentage_pre_match',\n",
       " 'over_15_HT_FHG_percentage_pre_match',\n",
       " 'over_05_HT_FHG_percentage_pre_match',\n",
       " 'over_15_2HG_percentage_pre_match',\n",
       " 'over_05_2HG_percentage_pre_match',\n",
       " 'average_corners_per_match_pre_match',\n",
       " 'average_cards_per_match_pre_match',\n",
       " 'odds_ft_team1_win',\n",
       " 'odds_ft_draw',\n",
       " 'odds_ft_team2_win',\n",
       " 'odds_ft_over15',\n",
       " 'odds_ft_over25',\n",
       " 'odds_ft_over45',\n",
       " 'odds_btts_yes',\n",
       " 'odds_btts_no',\n",
       " 'rank_team1',\n",
       " 'rank_change_team1',\n",
       " 'rank_team2',\n",
       " 'rank_change_team2',\n",
       " 'first_score_country',\n",
       " 'who_won']"
      ]
     },
     "execution_count": 461,
     "metadata": {},
     "output_type": "execute_result"
    }
   ],
   "source": [
    "vifs"
   ]
  },
  {
   "cell_type": "code",
   "execution_count": null,
   "metadata": {
    "cell_id": "a72a7c599647456088e983a27ef49ee0",
    "deepnote_cell_type": "code",
    "deepnote_to_be_reexecuted": false,
    "execution_millis": 1,
    "execution_start": 1670912163625,
    "source_hash": "104ceff2",
    "tags": []
   },
   "outputs": [],
   "source": [
    "### Relevant features to be used\n",
    "temp_dict2 = {'team1_ppg' : 'home_ppg', \n",
    " 'team2_ppg' : 'home_ppg', \n",
    " 'team1_goal_count' : 'home_team_goal_count', \n",
    " 'team2_goal_count': 'home_team_goal_count', \n",
    " 'team1_yellow_cards' :'home_team_yellow_cards', \n",
    " 'team1_red_cards' : 'home_team_red_cards', \n",
    " 'team2_yellow_cards' : 'home_team_yellow_cards', \n",
    " 'team2_red_cards' : 'home_team_red_cards', \n",
    " 'team1_shots': 'home_team_shots', \n",
    " 'team2_shots': 'home_team_shots',\n",
    " 'team1_shots_on_target' : 'home_team_shots_on_target', \n",
    " 'team2_shots_on_target': 'home_team_shots_on_target',\n",
    " 'team1_shots_off_target': 'home_team_shots_off_target', \n",
    " 'team2_shots_off_target': 'home_team_shots_off_target', \n",
    " 'team1_fouls': 'home_team_fouls',\n",
    " 'team2_fouls': 'home_team_fouls', \n",
    " 'team1_possession': 'home_team_possession', \n",
    " 'team2_possession' : 'home_team_possession',\n",
    " 'first_score_country' : 'first_score_country'}"
   ]
  },
  {
   "cell_type": "code",
   "execution_count": 459,
   "metadata": {
    "cell_id": "389c77b85ba6473e9a65c795b7de6fae",
    "deepnote_cell_type": "code",
    "deepnote_to_be_reexecuted": false,
    "execution_millis": 71,
    "execution_start": 1670915816033,
    "source_hash": "d9147745",
    "tags": []
   },
   "outputs": [
    {
     "ename": "NameError",
     "evalue": "name 'temp_dict2' is not defined",
     "output_type": "error",
     "traceback": [
      "\u001b[0;31m---------------------------------------------------------------------------\u001b[0m",
      "\u001b[0;31mNameError\u001b[0m                                 Traceback (most recent call last)",
      "Input \u001b[0;32mIn [459]\u001b[0m, in \u001b[0;36m<cell line: 2>\u001b[0;34m()\u001b[0m\n\u001b[1;32m      1\u001b[0m \u001b[38;5;66;03m#Testing Function between two random countries:\u001b[39;00m\n\u001b[0;32m----> 2\u001b[0m \u001b[43mgetting_data_from_team2\u001b[49m\u001b[43m(\u001b[49m\u001b[38;5;124;43m'\u001b[39;49m\u001b[38;5;124;43mBrazil\u001b[39;49m\u001b[38;5;124;43m'\u001b[39;49m\u001b[43m,\u001b[49m\u001b[43m \u001b[49m\u001b[38;5;124;43m'\u001b[39;49m\u001b[38;5;124;43mSouth Korea\u001b[39;49m\u001b[38;5;124;43m'\u001b[39;49m\u001b[43m)\u001b[49m\n",
      "Input \u001b[0;32mIn [458]\u001b[0m, in \u001b[0;36mgetting_data_from_team2\u001b[0;34m(country_name1, country_name2)\u001b[0m\n\u001b[1;32m      9\u001b[0m \u001b[38;5;28;01mfor\u001b[39;00m feature \u001b[38;5;129;01min\u001b[39;00m \u001b[38;5;28mlist\u001b[39m(temp_features):\n\u001b[1;32m     10\u001b[0m     \u001b[38;5;28;01mif\u001b[39;00m \u001b[38;5;124m'\u001b[39m\u001b[38;5;124mteam1\u001b[39m\u001b[38;5;124m'\u001b[39m \u001b[38;5;129;01min\u001b[39;00m feature:\n\u001b[0;32m---> 11\u001b[0m         temp_dict[feature] \u001b[38;5;241m=\u001b[39m [\u001b[38;5;28mlist\u001b[39m(temp_agg[temp_agg[\u001b[38;5;124m'\u001b[39m\u001b[38;5;124mteam1_name\u001b[39m\u001b[38;5;124m'\u001b[39m] \u001b[38;5;241m==\u001b[39m country_name1][\u001b[43mtemp_dict2\u001b[49m\u001b[38;5;241m.\u001b[39mget(feature)])[\u001b[38;5;241m0\u001b[39m]]\n\u001b[1;32m     12\u001b[0m     \u001b[38;5;28;01melif\u001b[39;00m \u001b[38;5;124m'\u001b[39m\u001b[38;5;124mteam2\u001b[39m\u001b[38;5;124m'\u001b[39m \u001b[38;5;129;01min\u001b[39;00m feature:\n\u001b[1;32m     13\u001b[0m         temp_dict[feature] \u001b[38;5;241m=\u001b[39m [\u001b[38;5;28mlist\u001b[39m(temp_agg[temp_agg[\u001b[38;5;124m'\u001b[39m\u001b[38;5;124mteam1_name\u001b[39m\u001b[38;5;124m'\u001b[39m] \u001b[38;5;241m==\u001b[39m country_name2][temp_dict2\u001b[38;5;241m.\u001b[39mget(feature)])[\u001b[38;5;241m0\u001b[39m]]\n",
      "\u001b[0;31mNameError\u001b[0m: name 'temp_dict2' is not defined"
     ]
    }
   ],
   "source": [
    "#Testing Function between two random countries:\n",
    "getting_data_from_team2('Brazil', 'South Korea')"
   ]
  },
  {
   "cell_type": "markdown",
   "metadata": {
    "cell_id": "950b7e0735c0471f97f5a484188af4f6",
    "deepnote_cell_type": "text-cell-h2",
    "formattedRanges": [],
    "is_collapsed": false,
    "tags": []
   },
   "source": [
    "## LDA test:"
   ]
  },
  {
   "cell_type": "code",
   "execution_count": null,
   "metadata": {
    "cell_id": "3bb496e2cea44cc3b4116b3936d0b45e",
    "deepnote_cell_type": "code",
    "deepnote_to_be_reexecuted": false,
    "execution_millis": 21,
    "execution_start": 1670915560110,
    "source_hash": "1283fea5",
    "tags": []
   },
   "outputs": [
    {
     "data": {
      "text/plain": [
       "array([[0.10119773, 0.64392262, 0.25487964]])"
      ]
     },
     "execution_count": 58,
     "metadata": {},
     "output_type": "execute_result"
    }
   ],
   "source": [
    "### Third Item indicates the prob of first country wins\n",
    "### Second Item indicates the prob of draw\n",
    "### first Item indicates the prob of second country wins\n",
    "\n",
    "lda.predict_proba(getting_data_from_team2('Spain', 'Indonesia'))\n",
    "#Spain has a 57% chance of winning and Indonesia has a 10% chance."
   ]
  },
  {
   "cell_type": "code",
   "execution_count": null,
   "metadata": {
    "cell_id": "e27e317e9f84469a9c16eec084587416",
    "deepnote_cell_type": "code",
    "deepnote_to_be_reexecuted": false,
    "execution_millis": 22,
    "execution_start": 1670915581842,
    "source_hash": "2af0aff2",
    "tags": []
   },
   "outputs": [
    {
     "data": {
      "text/plain": [
       "array([[0.10119773, 0.64392262, 0.25487964]])"
      ]
     },
     "execution_count": 59,
     "metadata": {},
     "output_type": "execute_result"
    }
   ],
   "source": [
    "lda.predict_proba(getting_data_from_team2('England', 'France'))"
   ]
  },
  {
   "cell_type": "markdown",
   "metadata": {
    "cell_id": "1b9a2c80ac084e7b8d2c960c79a3bf69",
    "deepnote_cell_type": "text-cell-h2",
    "formattedRanges": [],
    "is_collapsed": false,
    "tags": []
   },
   "source": [
    "## Logistic Regression test:"
   ]
  },
  {
   "cell_type": "markdown",
   "metadata": {
    "cell_id": "2ebf03cdd6334b67ae6a390e0b8f5cfc",
    "deepnote_cell_type": "text-cell-p",
    "formattedRanges": [],
    "is_collapsed": false,
    "tags": []
   },
   "source": [
    "The draw percentage for logistic regression seems high. Something to look at."
   ]
  },
  {
   "cell_type": "code",
   "execution_count": null,
   "metadata": {
    "cell_id": "8e17deabf66e41aa840c8d01a88ad1cd",
    "deepnote_cell_type": "code",
    "deepnote_to_be_reexecuted": false,
    "execution_millis": 2,
    "execution_start": 1670915774222,
    "source_hash": "95d1e971",
    "tags": []
   },
   "outputs": [
    {
     "data": {
      "text/plain": [
       "array([[0.32474352, 0.3237275 , 0.35152898]])"
      ]
     },
     "execution_count": 73,
     "metadata": {},
     "output_type": "execute_result"
    }
   ],
   "source": [
    "clf.predict_proba(getting_data_from_team2('Spain', 'Indonesia'))"
   ]
  },
  {
   "cell_type": "code",
   "execution_count": null,
   "metadata": {
    "cell_id": "ceab2c05e9f947ab9fda24b83cdd8c03",
    "deepnote_cell_type": "code",
    "deepnote_to_be_reexecuted": false,
    "execution_millis": 16,
    "execution_start": 1670915777123,
    "source_hash": "6e53953f",
    "tags": []
   },
   "outputs": [
    {
     "data": {
      "text/plain": [
       "array([[0.32474352, 0.3237275 , 0.35152898]])"
      ]
     },
     "execution_count": 74,
     "metadata": {},
     "output_type": "execute_result"
    }
   ],
   "source": [
    "clf.predict_proba(getting_data_from_team2('England', 'France'))"
   ]
  },
  {
   "cell_type": "markdown",
   "metadata": {
    "cell_id": "52dbc6394471442aae3960f6d1e8d378",
    "deepnote_cell_type": "text-cell-h2",
    "formattedRanges": [],
    "is_collapsed": false,
    "tags": []
   },
   "source": [
    "## Decision Tree Classifier test:"
   ]
  },
  {
   "cell_type": "code",
   "execution_count": null,
   "metadata": {
    "cell_id": "9cbb3515d861411cb0e9eb2378d9d44d",
    "deepnote_cell_type": "code",
    "deepnote_to_be_reexecuted": true,
    "execution_millis": 3,
    "execution_start": 1670907200019,
    "source_hash": "757c738f",
    "tags": []
   },
   "outputs": [
    {
     "data": {
      "text/plain": [
       "array([[0.24561404, 0.43859649, 0.31578947]])"
      ]
     },
     "execution_count": 71,
     "metadata": {},
     "output_type": "execute_result"
    }
   ],
   "source": [
    "dtc.predict_proba(getting_data_from_team2('South Korea', 'Brazil'))"
   ]
  },
  {
   "cell_type": "code",
   "execution_count": null,
   "metadata": {
    "cell_id": "f12617eee9b648e187e696a551511458",
    "deepnote_cell_type": "code",
    "deepnote_to_be_reexecuted": true,
    "execution_millis": 2,
    "execution_start": 1670907200020,
    "source_hash": "8f230f3e",
    "tags": []
   },
   "outputs": [
    {
     "data": {
      "text/plain": [
       "array([[0.24561404, 0.43859649, 0.31578947]])"
      ]
     },
     "execution_count": 72,
     "metadata": {},
     "output_type": "execute_result"
    }
   ],
   "source": [
    "dtc.predict_proba(getting_data_from_team2('Iran', 'USMNT'))"
   ]
  },
  {
   "cell_type": "markdown",
   "metadata": {
    "cell_id": "eea0dfa20ff546bcac1dfaa71c6df7b9",
    "deepnote_cell_type": "markdown",
    "tags": []
   },
   "source": [
    "## Naive Bayes Test"
   ]
  },
  {
   "cell_type": "code",
   "execution_count": null,
   "metadata": {
    "cell_id": "c2866f6ba9764a4da76db0effc84e893",
    "deepnote_cell_type": "code",
    "deepnote_to_be_reexecuted": true,
    "execution_millis": 101,
    "execution_start": 1670907200020,
    "source_hash": "3f32fa92",
    "tags": []
   },
   "outputs": [
    {
     "data": {
      "text/plain": [
       "array([[0.50998056, 0.47444906, 0.01557038]])"
      ]
     },
     "execution_count": 73,
     "metadata": {},
     "output_type": "execute_result"
    }
   ],
   "source": [
    "gnb.predict_proba(getting_data_from_team2('Iran', 'France'))"
   ]
  },
  {
   "cell_type": "code",
   "execution_count": null,
   "metadata": {
    "cell_id": "6a266cb569c44fcb9c5ccc556aa945a2",
    "deepnote_cell_type": "code",
    "deepnote_to_be_reexecuted": true,
    "execution_millis": 45,
    "execution_start": 1670907200076,
    "source_hash": "38b64f98",
    "tags": []
   },
   "outputs": [
    {
     "data": {
      "text/plain": [
       "array([[0.34837938, 0.60401188, 0.04760874]])"
      ]
     },
     "execution_count": 74,
     "metadata": {},
     "output_type": "execute_result"
    }
   ],
   "source": [
    "gnb.predict_proba(getting_data_from_team2('England', 'France'))"
   ]
  },
  {
   "cell_type": "markdown",
   "metadata": {
    "cell_id": "bb251cf083fe4da49e42fb809a297684",
    "deepnote_cell_type": "text-cell-h2",
    "formattedRanges": [],
    "is_collapsed": false,
    "tags": []
   },
   "source": [
    "## Amy's Model test:"
   ]
  },
  {
   "cell_type": "code",
   "execution_count": null,
   "metadata": {
    "cell_id": "d8f602bb9b2c4611b9f74074698da3ff",
    "deepnote_cell_type": "code",
    "deepnote_to_be_reexecuted": false,
    "execution_millis": 50,
    "execution_start": 1670915453417,
    "source_hash": "7fff7d14",
    "tags": []
   },
   "outputs": [
    {
     "data": {
      "text/plain": [
       "array([[0.34845154, 0.18786618, 0.46368228]])"
      ]
     },
     "execution_count": 54,
     "metadata": {},
     "output_type": "execute_result"
    }
   ],
   "source": [
    "rf.predict_proba(getting_data_from_team2('Spain', 'Indonesia'))\n"
   ]
  },
  {
   "cell_type": "code",
   "execution_count": null,
   "metadata": {
    "cell_id": "5421f5ee5af64a2cac20a1aeb70d3836",
    "deepnote_cell_type": "code",
    "deepnote_table_loading": false,
    "deepnote_table_state": {
     "filters": [],
     "pageIndex": 0,
     "pageSize": 10,
     "sortBy": []
    },
    "deepnote_to_be_reexecuted": false,
    "execution_millis": 7,
    "execution_start": 1670912716173,
    "source_hash": "c25fa2a0",
    "tags": []
   },
   "outputs": [
    {
     "ename": "SyntaxError",
     "evalue": "invalid syntax (2903629900.py, line 2)",
     "output_type": "error",
     "traceback": [
      "\u001b[0;36m  Cell \u001b[0;32mIn [128], line 2\u001b[0;36m\u001b[0m\n\u001b[0;31m    .\u001b[0m\n\u001b[0m    ^\u001b[0m\n\u001b[0;31mSyntaxError\u001b[0m\u001b[0;31m:\u001b[0m invalid syntax\n"
     ]
    }
   ],
   "source": [
    "."
   ]
  },
  {
   "cell_type": "markdown",
   "metadata": {
    "cell_id": "921fa6045cd4416a8cebfaccae9040d4",
    "deepnote_cell_type": "text-cell-h1",
    "formattedRanges": [],
    "is_collapsed": false,
    "tags": []
   },
   "source": [
    "# Simulation Function:"
   ]
  },
  {
   "cell_type": "code",
   "execution_count": null,
   "metadata": {
    "cell_id": "ddee6941fc954d3f8edad2c0450d54e4",
    "deepnote_cell_type": "code",
    "deepnote_to_be_reexecuted": true,
    "execution_millis": 1,
    "execution_start": 1670907200127,
    "source_hash": "613b52d4",
    "tags": []
   },
   "outputs": [],
   "source": [
    "qatar_group_stage = qatar_group_stage.replace(['IR Iran'], 'Iran')\n",
    "qatar_group_stage = qatar_group_stage.replace(['USA'], 'USMNT')\n",
    "qatar_group_stage = qatar_group_stage.replace(['Korea Republic'], 'South Korea')\n",
    "gs = qatar_group_stage.iloc[0:48, :]"
   ]
  },
  {
   "cell_type": "code",
   "execution_count": null,
   "metadata": {
    "cell_id": "10047e5e278f418d8e664add5d594110",
    "deepnote_cell_type": "code",
    "deepnote_to_be_reexecuted": true,
    "execution_millis": 0,
    "execution_start": 1670907200128,
    "source_hash": "70b0e330",
    "tags": []
   },
   "outputs": [],
   "source": [
    "# Function to simulate group stage:\n",
    "def group_stage_predictions2(team1, team2, model):\n",
    "\n",
    "    team1_points = 0\n",
    "    team2_points = 0\n",
    "\n",
    "    team1_win_prob = model.predict_proba(getting_data_from_team2(team1, team2)).item(2)\n",
    "    team2_win_prob = model.predict_proba(getting_data_from_team2(team1, team2)).item(0)\n",
    "    draw_prob = model.predict_proba(getting_data_from_team2(team1, team2)).item(1)\n",
    "\n",
    "    num_points = 0\n",
    "    if team1_win_prob > team2_win_prob and team1_win_prob > draw_prob:\n",
    "        #print(team1 + \"wins with \" + team1_win_prob + \"probability\")\n",
    "        team1_points += 3\n",
    "    if team2_win_prob > team1_win_prob and team2_win_prob > draw_prob:\n",
    "        #print(team2 + \"wins with \" + team2_win_prob + \"probability\")\n",
    "        team2_points += 3\n",
    "    if draw_prob > team1_win_prob and draw_prob > team2_win_prob:\n",
    "        #print('Draw')\n",
    "        team2_points += 1\n",
    "        team1_points += 1\n",
    "    return([team1_points, team2_points])\n"
   ]
  },
  {
   "cell_type": "code",
   "execution_count": null,
   "metadata": {
    "cell_id": "168507030e6d4ed7b10e84fc2bd236e5",
    "deepnote_cell_type": "code",
    "deepnote_to_be_reexecuted": true,
    "execution_millis": 6,
    "execution_start": 1670907200129,
    "source_hash": "34055abe",
    "tags": []
   },
   "outputs": [
    {
     "name": "stdout",
     "output_type": "stream",
     "text": [
      "        country1      country2 group\n",
      "0          Qatar       Ecuador     a\n",
      "1        Senegal   Netherlands     a\n",
      "35   Netherlands         Qatar     a\n",
      "34       Ecuador       Senegal     a\n",
      "18   Netherlands       Ecuador     a\n",
      "17         Qatar       Senegal     a\n",
      "2        England          Iran     b\n",
      "3          USMNT         Wales     b\n",
      "33          Iran         USMNT     b\n",
      "32         Wales       England     b\n",
      "19       England         USMNT     b\n",
      "16         Wales          Iran     b\n",
      "39  Saudi Arabia        Mexico     c\n",
      "38        Poland     Argentina     c\n",
      "21        Poland  Saudi Arabia     c\n",
      "23     Argentina        Mexico     c\n",
      "6         Mexico        Poland     c\n",
      "7      Argentina  Saudi Arabia     c\n",
      "36     Australia       Denmark     d\n",
      "37       Tunisia        France     d\n",
      "20       Tunisia     Australia     d\n",
      "22        France       Denmark     d\n",
      "4         France     Australia     d\n",
      "5        Denmark       Tunisia     d\n",
      "9          Spain    Costa Rica     e\n",
      "42         Japan         Spain     e\n",
      "27         Spain       Germany     e\n",
      "43    Costa Rica       Germany     e\n",
      "24         Japan    Costa Rica     e\n",
      "10       Germany         Japan     e\n",
      "11       Morocco       Croatia     f\n",
      "40       Croatia       Belgium     f\n",
      "41        Canada       Morocco     f\n",
      "8        Belgium        Canada     f\n",
      "26       Croatia        Canada     f\n",
      "25       Belgium       Morocco     f\n",
      "47      Cameroon        Brazil     g\n",
      "30        Brazil   Switzerland     g\n",
      "28      Cameroon        Serbia     g\n",
      "46        Serbia   Switzerland     g\n",
      "12   Switzerland      Cameroon     g\n",
      "15        Brazil        Serbia     g\n",
      "45   South Korea      Portugal     h\n",
      "44         Ghana       Uruguay     h\n",
      "14      Portugal         Ghana     h\n",
      "13       Uruguay   South Korea     h\n",
      "29   South Korea         Ghana     h\n",
      "31      Portugal       Uruguay     h\n"
     ]
    }
   ],
   "source": [
    "wc_group_matches = gs[['country1', 'country2', 'group']].sort_values('group')\n",
    "print(wc_group_matches)"
   ]
  },
  {
   "cell_type": "code",
   "execution_count": null,
   "metadata": {
    "cell_id": "68e6abadac41450a8dcd52532c838dad",
    "deepnote_cell_type": "code",
    "deepnote_to_be_reexecuted": true,
    "execution_millis": 6,
    "execution_start": 1670907200129,
    "source_hash": "64840e6d",
    "tags": []
   },
   "outputs": [
    {
     "data": {
      "text/plain": [
       "'Draw'"
      ]
     },
     "execution_count": 78,
     "metadata": {},
     "output_type": "execute_result"
    }
   ],
   "source": [
    "from collections import Counter\n",
    "\n",
    "a_list = random.choices(['England', 'Draw', 'France'], weights = [0.1, 0.8, 0.1], k = 10)\n",
    "\n",
    "counter = Counter(a_list)\n",
    "\n",
    "most_common = counter.most_common(1)[0][0]\n",
    "most_common\n",
    "  # 👉️ one\n"
   ]
  },
  {
   "cell_type": "code",
   "execution_count": null,
   "metadata": {
    "cell_id": "a9f4e10103d243efa89a032f636ebd2a",
    "deepnote_cell_type": "code",
    "deepnote_to_be_reexecuted": true,
    "execution_millis": 0,
    "execution_start": 1670907200130,
    "source_hash": "b4b794db",
    "tags": []
   },
   "outputs": [],
   "source": [
    "from itertools import combinations\n",
    "import random\n",
    "\n",
    "groups = qatar_group_stage['group'].unique()\n",
    "\n",
    "# Function to simulate group stage:\n",
    "def group_stage_predictions(team1, team2, model):\n",
    "\n",
    "    team1_points = 0\n",
    "    team2_points = 0\n",
    "\n",
    "    team1_win_prob = model.predict_proba(getting_data_from_team2(team1, team2)).item(2)\n",
    "    team2_win_prob = model.predict_proba(getting_data_from_team2(team1, team2)).item(0)\n",
    "    draw_prob = model.predict_proba(getting_data_from_team2(team1, team2)).item(1)\n",
    "\n",
    "    result = random.choices([team1, 'Draw', team2], weights = [team2_win_prob, draw_prob, team1_win_prob], k = 100)\n",
    "    counter = Counter(result)\n",
    "    most_common = counter.most_common(1)[0][0]\n",
    "    if most_common == 'Draw':\n",
    "        team1_points +=1\n",
    "        team2_points +=1\n",
    "        print('Draw')\n",
    "    if most_common == team1:\n",
    "        team1_points +=3\n",
    "        print(team1 + \" wins!\")\n",
    "    if most_common == team2:\n",
    "        team2_points +=3\n",
    "        print(team2 + \" wins!\")\n",
    "    return [team1_points, team2_points]\n"
   ]
  },
  {
   "cell_type": "code",
   "execution_count": null,
   "metadata": {
    "cell_id": "dfb21ff0a1f04e2e81c99781aea5e280",
    "deepnote_cell_type": "code",
    "deepnote_to_be_reexecuted": true,
    "execution_millis": 1,
    "execution_start": 1670907200200,
    "source_hash": "1910c5f0",
    "tags": []
   },
   "outputs": [],
   "source": [
    "wc_group_matches = wc_group_matches.reset_index()"
   ]
  },
  {
   "cell_type": "code",
   "execution_count": null,
   "metadata": {
    "cell_id": "c92853fc49bf4f37bba414df13b06079",
    "deepnote_cell_type": "code",
    "deepnote_to_be_reexecuted": true,
    "execution_millis": 1901,
    "execution_start": 1670907200201,
    "source_hash": "e97b706d",
    "tags": []
   },
   "outputs": [
    {
     "name": "stdout",
     "output_type": "stream",
     "text": [
      "Ecuador wins!\n",
      "Netherlands wins!\n",
      "England wins!\n",
      "Wales wins!\n",
      "Australia wins!\n",
      "Tunisia wins!\n",
      "Mexico wins!\n",
      "Saudi Arabia wins!\n",
      "Canada wins!\n",
      "Costa Rica wins!\n",
      "Japan wins!\n",
      "Draw\n",
      "Cameroon wins!\n",
      "Draw\n",
      "Ghana wins!\n",
      "Serbia wins!\n",
      "Wales wins!\n",
      "Draw\n",
      "Ecuador wins!\n",
      "USMNT wins!\n",
      "Draw\n",
      "Saudi Arabia wins!\n",
      "Denmark wins!\n",
      "Mexico wins!\n",
      "Costa Rica wins!\n",
      "Morocco wins!\n",
      "Croatia wins!\n",
      "Germany wins!\n",
      "Cameroon wins!\n",
      "Ghana wins!\n",
      "Draw\n",
      "Uruguay wins!\n",
      "Wales wins!\n",
      "USMNT wins!\n",
      "Ecuador wins!\n",
      "Draw\n",
      "Australia wins!\n",
      "Tunisia wins!\n",
      "Poland wins!\n",
      "Draw\n",
      "Croatia wins!\n",
      "Morocco wins!\n",
      "Japan wins!\n",
      "Costa Rica wins!\n",
      "Ghana wins!\n",
      "South Korea wins!\n",
      "Serbia wins!\n",
      "Cameroon wins!\n",
      "/tmp/ipykernel_133/3946023089.py:1: SettingWithCopyWarning: \n",
      "A value is trying to be set on a copy of a slice from a DataFrame.\n",
      "Try using .loc[row_indexer,col_indexer] = value instead\n",
      "\n",
      "See the caveats in the documentation: https://pandas.pydata.org/pandas-docs/stable/user_guide/indexing.html#returning-a-view-versus-a-copy\n",
      "  gs['Points'] = gs.apply(lambda x: group_stage_predictions(x.country1, x.country2, lda_final), axis=1)\n"
     ]
    }
   ],
   "source": [
    "gs['Points'] = gs.apply(lambda x: group_stage_predictions(x.country1, x.country2, lda_final), axis=1)\n",
    " "
   ]
  },
  {
   "cell_type": "code",
   "execution_count": null,
   "metadata": {
    "cell_id": "743254874fe0418cbd015786392934f5",
    "deepnote_cell_type": "code",
    "deepnote_table_loading": false,
    "deepnote_table_state": {
     "filters": [],
     "pageIndex": 0,
     "pageSize": 10,
     "sortBy": []
    },
    "deepnote_to_be_reexecuted": true,
    "execution_millis": 5,
    "execution_start": 1670907202104,
    "source_hash": "7c626d9c",
    "tags": []
   },
   "outputs": [
    {
     "data": {
      "text/plain": [
       "array(['Qatar', 'Senegal', 'England', 'USMNT', 'France', 'Denmark',\n",
       "       'Mexico', 'Argentina', 'Belgium', 'Spain', 'Germany', 'Morocco',\n",
       "       'Switzerland', 'Uruguay', 'Portugal', 'Brazil', 'Wales',\n",
       "       'Netherlands', 'Tunisia', 'Poland', 'Japan', 'Croatia', 'Cameroon',\n",
       "       'South Korea', 'Iran', 'Ecuador', 'Australia', 'Saudi Arabia',\n",
       "       'Canada', 'Costa Rica', 'Ghana', 'Serbia'], dtype=object)"
      ]
     },
     "execution_count": 82,
     "metadata": {},
     "output_type": "execute_result"
    }
   ],
   "source": [
    "gs['country1'].unique()"
   ]
  },
  {
   "cell_type": "code",
   "execution_count": null,
   "metadata": {
    "cell_id": "75bec5e6639a447e8cae9527c5810563",
    "deepnote_cell_type": "code",
    "deepnote_table_loading": false,
    "deepnote_table_state": {
     "filters": [],
     "pageIndex": 0,
     "pageSize": 50,
     "sortBy": []
    },
    "deepnote_to_be_reexecuted": true,
    "execution_millis": 43,
    "execution_start": 1670907202109,
    "source_hash": "e2398597",
    "tags": []
   },
   "outputs": [
    {
     "name": "stdout",
     "output_type": "stream",
     "text": [
      "1    [0, 3]\n",
      "Name: Points, dtype: object\n",
      "17    [1, 1]\n",
      "34    [3, 0]\n",
      "Name: Points, dtype: object\n"
     ]
    }
   ],
   "source": [
    "group_a = gs[(gs['group']=='a')]\n",
    "group_b = gs[(gs['group']=='b')]\n",
    "print(group_a[(group_a['country1']=='Senegal')]['Points'])\n",
    "print(group_a[(group_a['country2']=='Senegal')]['Points'])"
   ]
  },
  {
   "cell_type": "code",
   "execution_count": null,
   "metadata": {
    "cell_id": "c3122693567e43e086e6f544f731c813",
    "deepnote_cell_type": "code",
    "deepnote_to_be_reexecuted": true,
    "execution_millis": 599,
    "execution_start": 1670907202198,
    "source_hash": "d625651e",
    "tags": []
   },
   "outputs": [
    {
     "ename": "NameError",
     "evalue": "name 'teams' is not defined",
     "output_type": "error",
     "traceback": [
      "\u001b[0;31m---------------------------------------------------------------------------\u001b[0m",
      "\u001b[0;31mNameError\u001b[0m                                 Traceback (most recent call last)",
      "Cell \u001b[0;32mIn [84], line 1\u001b[0m\n\u001b[0;32m----> 1\u001b[0m \u001b[43mteams\u001b[49m[\u001b[38;5;241m0\u001b[39m]\n",
      "\u001b[0;31mNameError\u001b[0m: name 'teams' is not defined"
     ]
    }
   ],
   "source": [
    "teams[0]"
   ]
  },
  {
   "cell_type": "code",
   "execution_count": null,
   "metadata": {
    "cell_id": "285b1c907634436faa6de54a23b251a6",
    "deepnote_cell_type": "code",
    "deepnote_to_be_reexecuted": true,
    "execution_millis": 2,
    "execution_start": 1670894648655,
    "source_hash": "fd64482",
    "tags": []
   },
   "outputs": [],
   "source": [
    "\n",
    "r = []\n",
    "for team in teams:\n",
    "    for i in np.arange(4):\n",
    "        country = team[i]\n",
    "        c = 0\n",
    "        for i in gs[(gs['country1']==country)]['Points']:\n",
    "            c += i[0]\n",
    "        for j in gs[(gs['country2']==country)]['Points']:\n",
    "            c += j[1]\n",
    "        r.append(c)"
   ]
  },
  {
   "cell_type": "code",
   "execution_count": null,
   "metadata": {
    "cell_id": "73defe351b75479e87fa0a2e3f5b2858",
    "deepnote_cell_type": "code",
    "deepnote_to_be_reexecuted": true,
    "execution_millis": 4,
    "execution_start": 1670894772156,
    "source_hash": "b74336b5",
    "tags": []
   },
   "outputs": [
    {
     "data": {
      "text/plain": [
       "[[2, 5, 1, 7],\n",
       " [0, 9, 6, 3],\n",
       " [2, 1, 6, 7],\n",
       " [3, 1, 7, 6],\n",
       " [0, 4, 5, 7],\n",
       " [6, 9, 3, 0],\n",
       " [3, 1, 7, 6],\n",
       " [3, 3, 3, 9]]"
      ]
     },
     "execution_count": 228,
     "metadata": {},
     "output_type": "execute_result"
    }
   ],
   "source": [
    "[r[i:i+4] for i in range(0, len(r), 4)]        # Use xrange in py2k"
   ]
  },
  {
   "cell_type": "code",
   "execution_count": null,
   "metadata": {
    "cell_id": "3942beb3db294413a8f79b7726f3c1dc",
    "deepnote_cell_type": "code",
    "deepnote_to_be_reexecuted": true,
    "execution_millis": 7,
    "execution_start": 1670893835370,
    "source_hash": "b4f193dc",
    "tags": []
   },
   "outputs": [],
   "source": [
    "groups = ['a', 'b', 'c', 'd', 'e', 'f', 'g', 'h']\n",
    "teams = []\n",
    "for g in groups:\n",
    "    t = list(gs[(gs['group']==g)]['country1'].unique())\n",
    "    teams.append(t)"
   ]
  },
  {
   "cell_type": "code",
   "execution_count": null,
   "metadata": {
    "cell_id": "a7403aafdd4b4ba0bdfb601a968358cc",
    "deepnote_cell_type": "code",
    "deepnote_to_be_reexecuted": true,
    "execution_millis": 56,
    "execution_start": 1670895113742,
    "source_hash": "8793b563",
    "tags": []
   },
   "outputs": [
    {
     "data": {
      "text/plain": [
       "[['Qatar', 'Senegal', 'Netherlands', 'Ecuador'],\n",
       " ['England', 'USMNT', 'Wales', 'Iran'],\n",
       " ['Mexico', 'Argentina', 'Poland', 'Saudi Arabia'],\n",
       " ['France', 'Denmark', 'Tunisia', 'Australia'],\n",
       " ['Spain', 'Germany', 'Japan', 'Costa Rica'],\n",
       " ['Belgium', 'Morocco', 'Croatia', 'Canada'],\n",
       " ['Switzerland', 'Brazil', 'Cameroon', 'Serbia'],\n",
       " ['Uruguay', 'Portugal', 'South Korea', 'Ghana']]"
      ]
     },
     "execution_count": 239,
     "metadata": {},
     "output_type": "execute_result"
    }
   ],
   "source": [
    "teams"
   ]
  },
  {
   "cell_type": "code",
   "execution_count": null,
   "metadata": {
    "cell_id": "ed749f3173634783959598e8ae46b0f4",
    "deepnote_cell_type": "code",
    "deepnote_table_loading": false,
    "deepnote_table_state": {
     "filters": [],
     "pageIndex": 0,
     "pageSize": 50,
     "sortBy": []
    },
    "deepnote_to_be_reexecuted": true,
    "execution_millis": 18,
    "execution_start": 1670896377551,
    "source_hash": "ccf3f881",
    "tags": []
   },
   "outputs": [
    {
     "data": {
      "application/vnd.deepnote.dataframe.v3+json": {
       "column_count": 2,
       "columns": [
        {
         "dtype": "object",
         "name": "Country",
         "stats": {
          "categories": [
           {
            "count": 1,
            "name": "Qatar"
           },
           {
            "count": 1,
            "name": "Senegal"
           },
           {
            "count": 30,
            "name": "30 others"
           }
          ],
          "nan_count": 0,
          "unique_count": 32
         }
        },
        {
         "dtype": "int64",
         "name": "Expected Score",
         "stats": {
          "histogram": [
           {
            "bin_end": 0.9,
            "bin_start": 0,
            "count": 3
           },
           {
            "bin_end": 1.8,
            "bin_start": 0.9,
            "count": 4
           },
           {
            "bin_end": 2.7,
            "bin_start": 1.8,
            "count": 2
           },
           {
            "bin_end": 3.6,
            "bin_start": 2.7,
            "count": 7
           },
           {
            "bin_end": 4.5,
            "bin_start": 3.6,
            "count": 1
           },
           {
            "bin_end": 5.4,
            "bin_start": 4.5,
            "count": 2
           },
           {
            "bin_end": 6.3,
            "bin_start": 5.4,
            "count": 5
           },
           {
            "bin_end": 7.2,
            "bin_start": 6.3,
            "count": 5
           },
           {
            "bin_end": 8.1,
            "bin_start": 7.2,
            "count": 0
           },
           {
            "bin_end": 9,
            "bin_start": 8.1,
            "count": 3
           }
          ],
          "max": "9",
          "min": "0",
          "nan_count": 0,
          "unique_count": 9
         }
        },
        {
         "dtype": "int64",
         "name": "_deepnote_index_column"
        }
       ],
       "row_count": 32,
       "rows": [
        {
         "Country": "Qatar",
         "Expected Score": "2",
         "_deepnote_index_column": "0"
        },
        {
         "Country": "Senegal",
         "Expected Score": "5",
         "_deepnote_index_column": "1"
        },
        {
         "Country": "Netherlands",
         "Expected Score": "1",
         "_deepnote_index_column": "2"
        },
        {
         "Country": "Ecuador",
         "Expected Score": "7",
         "_deepnote_index_column": "3"
        },
        {
         "Country": "England",
         "Expected Score": "0",
         "_deepnote_index_column": "4"
        },
        {
         "Country": "USMNT",
         "Expected Score": "9",
         "_deepnote_index_column": "5"
        },
        {
         "Country": "Wales",
         "Expected Score": "6",
         "_deepnote_index_column": "6"
        },
        {
         "Country": "Iran",
         "Expected Score": "3",
         "_deepnote_index_column": "7"
        },
        {
         "Country": "Mexico",
         "Expected Score": "2",
         "_deepnote_index_column": "8"
        },
        {
         "Country": "Argentina",
         "Expected Score": "1",
         "_deepnote_index_column": "9"
        },
        {
         "Country": "Poland",
         "Expected Score": "6",
         "_deepnote_index_column": "10"
        },
        {
         "Country": "Saudi Arabia",
         "Expected Score": "7",
         "_deepnote_index_column": "11"
        },
        {
         "Country": "France",
         "Expected Score": "3",
         "_deepnote_index_column": "12"
        },
        {
         "Country": "Denmark",
         "Expected Score": "1",
         "_deepnote_index_column": "13"
        },
        {
         "Country": "Tunisia",
         "Expected Score": "7",
         "_deepnote_index_column": "14"
        },
        {
         "Country": "Australia",
         "Expected Score": "6",
         "_deepnote_index_column": "15"
        },
        {
         "Country": "Spain",
         "Expected Score": "0",
         "_deepnote_index_column": "16"
        },
        {
         "Country": "Germany",
         "Expected Score": "4",
         "_deepnote_index_column": "17"
        },
        {
         "Country": "Japan",
         "Expected Score": "5",
         "_deepnote_index_column": "18"
        },
        {
         "Country": "Costa Rica",
         "Expected Score": "7",
         "_deepnote_index_column": "19"
        },
        {
         "Country": "Belgium",
         "Expected Score": "6",
         "_deepnote_index_column": "20"
        },
        {
         "Country": "Morocco",
         "Expected Score": "9",
         "_deepnote_index_column": "21"
        },
        {
         "Country": "Croatia",
         "Expected Score": "3",
         "_deepnote_index_column": "22"
        },
        {
         "Country": "Canada",
         "Expected Score": "0",
         "_deepnote_index_column": "23"
        },
        {
         "Country": "Switzerland",
         "Expected Score": "3",
         "_deepnote_index_column": "24"
        },
        {
         "Country": "Brazil",
         "Expected Score": "1",
         "_deepnote_index_column": "25"
        },
        {
         "Country": "Cameroon",
         "Expected Score": "7",
         "_deepnote_index_column": "26"
        },
        {
         "Country": "Serbia",
         "Expected Score": "6",
         "_deepnote_index_column": "27"
        },
        {
         "Country": "Uruguay",
         "Expected Score": "3",
         "_deepnote_index_column": "28"
        },
        {
         "Country": "Portugal",
         "Expected Score": "3",
         "_deepnote_index_column": "29"
        },
        {
         "Country": "South Korea",
         "Expected Score": "3",
         "_deepnote_index_column": "30"
        },
        {
         "Country": "Ghana",
         "Expected Score": "9",
         "_deepnote_index_column": "31"
        }
       ]
      },
      "text/html": [
       "<div>\n",
       "<style scoped>\n",
       "    .dataframe tbody tr th:only-of-type {\n",
       "        vertical-align: middle;\n",
       "    }\n",
       "\n",
       "    .dataframe tbody tr th {\n",
       "        vertical-align: top;\n",
       "    }\n",
       "\n",
       "    .dataframe thead th {\n",
       "        text-align: right;\n",
       "    }\n",
       "</style>\n",
       "<table border=\"1\" class=\"dataframe\">\n",
       "  <thead>\n",
       "    <tr style=\"text-align: right;\">\n",
       "      <th></th>\n",
       "      <th>Country</th>\n",
       "      <th>Expected Score</th>\n",
       "    </tr>\n",
       "  </thead>\n",
       "  <tbody>\n",
       "    <tr>\n",
       "      <th>0</th>\n",
       "      <td>Qatar</td>\n",
       "      <td>2</td>\n",
       "    </tr>\n",
       "    <tr>\n",
       "      <th>1</th>\n",
       "      <td>Senegal</td>\n",
       "      <td>5</td>\n",
       "    </tr>\n",
       "    <tr>\n",
       "      <th>2</th>\n",
       "      <td>Netherlands</td>\n",
       "      <td>1</td>\n",
       "    </tr>\n",
       "    <tr>\n",
       "      <th>3</th>\n",
       "      <td>Ecuador</td>\n",
       "      <td>7</td>\n",
       "    </tr>\n",
       "    <tr>\n",
       "      <th>4</th>\n",
       "      <td>England</td>\n",
       "      <td>0</td>\n",
       "    </tr>\n",
       "    <tr>\n",
       "      <th>5</th>\n",
       "      <td>USMNT</td>\n",
       "      <td>9</td>\n",
       "    </tr>\n",
       "    <tr>\n",
       "      <th>6</th>\n",
       "      <td>Wales</td>\n",
       "      <td>6</td>\n",
       "    </tr>\n",
       "    <tr>\n",
       "      <th>7</th>\n",
       "      <td>Iran</td>\n",
       "      <td>3</td>\n",
       "    </tr>\n",
       "    <tr>\n",
       "      <th>8</th>\n",
       "      <td>Mexico</td>\n",
       "      <td>2</td>\n",
       "    </tr>\n",
       "    <tr>\n",
       "      <th>9</th>\n",
       "      <td>Argentina</td>\n",
       "      <td>1</td>\n",
       "    </tr>\n",
       "    <tr>\n",
       "      <th>10</th>\n",
       "      <td>Poland</td>\n",
       "      <td>6</td>\n",
       "    </tr>\n",
       "    <tr>\n",
       "      <th>11</th>\n",
       "      <td>Saudi Arabia</td>\n",
       "      <td>7</td>\n",
       "    </tr>\n",
       "    <tr>\n",
       "      <th>12</th>\n",
       "      <td>France</td>\n",
       "      <td>3</td>\n",
       "    </tr>\n",
       "    <tr>\n",
       "      <th>13</th>\n",
       "      <td>Denmark</td>\n",
       "      <td>1</td>\n",
       "    </tr>\n",
       "    <tr>\n",
       "      <th>14</th>\n",
       "      <td>Tunisia</td>\n",
       "      <td>7</td>\n",
       "    </tr>\n",
       "    <tr>\n",
       "      <th>15</th>\n",
       "      <td>Australia</td>\n",
       "      <td>6</td>\n",
       "    </tr>\n",
       "    <tr>\n",
       "      <th>16</th>\n",
       "      <td>Spain</td>\n",
       "      <td>0</td>\n",
       "    </tr>\n",
       "    <tr>\n",
       "      <th>17</th>\n",
       "      <td>Germany</td>\n",
       "      <td>4</td>\n",
       "    </tr>\n",
       "    <tr>\n",
       "      <th>18</th>\n",
       "      <td>Japan</td>\n",
       "      <td>5</td>\n",
       "    </tr>\n",
       "    <tr>\n",
       "      <th>19</th>\n",
       "      <td>Costa Rica</td>\n",
       "      <td>7</td>\n",
       "    </tr>\n",
       "    <tr>\n",
       "      <th>20</th>\n",
       "      <td>Belgium</td>\n",
       "      <td>6</td>\n",
       "    </tr>\n",
       "    <tr>\n",
       "      <th>21</th>\n",
       "      <td>Morocco</td>\n",
       "      <td>9</td>\n",
       "    </tr>\n",
       "    <tr>\n",
       "      <th>22</th>\n",
       "      <td>Croatia</td>\n",
       "      <td>3</td>\n",
       "    </tr>\n",
       "    <tr>\n",
       "      <th>23</th>\n",
       "      <td>Canada</td>\n",
       "      <td>0</td>\n",
       "    </tr>\n",
       "    <tr>\n",
       "      <th>24</th>\n",
       "      <td>Switzerland</td>\n",
       "      <td>3</td>\n",
       "    </tr>\n",
       "    <tr>\n",
       "      <th>25</th>\n",
       "      <td>Brazil</td>\n",
       "      <td>1</td>\n",
       "    </tr>\n",
       "    <tr>\n",
       "      <th>26</th>\n",
       "      <td>Cameroon</td>\n",
       "      <td>7</td>\n",
       "    </tr>\n",
       "    <tr>\n",
       "      <th>27</th>\n",
       "      <td>Serbia</td>\n",
       "      <td>6</td>\n",
       "    </tr>\n",
       "    <tr>\n",
       "      <th>28</th>\n",
       "      <td>Uruguay</td>\n",
       "      <td>3</td>\n",
       "    </tr>\n",
       "    <tr>\n",
       "      <th>29</th>\n",
       "      <td>Portugal</td>\n",
       "      <td>3</td>\n",
       "    </tr>\n",
       "    <tr>\n",
       "      <th>30</th>\n",
       "      <td>South Korea</td>\n",
       "      <td>3</td>\n",
       "    </tr>\n",
       "    <tr>\n",
       "      <th>31</th>\n",
       "      <td>Ghana</td>\n",
       "      <td>9</td>\n",
       "    </tr>\n",
       "  </tbody>\n",
       "</table>\n",
       "</div>"
      ],
      "text/plain": [
       "         Country  Expected Score\n",
       "0          Qatar               2\n",
       "1        Senegal               5\n",
       "2    Netherlands               1\n",
       "3        Ecuador               7\n",
       "4        England               0\n",
       "5          USMNT               9\n",
       "6          Wales               6\n",
       "7           Iran               3\n",
       "8         Mexico               2\n",
       "9      Argentina               1\n",
       "10        Poland               6\n",
       "11  Saudi Arabia               7\n",
       "12        France               3\n",
       "13       Denmark               1\n",
       "14       Tunisia               7\n",
       "15     Australia               6\n",
       "16         Spain               0\n",
       "17       Germany               4\n",
       "18         Japan               5\n",
       "19    Costa Rica               7\n",
       "20       Belgium               6\n",
       "21       Morocco               9\n",
       "22       Croatia               3\n",
       "23        Canada               0\n",
       "24   Switzerland               3\n",
       "25        Brazil               1\n",
       "26      Cameroon               7\n",
       "27        Serbia               6\n",
       "28       Uruguay               3\n",
       "29      Portugal               3\n",
       "30   South Korea               3\n",
       "31         Ghana               9"
      ]
     },
     "execution_count": 266,
     "metadata": {},
     "output_type": "execute_result"
    }
   ],
   "source": [
    "#emp_dict  \n",
    "# Calling DataFrame constructor after zipping\n",
    "# both lists, with columns specified\n",
    "expected_score_df = pd.DataFrame(list(zip([item for sublist in teams for item in sublist], r)),\n",
    "               columns =['Country', 'Expected Score'])\n",
    "expected_score_df"
   ]
  },
  {
   "cell_type": "code",
   "execution_count": null,
   "metadata": {
    "cell_id": "b15c1fa7b1b649beb83d45a1fc8ef8a7",
    "deepnote_cell_type": "code",
    "deepnote_to_be_reexecuted": true,
    "execution_millis": 181,
    "execution_start": 1670896380015,
    "source_hash": "c65e23e3",
    "tags": []
   },
   "outputs": [
    {
     "data": {
      "application/vnd.deepnote.dataframe.v3+json": {
       "column_count": 3,
       "columns": [
        {
         "dtype": "object",
         "name": "Country",
         "stats": {
          "categories": [
           {
            "count": 1,
            "name": "Ghana"
           },
           {
            "count": 1,
            "name": "Morocco"
           },
           {
            "count": 30,
            "name": "30 others"
           }
          ],
          "nan_count": 0,
          "unique_count": 32
         }
        },
        {
         "dtype": "int64",
         "name": "Expected Score",
         "stats": {
          "histogram": [
           {
            "bin_end": 0.9,
            "bin_start": 0,
            "count": 3
           },
           {
            "bin_end": 1.8,
            "bin_start": 0.9,
            "count": 4
           },
           {
            "bin_end": 2.7,
            "bin_start": 1.8,
            "count": 2
           },
           {
            "bin_end": 3.6,
            "bin_start": 2.7,
            "count": 7
           },
           {
            "bin_end": 4.5,
            "bin_start": 3.6,
            "count": 1
           },
           {
            "bin_end": 5.4,
            "bin_start": 4.5,
            "count": 2
           },
           {
            "bin_end": 6.3,
            "bin_start": 5.4,
            "count": 5
           },
           {
            "bin_end": 7.2,
            "bin_start": 6.3,
            "count": 5
           },
           {
            "bin_end": 8.1,
            "bin_start": 7.2,
            "count": 0
           },
           {
            "bin_end": 9,
            "bin_start": 8.1,
            "count": 3
           }
          ],
          "max": "9",
          "min": "0",
          "nan_count": 0,
          "unique_count": 9
         }
        },
        {
         "dtype": "object",
         "name": "Group",
         "stats": {
          "categories": [
           {
            "count": 4,
            "name": "h"
           },
           {
            "count": 4,
            "name": "f"
           },
           {
            "count": 24,
            "name": "6 others"
           }
          ],
          "nan_count": 0,
          "unique_count": 8
         }
        },
        {
         "dtype": "int64",
         "name": "_deepnote_index_column"
        }
       ],
       "row_count": 32,
       "rows": [
        {
         "Country": "Ghana",
         "Expected Score": "9",
         "Group": "h",
         "_deepnote_index_column": "31"
        },
        {
         "Country": "Morocco",
         "Expected Score": "9",
         "Group": "f",
         "_deepnote_index_column": "21"
        },
        {
         "Country": "USMNT",
         "Expected Score": "9",
         "Group": "b",
         "_deepnote_index_column": "5"
        },
        {
         "Country": "Cameroon",
         "Expected Score": "7",
         "Group": "g",
         "_deepnote_index_column": "26"
        },
        {
         "Country": "Costa Rica",
         "Expected Score": "7",
         "Group": "e",
         "_deepnote_index_column": "19"
        },
        {
         "Country": "Tunisia",
         "Expected Score": "7",
         "Group": "d",
         "_deepnote_index_column": "14"
        },
        {
         "Country": "Saudi Arabia",
         "Expected Score": "7",
         "Group": "c",
         "_deepnote_index_column": "11"
        },
        {
         "Country": "Ecuador",
         "Expected Score": "7",
         "Group": "a",
         "_deepnote_index_column": "3"
        },
        {
         "Country": "Serbia",
         "Expected Score": "6",
         "Group": "g",
         "_deepnote_index_column": "27"
        },
        {
         "Country": "Poland",
         "Expected Score": "6",
         "Group": "c",
         "_deepnote_index_column": "10"
        }
       ]
      },
      "text/html": [
       "<div>\n",
       "<style scoped>\n",
       "    .dataframe tbody tr th:only-of-type {\n",
       "        vertical-align: middle;\n",
       "    }\n",
       "\n",
       "    .dataframe tbody tr th {\n",
       "        vertical-align: top;\n",
       "    }\n",
       "\n",
       "    .dataframe thead th {\n",
       "        text-align: right;\n",
       "    }\n",
       "</style>\n",
       "<table border=\"1\" class=\"dataframe\">\n",
       "  <thead>\n",
       "    <tr style=\"text-align: right;\">\n",
       "      <th></th>\n",
       "      <th>Country</th>\n",
       "      <th>Expected Score</th>\n",
       "      <th>Group</th>\n",
       "    </tr>\n",
       "  </thead>\n",
       "  <tbody>\n",
       "    <tr>\n",
       "      <th>31</th>\n",
       "      <td>Ghana</td>\n",
       "      <td>9</td>\n",
       "      <td>h</td>\n",
       "    </tr>\n",
       "    <tr>\n",
       "      <th>21</th>\n",
       "      <td>Morocco</td>\n",
       "      <td>9</td>\n",
       "      <td>f</td>\n",
       "    </tr>\n",
       "    <tr>\n",
       "      <th>5</th>\n",
       "      <td>USMNT</td>\n",
       "      <td>9</td>\n",
       "      <td>b</td>\n",
       "    </tr>\n",
       "    <tr>\n",
       "      <th>26</th>\n",
       "      <td>Cameroon</td>\n",
       "      <td>7</td>\n",
       "      <td>g</td>\n",
       "    </tr>\n",
       "    <tr>\n",
       "      <th>19</th>\n",
       "      <td>Costa Rica</td>\n",
       "      <td>7</td>\n",
       "      <td>e</td>\n",
       "    </tr>\n",
       "    <tr>\n",
       "      <th>14</th>\n",
       "      <td>Tunisia</td>\n",
       "      <td>7</td>\n",
       "      <td>d</td>\n",
       "    </tr>\n",
       "    <tr>\n",
       "      <th>11</th>\n",
       "      <td>Saudi Arabia</td>\n",
       "      <td>7</td>\n",
       "      <td>c</td>\n",
       "    </tr>\n",
       "    <tr>\n",
       "      <th>3</th>\n",
       "      <td>Ecuador</td>\n",
       "      <td>7</td>\n",
       "      <td>a</td>\n",
       "    </tr>\n",
       "    <tr>\n",
       "      <th>27</th>\n",
       "      <td>Serbia</td>\n",
       "      <td>6</td>\n",
       "      <td>g</td>\n",
       "    </tr>\n",
       "    <tr>\n",
       "      <th>10</th>\n",
       "      <td>Poland</td>\n",
       "      <td>6</td>\n",
       "      <td>c</td>\n",
       "    </tr>\n",
       "    <tr>\n",
       "      <th>6</th>\n",
       "      <td>Wales</td>\n",
       "      <td>6</td>\n",
       "      <td>b</td>\n",
       "    </tr>\n",
       "    <tr>\n",
       "      <th>15</th>\n",
       "      <td>Australia</td>\n",
       "      <td>6</td>\n",
       "      <td>d</td>\n",
       "    </tr>\n",
       "    <tr>\n",
       "      <th>20</th>\n",
       "      <td>Belgium</td>\n",
       "      <td>6</td>\n",
       "      <td>f</td>\n",
       "    </tr>\n",
       "    <tr>\n",
       "      <th>1</th>\n",
       "      <td>Senegal</td>\n",
       "      <td>5</td>\n",
       "      <td>a</td>\n",
       "    </tr>\n",
       "    <tr>\n",
       "      <th>18</th>\n",
       "      <td>Japan</td>\n",
       "      <td>5</td>\n",
       "      <td>e</td>\n",
       "    </tr>\n",
       "    <tr>\n",
       "      <th>17</th>\n",
       "      <td>Germany</td>\n",
       "      <td>4</td>\n",
       "      <td>e</td>\n",
       "    </tr>\n",
       "    <tr>\n",
       "      <th>7</th>\n",
       "      <td>Iran</td>\n",
       "      <td>3</td>\n",
       "      <td>b</td>\n",
       "    </tr>\n",
       "    <tr>\n",
       "      <th>28</th>\n",
       "      <td>Uruguay</td>\n",
       "      <td>3</td>\n",
       "      <td>h</td>\n",
       "    </tr>\n",
       "    <tr>\n",
       "      <th>24</th>\n",
       "      <td>Switzerland</td>\n",
       "      <td>3</td>\n",
       "      <td>g</td>\n",
       "    </tr>\n",
       "    <tr>\n",
       "      <th>12</th>\n",
       "      <td>France</td>\n",
       "      <td>3</td>\n",
       "      <td>d</td>\n",
       "    </tr>\n",
       "    <tr>\n",
       "      <th>29</th>\n",
       "      <td>Portugal</td>\n",
       "      <td>3</td>\n",
       "      <td>h</td>\n",
       "    </tr>\n",
       "    <tr>\n",
       "      <th>30</th>\n",
       "      <td>South Korea</td>\n",
       "      <td>3</td>\n",
       "      <td>h</td>\n",
       "    </tr>\n",
       "    <tr>\n",
       "      <th>22</th>\n",
       "      <td>Croatia</td>\n",
       "      <td>3</td>\n",
       "      <td>f</td>\n",
       "    </tr>\n",
       "    <tr>\n",
       "      <th>0</th>\n",
       "      <td>Qatar</td>\n",
       "      <td>2</td>\n",
       "      <td>a</td>\n",
       "    </tr>\n",
       "    <tr>\n",
       "      <th>8</th>\n",
       "      <td>Mexico</td>\n",
       "      <td>2</td>\n",
       "      <td>c</td>\n",
       "    </tr>\n",
       "    <tr>\n",
       "      <th>25</th>\n",
       "      <td>Brazil</td>\n",
       "      <td>1</td>\n",
       "      <td>g</td>\n",
       "    </tr>\n",
       "    <tr>\n",
       "      <th>13</th>\n",
       "      <td>Denmark</td>\n",
       "      <td>1</td>\n",
       "      <td>d</td>\n",
       "    </tr>\n",
       "    <tr>\n",
       "      <th>9</th>\n",
       "      <td>Argentina</td>\n",
       "      <td>1</td>\n",
       "      <td>c</td>\n",
       "    </tr>\n",
       "    <tr>\n",
       "      <th>2</th>\n",
       "      <td>Netherlands</td>\n",
       "      <td>1</td>\n",
       "      <td>a</td>\n",
       "    </tr>\n",
       "    <tr>\n",
       "      <th>23</th>\n",
       "      <td>Canada</td>\n",
       "      <td>0</td>\n",
       "      <td>f</td>\n",
       "    </tr>\n",
       "    <tr>\n",
       "      <th>4</th>\n",
       "      <td>England</td>\n",
       "      <td>0</td>\n",
       "      <td>b</td>\n",
       "    </tr>\n",
       "    <tr>\n",
       "      <th>16</th>\n",
       "      <td>Spain</td>\n",
       "      <td>0</td>\n",
       "      <td>e</td>\n",
       "    </tr>\n",
       "  </tbody>\n",
       "</table>\n",
       "</div>"
      ],
      "text/plain": [
       "         Country  Expected Score Group\n",
       "31         Ghana               9     h\n",
       "21       Morocco               9     f\n",
       "5          USMNT               9     b\n",
       "26      Cameroon               7     g\n",
       "19    Costa Rica               7     e\n",
       "14       Tunisia               7     d\n",
       "11  Saudi Arabia               7     c\n",
       "3        Ecuador               7     a\n",
       "27        Serbia               6     g\n",
       "10        Poland               6     c\n",
       "6          Wales               6     b\n",
       "15     Australia               6     d\n",
       "20       Belgium               6     f\n",
       "1        Senegal               5     a\n",
       "18         Japan               5     e\n",
       "17       Germany               4     e\n",
       "7           Iran               3     b\n",
       "28       Uruguay               3     h\n",
       "24   Switzerland               3     g\n",
       "12        France               3     d\n",
       "29      Portugal               3     h\n",
       "30   South Korea               3     h\n",
       "22       Croatia               3     f\n",
       "0          Qatar               2     a\n",
       "8         Mexico               2     c\n",
       "25        Brazil               1     g\n",
       "13       Denmark               1     d\n",
       "9      Argentina               1     c\n",
       "2    Netherlands               1     a\n",
       "23        Canada               0     f\n",
       "4        England               0     b\n",
       "16         Spain               0     e"
      ]
     },
     "execution_count": 267,
     "metadata": {},
     "output_type": "execute_result"
    }
   ],
   "source": [
    "groups = ['a', 'a', 'a', 'a', 'b', 'b', 'b', 'b', 'c',\n",
    "       'c', 'c', 'c', 'd', 'd', 'd', 'd', 'e', 'e',\n",
    "       'e', 'e', 'f', 'f', 'f', 'f', 'g', 'g', 'g',\n",
    "       'g', 'h', 'h', 'h', 'h']\n",
    "\n",
    "expected_score_df['Group'] = groups\n",
    "expected_score_df = expected_score_df.sort_values('Expected Score', ascending=False)\n",
    "expected_score_df"
   ]
  },
  {
   "cell_type": "markdown",
   "metadata": {
    "cell_id": "a3480aafbe8c4da5849805e5a2a05205",
    "deepnote_cell_type": "text-cell-h1",
    "formattedRanges": [],
    "is_collapsed": false,
    "tags": []
   },
   "source": [
    "# Group Stage Tables"
   ]
  },
  {
   "cell_type": "code",
   "execution_count": null,
   "metadata": {
    "cell_id": "943dcaefe6c0414c807b329a2593ab56",
    "deepnote_cell_type": "code",
    "deepnote_to_be_reexecuted": true,
    "execution_millis": 16,
    "execution_start": 1670896626874,
    "source_hash": "365e366c",
    "tags": []
   },
   "outputs": [
    {
     "data": {
      "application/vnd.deepnote.dataframe.v3+json": {
       "column_count": 3,
       "columns": [
        {
         "dtype": "object",
         "name": "Country",
         "stats": {
          "categories": [
           {
            "count": 1,
            "name": "Ecuador"
           },
           {
            "count": 1,
            "name": "Senegal"
           },
           {
            "count": 2,
            "name": "2 others"
           }
          ],
          "nan_count": 0,
          "unique_count": 4
         }
        },
        {
         "dtype": "float64",
         "name": "Expected Score",
         "stats": {
          "histogram": [
           {
            "bin_end": 1.6,
            "bin_start": 1,
            "count": 1
           },
           {
            "bin_end": 2.2,
            "bin_start": 1.6,
            "count": 1
           },
           {
            "bin_end": 2.8,
            "bin_start": 2.2,
            "count": 0
           },
           {
            "bin_end": 3.4,
            "bin_start": 2.8,
            "count": 0
           },
           {
            "bin_end": 4,
            "bin_start": 3.4,
            "count": 0
           },
           {
            "bin_end": 4.6,
            "bin_start": 4,
            "count": 0
           },
           {
            "bin_end": 5.2,
            "bin_start": 4.6,
            "count": 1
           },
           {
            "bin_end": 5.8,
            "bin_start": 5.2,
            "count": 0
           },
           {
            "bin_end": 6.3999999999999995,
            "bin_start": 5.8,
            "count": 0
           },
           {
            "bin_end": 7,
            "bin_start": 6.3999999999999995,
            "count": 1
           }
          ],
          "max": "7.0",
          "min": "1.0",
          "nan_count": 0,
          "unique_count": 4
         }
        },
        {
         "dtype": "object",
         "name": "Group",
         "stats": {
          "categories": [
           {
            "count": 4,
            "name": "a"
           }
          ],
          "nan_count": 0,
          "unique_count": 1
         }
        },
        {
         "dtype": "int64",
         "name": "_deepnote_index_column"
        }
       ],
       "row_count": 4,
       "rows": [
        {
         "Country": "Ecuador",
         "Expected Score": "7.0",
         "Group": "a",
         "_deepnote_index_column": "3"
        },
        {
         "Country": "Senegal",
         "Expected Score": "5.0",
         "Group": "a",
         "_deepnote_index_column": "1"
        },
        {
         "Country": "Qatar",
         "Expected Score": "2.0",
         "Group": "a",
         "_deepnote_index_column": "0"
        },
        {
         "Country": "Netherlands",
         "Expected Score": "1.0",
         "Group": "a",
         "_deepnote_index_column": "2"
        }
       ]
      },
      "text/html": [
       "<div>\n",
       "<style scoped>\n",
       "    .dataframe tbody tr th:only-of-type {\n",
       "        vertical-align: middle;\n",
       "    }\n",
       "\n",
       "    .dataframe tbody tr th {\n",
       "        vertical-align: top;\n",
       "    }\n",
       "\n",
       "    .dataframe thead th {\n",
       "        text-align: right;\n",
       "    }\n",
       "</style>\n",
       "<table border=\"1\" class=\"dataframe\">\n",
       "  <thead>\n",
       "    <tr style=\"text-align: right;\">\n",
       "      <th></th>\n",
       "      <th>Country</th>\n",
       "      <th>Expected Score</th>\n",
       "      <th>Group</th>\n",
       "    </tr>\n",
       "  </thead>\n",
       "  <tbody>\n",
       "    <tr>\n",
       "      <th>3</th>\n",
       "      <td>Ecuador</td>\n",
       "      <td>7.0</td>\n",
       "      <td>a</td>\n",
       "    </tr>\n",
       "    <tr>\n",
       "      <th>1</th>\n",
       "      <td>Senegal</td>\n",
       "      <td>5.0</td>\n",
       "      <td>a</td>\n",
       "    </tr>\n",
       "    <tr>\n",
       "      <th>0</th>\n",
       "      <td>Qatar</td>\n",
       "      <td>2.0</td>\n",
       "      <td>a</td>\n",
       "    </tr>\n",
       "    <tr>\n",
       "      <th>2</th>\n",
       "      <td>Netherlands</td>\n",
       "      <td>1.0</td>\n",
       "      <td>a</td>\n",
       "    </tr>\n",
       "  </tbody>\n",
       "</table>\n",
       "</div>"
      ],
      "text/plain": [
       "       Country  Expected Score Group\n",
       "3      Ecuador             7.0     a\n",
       "1      Senegal             5.0     a\n",
       "0        Qatar             2.0     a\n",
       "2  Netherlands             1.0     a"
      ]
     },
     "execution_count": 271,
     "metadata": {},
     "output_type": "execute_result"
    }
   ],
   "source": [
    "group_a = pd.DataFrame(expected_score_df).where(expected_score_df['Group'] == 'a').dropna()\n",
    "group_a"
   ]
  },
  {
   "cell_type": "code",
   "execution_count": null,
   "metadata": {
    "cell_id": "dbec80545dae4d38a7a519d58025eaed",
    "deepnote_cell_type": "code",
    "deepnote_to_be_reexecuted": true,
    "execution_millis": 8,
    "execution_start": 1670896948109,
    "source_hash": "7811a255",
    "tags": []
   },
   "outputs": [
    {
     "data": {
      "application/vnd.deepnote.dataframe.v3+json": {
       "column_count": 3,
       "columns": [
        {
         "dtype": "object",
         "name": "Country",
         "stats": {
          "categories": [
           {
            "count": 1,
            "name": "USMNT"
           },
           {
            "count": 1,
            "name": "Wales"
           },
           {
            "count": 2,
            "name": "2 others"
           }
          ],
          "nan_count": 0,
          "unique_count": 4
         }
        },
        {
         "dtype": "float64",
         "name": "Expected Score",
         "stats": {
          "histogram": [
           {
            "bin_end": 0.9,
            "bin_start": 0,
            "count": 1
           },
           {
            "bin_end": 1.8,
            "bin_start": 0.9,
            "count": 0
           },
           {
            "bin_end": 2.7,
            "bin_start": 1.8,
            "count": 0
           },
           {
            "bin_end": 3.6,
            "bin_start": 2.7,
            "count": 1
           },
           {
            "bin_end": 4.5,
            "bin_start": 3.6,
            "count": 0
           },
           {
            "bin_end": 5.4,
            "bin_start": 4.5,
            "count": 0
           },
           {
            "bin_end": 6.3,
            "bin_start": 5.4,
            "count": 1
           },
           {
            "bin_end": 7.2,
            "bin_start": 6.3,
            "count": 0
           },
           {
            "bin_end": 8.1,
            "bin_start": 7.2,
            "count": 0
           },
           {
            "bin_end": 9,
            "bin_start": 8.1,
            "count": 1
           }
          ],
          "max": "9.0",
          "min": "0.0",
          "nan_count": 0,
          "unique_count": 4
         }
        },
        {
         "dtype": "object",
         "name": "Group",
         "stats": {
          "categories": [
           {
            "count": 4,
            "name": "b"
           }
          ],
          "nan_count": 0,
          "unique_count": 1
         }
        },
        {
         "dtype": "int64",
         "name": "_deepnote_index_column"
        }
       ],
       "row_count": 4,
       "rows": [
        {
         "Country": "USMNT",
         "Expected Score": "9.0",
         "Group": "b",
         "_deepnote_index_column": "5"
        },
        {
         "Country": "Wales",
         "Expected Score": "6.0",
         "Group": "b",
         "_deepnote_index_column": "6"
        },
        {
         "Country": "Iran",
         "Expected Score": "3.0",
         "Group": "b",
         "_deepnote_index_column": "7"
        },
        {
         "Country": "England",
         "Expected Score": "0.0",
         "Group": "b",
         "_deepnote_index_column": "4"
        }
       ]
      },
      "text/html": [
       "<div>\n",
       "<style scoped>\n",
       "    .dataframe tbody tr th:only-of-type {\n",
       "        vertical-align: middle;\n",
       "    }\n",
       "\n",
       "    .dataframe tbody tr th {\n",
       "        vertical-align: top;\n",
       "    }\n",
       "\n",
       "    .dataframe thead th {\n",
       "        text-align: right;\n",
       "    }\n",
       "</style>\n",
       "<table border=\"1\" class=\"dataframe\">\n",
       "  <thead>\n",
       "    <tr style=\"text-align: right;\">\n",
       "      <th></th>\n",
       "      <th>Country</th>\n",
       "      <th>Expected Score</th>\n",
       "      <th>Group</th>\n",
       "    </tr>\n",
       "  </thead>\n",
       "  <tbody>\n",
       "    <tr>\n",
       "      <th>5</th>\n",
       "      <td>USMNT</td>\n",
       "      <td>9.0</td>\n",
       "      <td>b</td>\n",
       "    </tr>\n",
       "    <tr>\n",
       "      <th>6</th>\n",
       "      <td>Wales</td>\n",
       "      <td>6.0</td>\n",
       "      <td>b</td>\n",
       "    </tr>\n",
       "    <tr>\n",
       "      <th>7</th>\n",
       "      <td>Iran</td>\n",
       "      <td>3.0</td>\n",
       "      <td>b</td>\n",
       "    </tr>\n",
       "    <tr>\n",
       "      <th>4</th>\n",
       "      <td>England</td>\n",
       "      <td>0.0</td>\n",
       "      <td>b</td>\n",
       "    </tr>\n",
       "  </tbody>\n",
       "</table>\n",
       "</div>"
      ],
      "text/plain": [
       "   Country  Expected Score Group\n",
       "5    USMNT             9.0     b\n",
       "6    Wales             6.0     b\n",
       "7     Iran             3.0     b\n",
       "4  England             0.0     b"
      ]
     },
     "execution_count": 279,
     "metadata": {},
     "output_type": "execute_result"
    }
   ],
   "source": [
    "group_b = pd.DataFrame(expected_score_df).where(expected_score_df['Group'] == 'b').dropna()\n",
    "group_b"
   ]
  },
  {
   "cell_type": "code",
   "execution_count": null,
   "metadata": {
    "cell_id": "49a2888d43dd49db80d75c198a292b8e",
    "deepnote_cell_type": "code",
    "deepnote_to_be_reexecuted": true,
    "execution_millis": 2,
    "execution_start": 1670896990576,
    "source_hash": "a0dbc4ae",
    "tags": []
   },
   "outputs": [
    {
     "data": {
      "application/vnd.deepnote.dataframe.v3+json": {
       "column_count": 3,
       "columns": [
        {
         "dtype": "object",
         "name": "Country",
         "stats": {
          "categories": [
           {
            "count": 1,
            "name": "Saudi Arabia"
           },
           {
            "count": 1,
            "name": "Poland"
           },
           {
            "count": 2,
            "name": "2 others"
           }
          ],
          "nan_count": 0,
          "unique_count": 4
         }
        },
        {
         "dtype": "float64",
         "name": "Expected Score",
         "stats": {
          "histogram": [
           {
            "bin_end": 1.6,
            "bin_start": 1,
            "count": 1
           },
           {
            "bin_end": 2.2,
            "bin_start": 1.6,
            "count": 1
           },
           {
            "bin_end": 2.8,
            "bin_start": 2.2,
            "count": 0
           },
           {
            "bin_end": 3.4,
            "bin_start": 2.8,
            "count": 0
           },
           {
            "bin_end": 4,
            "bin_start": 3.4,
            "count": 0
           },
           {
            "bin_end": 4.6,
            "bin_start": 4,
            "count": 0
           },
           {
            "bin_end": 5.2,
            "bin_start": 4.6,
            "count": 0
           },
           {
            "bin_end": 5.8,
            "bin_start": 5.2,
            "count": 0
           },
           {
            "bin_end": 6.3999999999999995,
            "bin_start": 5.8,
            "count": 1
           },
           {
            "bin_end": 7,
            "bin_start": 6.3999999999999995,
            "count": 1
           }
          ],
          "max": "7.0",
          "min": "1.0",
          "nan_count": 0,
          "unique_count": 4
         }
        },
        {
         "dtype": "object",
         "name": "Group",
         "stats": {
          "categories": [
           {
            "count": 4,
            "name": "c"
           }
          ],
          "nan_count": 0,
          "unique_count": 1
         }
        },
        {
         "dtype": "int64",
         "name": "_deepnote_index_column"
        }
       ],
       "row_count": 4,
       "rows": [
        {
         "Country": "Saudi Arabia",
         "Expected Score": "7.0",
         "Group": "c",
         "_deepnote_index_column": "11"
        },
        {
         "Country": "Poland",
         "Expected Score": "6.0",
         "Group": "c",
         "_deepnote_index_column": "10"
        },
        {
         "Country": "Mexico",
         "Expected Score": "2.0",
         "Group": "c",
         "_deepnote_index_column": "8"
        },
        {
         "Country": "Argentina",
         "Expected Score": "1.0",
         "Group": "c",
         "_deepnote_index_column": "9"
        }
       ]
      },
      "text/html": [
       "<div>\n",
       "<style scoped>\n",
       "    .dataframe tbody tr th:only-of-type {\n",
       "        vertical-align: middle;\n",
       "    }\n",
       "\n",
       "    .dataframe tbody tr th {\n",
       "        vertical-align: top;\n",
       "    }\n",
       "\n",
       "    .dataframe thead th {\n",
       "        text-align: right;\n",
       "    }\n",
       "</style>\n",
       "<table border=\"1\" class=\"dataframe\">\n",
       "  <thead>\n",
       "    <tr style=\"text-align: right;\">\n",
       "      <th></th>\n",
       "      <th>Country</th>\n",
       "      <th>Expected Score</th>\n",
       "      <th>Group</th>\n",
       "    </tr>\n",
       "  </thead>\n",
       "  <tbody>\n",
       "    <tr>\n",
       "      <th>11</th>\n",
       "      <td>Saudi Arabia</td>\n",
       "      <td>7.0</td>\n",
       "      <td>c</td>\n",
       "    </tr>\n",
       "    <tr>\n",
       "      <th>10</th>\n",
       "      <td>Poland</td>\n",
       "      <td>6.0</td>\n",
       "      <td>c</td>\n",
       "    </tr>\n",
       "    <tr>\n",
       "      <th>8</th>\n",
       "      <td>Mexico</td>\n",
       "      <td>2.0</td>\n",
       "      <td>c</td>\n",
       "    </tr>\n",
       "    <tr>\n",
       "      <th>9</th>\n",
       "      <td>Argentina</td>\n",
       "      <td>1.0</td>\n",
       "      <td>c</td>\n",
       "    </tr>\n",
       "  </tbody>\n",
       "</table>\n",
       "</div>"
      ],
      "text/plain": [
       "         Country  Expected Score Group\n",
       "11  Saudi Arabia             7.0     c\n",
       "10        Poland             6.0     c\n",
       "8         Mexico             2.0     c\n",
       "9      Argentina             1.0     c"
      ]
     },
     "execution_count": 285,
     "metadata": {},
     "output_type": "execute_result"
    }
   ],
   "source": [
    "group_c = pd.DataFrame(expected_score_df).where(expected_score_df['Group'] == 'c').dropna()\n",
    "group_c"
   ]
  },
  {
   "cell_type": "code",
   "execution_count": null,
   "metadata": {
    "cell_id": "7dde500c939e4e0794500a232df2b64c",
    "deepnote_cell_type": "code",
    "deepnote_to_be_reexecuted": true,
    "execution_millis": 4,
    "execution_start": 1670896952012,
    "source_hash": "c5592c70",
    "tags": []
   },
   "outputs": [
    {
     "data": {
      "application/vnd.deepnote.dataframe.v3+json": {
       "column_count": 3,
       "columns": [
        {
         "dtype": "object",
         "name": "Country",
         "stats": {
          "categories": [
           {
            "count": 1,
            "name": "Tunisia"
           },
           {
            "count": 1,
            "name": "Australia"
           },
           {
            "count": 2,
            "name": "2 others"
           }
          ],
          "nan_count": 0,
          "unique_count": 4
         }
        },
        {
         "dtype": "float64",
         "name": "Expected Score",
         "stats": {
          "histogram": [
           {
            "bin_end": 1.6,
            "bin_start": 1,
            "count": 1
           },
           {
            "bin_end": 2.2,
            "bin_start": 1.6,
            "count": 0
           },
           {
            "bin_end": 2.8,
            "bin_start": 2.2,
            "count": 0
           },
           {
            "bin_end": 3.4,
            "bin_start": 2.8,
            "count": 1
           },
           {
            "bin_end": 4,
            "bin_start": 3.4,
            "count": 0
           },
           {
            "bin_end": 4.6,
            "bin_start": 4,
            "count": 0
           },
           {
            "bin_end": 5.2,
            "bin_start": 4.6,
            "count": 0
           },
           {
            "bin_end": 5.8,
            "bin_start": 5.2,
            "count": 0
           },
           {
            "bin_end": 6.3999999999999995,
            "bin_start": 5.8,
            "count": 1
           },
           {
            "bin_end": 7,
            "bin_start": 6.3999999999999995,
            "count": 1
           }
          ],
          "max": "7.0",
          "min": "1.0",
          "nan_count": 0,
          "unique_count": 4
         }
        },
        {
         "dtype": "object",
         "name": "Group",
         "stats": {
          "categories": [
           {
            "count": 4,
            "name": "d"
           }
          ],
          "nan_count": 0,
          "unique_count": 1
         }
        },
        {
         "dtype": "int64",
         "name": "_deepnote_index_column"
        }
       ],
       "row_count": 4,
       "rows": [
        {
         "Country": "Tunisia",
         "Expected Score": "7.0",
         "Group": "d",
         "_deepnote_index_column": "14"
        },
        {
         "Country": "Australia",
         "Expected Score": "6.0",
         "Group": "d",
         "_deepnote_index_column": "15"
        },
        {
         "Country": "France",
         "Expected Score": "3.0",
         "Group": "d",
         "_deepnote_index_column": "12"
        },
        {
         "Country": "Denmark",
         "Expected Score": "1.0",
         "Group": "d",
         "_deepnote_index_column": "13"
        }
       ]
      },
      "text/html": [
       "<div>\n",
       "<style scoped>\n",
       "    .dataframe tbody tr th:only-of-type {\n",
       "        vertical-align: middle;\n",
       "    }\n",
       "\n",
       "    .dataframe tbody tr th {\n",
       "        vertical-align: top;\n",
       "    }\n",
       "\n",
       "    .dataframe thead th {\n",
       "        text-align: right;\n",
       "    }\n",
       "</style>\n",
       "<table border=\"1\" class=\"dataframe\">\n",
       "  <thead>\n",
       "    <tr style=\"text-align: right;\">\n",
       "      <th></th>\n",
       "      <th>Country</th>\n",
       "      <th>Expected Score</th>\n",
       "      <th>Group</th>\n",
       "    </tr>\n",
       "  </thead>\n",
       "  <tbody>\n",
       "    <tr>\n",
       "      <th>14</th>\n",
       "      <td>Tunisia</td>\n",
       "      <td>7.0</td>\n",
       "      <td>d</td>\n",
       "    </tr>\n",
       "    <tr>\n",
       "      <th>15</th>\n",
       "      <td>Australia</td>\n",
       "      <td>6.0</td>\n",
       "      <td>d</td>\n",
       "    </tr>\n",
       "    <tr>\n",
       "      <th>12</th>\n",
       "      <td>France</td>\n",
       "      <td>3.0</td>\n",
       "      <td>d</td>\n",
       "    </tr>\n",
       "    <tr>\n",
       "      <th>13</th>\n",
       "      <td>Denmark</td>\n",
       "      <td>1.0</td>\n",
       "      <td>d</td>\n",
       "    </tr>\n",
       "  </tbody>\n",
       "</table>\n",
       "</div>"
      ],
      "text/plain": [
       "      Country  Expected Score Group\n",
       "14    Tunisia             7.0     d\n",
       "15  Australia             6.0     d\n",
       "12     France             3.0     d\n",
       "13    Denmark             1.0     d"
      ]
     },
     "execution_count": 280,
     "metadata": {},
     "output_type": "execute_result"
    }
   ],
   "source": [
    "group_d = pd.DataFrame(expected_score_df).where(expected_score_df['Group'] == 'd').dropna()\n",
    "group_d"
   ]
  },
  {
   "cell_type": "code",
   "execution_count": null,
   "metadata": {
    "cell_id": "a83bbd4ba6c946a089a07a4610c56686",
    "deepnote_cell_type": "code",
    "deepnote_to_be_reexecuted": true,
    "execution_millis": 46,
    "execution_start": 1670896952049,
    "source_hash": "b6971b0a",
    "tags": []
   },
   "outputs": [
    {
     "data": {
      "application/vnd.deepnote.dataframe.v3+json": {
       "column_count": 3,
       "columns": [
        {
         "dtype": "object",
         "name": "Country",
         "stats": {
          "categories": [
           {
            "count": 1,
            "name": "Costa Rica"
           },
           {
            "count": 1,
            "name": "Japan"
           },
           {
            "count": 2,
            "name": "2 others"
           }
          ],
          "nan_count": 0,
          "unique_count": 4
         }
        },
        {
         "dtype": "float64",
         "name": "Expected Score",
         "stats": {
          "histogram": [
           {
            "bin_end": 0.7,
            "bin_start": 0,
            "count": 1
           },
           {
            "bin_end": 1.4,
            "bin_start": 0.7,
            "count": 0
           },
           {
            "bin_end": 2.0999999999999996,
            "bin_start": 1.4,
            "count": 0
           },
           {
            "bin_end": 2.8,
            "bin_start": 2.0999999999999996,
            "count": 0
           },
           {
            "bin_end": 3.5,
            "bin_start": 2.8,
            "count": 0
           },
           {
            "bin_end": 4.199999999999999,
            "bin_start": 3.5,
            "count": 1
           },
           {
            "bin_end": 4.8999999999999995,
            "bin_start": 4.199999999999999,
            "count": 0
           },
           {
            "bin_end": 5.6,
            "bin_start": 4.8999999999999995,
            "count": 1
           },
           {
            "bin_end": 6.3,
            "bin_start": 5.6,
            "count": 0
           },
           {
            "bin_end": 7,
            "bin_start": 6.3,
            "count": 1
           }
          ],
          "max": "7.0",
          "min": "0.0",
          "nan_count": 0,
          "unique_count": 4
         }
        },
        {
         "dtype": "object",
         "name": "Group",
         "stats": {
          "categories": [
           {
            "count": 4,
            "name": "e"
           }
          ],
          "nan_count": 0,
          "unique_count": 1
         }
        },
        {
         "dtype": "int64",
         "name": "_deepnote_index_column"
        }
       ],
       "row_count": 4,
       "rows": [
        {
         "Country": "Costa Rica",
         "Expected Score": "7.0",
         "Group": "e",
         "_deepnote_index_column": "19"
        },
        {
         "Country": "Japan",
         "Expected Score": "5.0",
         "Group": "e",
         "_deepnote_index_column": "18"
        },
        {
         "Country": "Germany",
         "Expected Score": "4.0",
         "Group": "e",
         "_deepnote_index_column": "17"
        },
        {
         "Country": "Spain",
         "Expected Score": "0.0",
         "Group": "e",
         "_deepnote_index_column": "16"
        }
       ]
      },
      "text/html": [
       "<div>\n",
       "<style scoped>\n",
       "    .dataframe tbody tr th:only-of-type {\n",
       "        vertical-align: middle;\n",
       "    }\n",
       "\n",
       "    .dataframe tbody tr th {\n",
       "        vertical-align: top;\n",
       "    }\n",
       "\n",
       "    .dataframe thead th {\n",
       "        text-align: right;\n",
       "    }\n",
       "</style>\n",
       "<table border=\"1\" class=\"dataframe\">\n",
       "  <thead>\n",
       "    <tr style=\"text-align: right;\">\n",
       "      <th></th>\n",
       "      <th>Country</th>\n",
       "      <th>Expected Score</th>\n",
       "      <th>Group</th>\n",
       "    </tr>\n",
       "  </thead>\n",
       "  <tbody>\n",
       "    <tr>\n",
       "      <th>19</th>\n",
       "      <td>Costa Rica</td>\n",
       "      <td>7.0</td>\n",
       "      <td>e</td>\n",
       "    </tr>\n",
       "    <tr>\n",
       "      <th>18</th>\n",
       "      <td>Japan</td>\n",
       "      <td>5.0</td>\n",
       "      <td>e</td>\n",
       "    </tr>\n",
       "    <tr>\n",
       "      <th>17</th>\n",
       "      <td>Germany</td>\n",
       "      <td>4.0</td>\n",
       "      <td>e</td>\n",
       "    </tr>\n",
       "    <tr>\n",
       "      <th>16</th>\n",
       "      <td>Spain</td>\n",
       "      <td>0.0</td>\n",
       "      <td>e</td>\n",
       "    </tr>\n",
       "  </tbody>\n",
       "</table>\n",
       "</div>"
      ],
      "text/plain": [
       "       Country  Expected Score Group\n",
       "19  Costa Rica             7.0     e\n",
       "18       Japan             5.0     e\n",
       "17     Germany             4.0     e\n",
       "16       Spain             0.0     e"
      ]
     },
     "execution_count": 281,
     "metadata": {},
     "output_type": "execute_result"
    }
   ],
   "source": [
    "group_e = pd.DataFrame(expected_score_df).where(expected_score_df['Group'] == 'e').dropna()\n",
    "group_e"
   ]
  },
  {
   "cell_type": "code",
   "execution_count": null,
   "metadata": {
    "cell_id": "fe2b0edc1431496796d3a4be094c5255",
    "deepnote_cell_type": "code",
    "deepnote_to_be_reexecuted": true,
    "execution_millis": 24,
    "execution_start": 1670896952079,
    "source_hash": "5113021e",
    "tags": []
   },
   "outputs": [
    {
     "data": {
      "application/vnd.deepnote.dataframe.v3+json": {
       "column_count": 3,
       "columns": [
        {
         "dtype": "object",
         "name": "Country",
         "stats": {
          "categories": [
           {
            "count": 1,
            "name": "Morocco"
           },
           {
            "count": 1,
            "name": "Belgium"
           },
           {
            "count": 2,
            "name": "2 others"
           }
          ],
          "nan_count": 0,
          "unique_count": 4
         }
        },
        {
         "dtype": "float64",
         "name": "Expected Score",
         "stats": {
          "histogram": [
           {
            "bin_end": 0.9,
            "bin_start": 0,
            "count": 1
           },
           {
            "bin_end": 1.8,
            "bin_start": 0.9,
            "count": 0
           },
           {
            "bin_end": 2.7,
            "bin_start": 1.8,
            "count": 0
           },
           {
            "bin_end": 3.6,
            "bin_start": 2.7,
            "count": 1
           },
           {
            "bin_end": 4.5,
            "bin_start": 3.6,
            "count": 0
           },
           {
            "bin_end": 5.4,
            "bin_start": 4.5,
            "count": 0
           },
           {
            "bin_end": 6.3,
            "bin_start": 5.4,
            "count": 1
           },
           {
            "bin_end": 7.2,
            "bin_start": 6.3,
            "count": 0
           },
           {
            "bin_end": 8.1,
            "bin_start": 7.2,
            "count": 0
           },
           {
            "bin_end": 9,
            "bin_start": 8.1,
            "count": 1
           }
          ],
          "max": "9.0",
          "min": "0.0",
          "nan_count": 0,
          "unique_count": 4
         }
        },
        {
         "dtype": "object",
         "name": "Group",
         "stats": {
          "categories": [
           {
            "count": 4,
            "name": "f"
           }
          ],
          "nan_count": 0,
          "unique_count": 1
         }
        },
        {
         "dtype": "int64",
         "name": "_deepnote_index_column"
        }
       ],
       "row_count": 4,
       "rows": [
        {
         "Country": "Morocco",
         "Expected Score": "9.0",
         "Group": "f",
         "_deepnote_index_column": "21"
        },
        {
         "Country": "Belgium",
         "Expected Score": "6.0",
         "Group": "f",
         "_deepnote_index_column": "20"
        },
        {
         "Country": "Croatia",
         "Expected Score": "3.0",
         "Group": "f",
         "_deepnote_index_column": "22"
        },
        {
         "Country": "Canada",
         "Expected Score": "0.0",
         "Group": "f",
         "_deepnote_index_column": "23"
        }
       ]
      },
      "text/html": [
       "<div>\n",
       "<style scoped>\n",
       "    .dataframe tbody tr th:only-of-type {\n",
       "        vertical-align: middle;\n",
       "    }\n",
       "\n",
       "    .dataframe tbody tr th {\n",
       "        vertical-align: top;\n",
       "    }\n",
       "\n",
       "    .dataframe thead th {\n",
       "        text-align: right;\n",
       "    }\n",
       "</style>\n",
       "<table border=\"1\" class=\"dataframe\">\n",
       "  <thead>\n",
       "    <tr style=\"text-align: right;\">\n",
       "      <th></th>\n",
       "      <th>Country</th>\n",
       "      <th>Expected Score</th>\n",
       "      <th>Group</th>\n",
       "    </tr>\n",
       "  </thead>\n",
       "  <tbody>\n",
       "    <tr>\n",
       "      <th>21</th>\n",
       "      <td>Morocco</td>\n",
       "      <td>9.0</td>\n",
       "      <td>f</td>\n",
       "    </tr>\n",
       "    <tr>\n",
       "      <th>20</th>\n",
       "      <td>Belgium</td>\n",
       "      <td>6.0</td>\n",
       "      <td>f</td>\n",
       "    </tr>\n",
       "    <tr>\n",
       "      <th>22</th>\n",
       "      <td>Croatia</td>\n",
       "      <td>3.0</td>\n",
       "      <td>f</td>\n",
       "    </tr>\n",
       "    <tr>\n",
       "      <th>23</th>\n",
       "      <td>Canada</td>\n",
       "      <td>0.0</td>\n",
       "      <td>f</td>\n",
       "    </tr>\n",
       "  </tbody>\n",
       "</table>\n",
       "</div>"
      ],
      "text/plain": [
       "    Country  Expected Score Group\n",
       "21  Morocco             9.0     f\n",
       "20  Belgium             6.0     f\n",
       "22  Croatia             3.0     f\n",
       "23   Canada             0.0     f"
      ]
     },
     "execution_count": 282,
     "metadata": {},
     "output_type": "execute_result"
    }
   ],
   "source": [
    "group_f = pd.DataFrame(expected_score_df).where(expected_score_df['Group'] == 'f').dropna()\n",
    "group_f"
   ]
  },
  {
   "cell_type": "code",
   "execution_count": null,
   "metadata": {
    "cell_id": "d89eaed8e2e84d6ab9863c57e8dd457f",
    "deepnote_cell_type": "code",
    "deepnote_to_be_reexecuted": true,
    "execution_millis": 40,
    "execution_start": 1670896958825,
    "source_hash": "68b14a3f",
    "tags": []
   },
   "outputs": [
    {
     "data": {
      "application/vnd.deepnote.dataframe.v3+json": {
       "column_count": 3,
       "columns": [
        {
         "dtype": "object",
         "name": "Country",
         "stats": {
          "categories": [
           {
            "count": 1,
            "name": "Cameroon"
           },
           {
            "count": 1,
            "name": "Serbia"
           },
           {
            "count": 2,
            "name": "2 others"
           }
          ],
          "nan_count": 0,
          "unique_count": 4
         }
        },
        {
         "dtype": "float64",
         "name": "Expected Score",
         "stats": {
          "histogram": [
           {
            "bin_end": 1.6,
            "bin_start": 1,
            "count": 1
           },
           {
            "bin_end": 2.2,
            "bin_start": 1.6,
            "count": 0
           },
           {
            "bin_end": 2.8,
            "bin_start": 2.2,
            "count": 0
           },
           {
            "bin_end": 3.4,
            "bin_start": 2.8,
            "count": 1
           },
           {
            "bin_end": 4,
            "bin_start": 3.4,
            "count": 0
           },
           {
            "bin_end": 4.6,
            "bin_start": 4,
            "count": 0
           },
           {
            "bin_end": 5.2,
            "bin_start": 4.6,
            "count": 0
           },
           {
            "bin_end": 5.8,
            "bin_start": 5.2,
            "count": 0
           },
           {
            "bin_end": 6.3999999999999995,
            "bin_start": 5.8,
            "count": 1
           },
           {
            "bin_end": 7,
            "bin_start": 6.3999999999999995,
            "count": 1
           }
          ],
          "max": "7.0",
          "min": "1.0",
          "nan_count": 0,
          "unique_count": 4
         }
        },
        {
         "dtype": "object",
         "name": "Group",
         "stats": {
          "categories": [
           {
            "count": 4,
            "name": "g"
           }
          ],
          "nan_count": 0,
          "unique_count": 1
         }
        },
        {
         "dtype": "int64",
         "name": "_deepnote_index_column"
        }
       ],
       "row_count": 4,
       "rows": [
        {
         "Country": "Cameroon",
         "Expected Score": "7.0",
         "Group": "g",
         "_deepnote_index_column": "26"
        },
        {
         "Country": "Serbia",
         "Expected Score": "6.0",
         "Group": "g",
         "_deepnote_index_column": "27"
        },
        {
         "Country": "Switzerland",
         "Expected Score": "3.0",
         "Group": "g",
         "_deepnote_index_column": "24"
        },
        {
         "Country": "Brazil",
         "Expected Score": "1.0",
         "Group": "g",
         "_deepnote_index_column": "25"
        }
       ]
      },
      "text/html": [
       "<div>\n",
       "<style scoped>\n",
       "    .dataframe tbody tr th:only-of-type {\n",
       "        vertical-align: middle;\n",
       "    }\n",
       "\n",
       "    .dataframe tbody tr th {\n",
       "        vertical-align: top;\n",
       "    }\n",
       "\n",
       "    .dataframe thead th {\n",
       "        text-align: right;\n",
       "    }\n",
       "</style>\n",
       "<table border=\"1\" class=\"dataframe\">\n",
       "  <thead>\n",
       "    <tr style=\"text-align: right;\">\n",
       "      <th></th>\n",
       "      <th>Country</th>\n",
       "      <th>Expected Score</th>\n",
       "      <th>Group</th>\n",
       "    </tr>\n",
       "  </thead>\n",
       "  <tbody>\n",
       "    <tr>\n",
       "      <th>26</th>\n",
       "      <td>Cameroon</td>\n",
       "      <td>7.0</td>\n",
       "      <td>g</td>\n",
       "    </tr>\n",
       "    <tr>\n",
       "      <th>27</th>\n",
       "      <td>Serbia</td>\n",
       "      <td>6.0</td>\n",
       "      <td>g</td>\n",
       "    </tr>\n",
       "    <tr>\n",
       "      <th>24</th>\n",
       "      <td>Switzerland</td>\n",
       "      <td>3.0</td>\n",
       "      <td>g</td>\n",
       "    </tr>\n",
       "    <tr>\n",
       "      <th>25</th>\n",
       "      <td>Brazil</td>\n",
       "      <td>1.0</td>\n",
       "      <td>g</td>\n",
       "    </tr>\n",
       "  </tbody>\n",
       "</table>\n",
       "</div>"
      ],
      "text/plain": [
       "        Country  Expected Score Group\n",
       "26     Cameroon             7.0     g\n",
       "27       Serbia             6.0     g\n",
       "24  Switzerland             3.0     g\n",
       "25       Brazil             1.0     g"
      ]
     },
     "execution_count": 283,
     "metadata": {},
     "output_type": "execute_result"
    }
   ],
   "source": [
    "group_g = pd.DataFrame(expected_score_df).where(expected_score_df['Group'] == 'g').dropna()\n",
    "group_g"
   ]
  },
  {
   "cell_type": "code",
   "execution_count": null,
   "metadata": {
    "cell_id": "a18bf7e018eb4321a4829cb40ac95935",
    "deepnote_cell_type": "code",
    "deepnote_to_be_reexecuted": true,
    "execution_millis": 17,
    "execution_start": 1670896958878,
    "source_hash": "dcadebbd",
    "tags": []
   },
   "outputs": [
    {
     "data": {
      "application/vnd.deepnote.dataframe.v3+json": {
       "column_count": 3,
       "columns": [
        {
         "dtype": "object",
         "name": "Country",
         "stats": {
          "categories": [
           {
            "count": 1,
            "name": "Ghana"
           },
           {
            "count": 1,
            "name": "Uruguay"
           },
           {
            "count": 2,
            "name": "2 others"
           }
          ],
          "nan_count": 0,
          "unique_count": 4
         }
        },
        {
         "dtype": "float64",
         "name": "Expected Score",
         "stats": {
          "histogram": [
           {
            "bin_end": 3.6,
            "bin_start": 3,
            "count": 3
           },
           {
            "bin_end": 4.2,
            "bin_start": 3.6,
            "count": 0
           },
           {
            "bin_end": 4.8,
            "bin_start": 4.2,
            "count": 0
           },
           {
            "bin_end": 5.4,
            "bin_start": 4.8,
            "count": 0
           },
           {
            "bin_end": 6,
            "bin_start": 5.4,
            "count": 0
           },
           {
            "bin_end": 6.6,
            "bin_start": 6,
            "count": 0
           },
           {
            "bin_end": 7.2,
            "bin_start": 6.6,
            "count": 0
           },
           {
            "bin_end": 7.8,
            "bin_start": 7.2,
            "count": 0
           },
           {
            "bin_end": 8.399999999999999,
            "bin_start": 7.8,
            "count": 0
           },
           {
            "bin_end": 9,
            "bin_start": 8.399999999999999,
            "count": 1
           }
          ],
          "max": "9.0",
          "min": "3.0",
          "nan_count": 0,
          "unique_count": 2
         }
        },
        {
         "dtype": "object",
         "name": "Group",
         "stats": {
          "categories": [
           {
            "count": 4,
            "name": "h"
           }
          ],
          "nan_count": 0,
          "unique_count": 1
         }
        },
        {
         "dtype": "int64",
         "name": "_deepnote_index_column"
        }
       ],
       "row_count": 4,
       "rows": [
        {
         "Country": "Ghana",
         "Expected Score": "9.0",
         "Group": "h",
         "_deepnote_index_column": "31"
        },
        {
         "Country": "Uruguay",
         "Expected Score": "3.0",
         "Group": "h",
         "_deepnote_index_column": "28"
        },
        {
         "Country": "Portugal",
         "Expected Score": "3.0",
         "Group": "h",
         "_deepnote_index_column": "29"
        },
        {
         "Country": "South Korea",
         "Expected Score": "3.0",
         "Group": "h",
         "_deepnote_index_column": "30"
        }
       ]
      },
      "text/html": [
       "<div>\n",
       "<style scoped>\n",
       "    .dataframe tbody tr th:only-of-type {\n",
       "        vertical-align: middle;\n",
       "    }\n",
       "\n",
       "    .dataframe tbody tr th {\n",
       "        vertical-align: top;\n",
       "    }\n",
       "\n",
       "    .dataframe thead th {\n",
       "        text-align: right;\n",
       "    }\n",
       "</style>\n",
       "<table border=\"1\" class=\"dataframe\">\n",
       "  <thead>\n",
       "    <tr style=\"text-align: right;\">\n",
       "      <th></th>\n",
       "      <th>Country</th>\n",
       "      <th>Expected Score</th>\n",
       "      <th>Group</th>\n",
       "    </tr>\n",
       "  </thead>\n",
       "  <tbody>\n",
       "    <tr>\n",
       "      <th>31</th>\n",
       "      <td>Ghana</td>\n",
       "      <td>9.0</td>\n",
       "      <td>h</td>\n",
       "    </tr>\n",
       "    <tr>\n",
       "      <th>28</th>\n",
       "      <td>Uruguay</td>\n",
       "      <td>3.0</td>\n",
       "      <td>h</td>\n",
       "    </tr>\n",
       "    <tr>\n",
       "      <th>29</th>\n",
       "      <td>Portugal</td>\n",
       "      <td>3.0</td>\n",
       "      <td>h</td>\n",
       "    </tr>\n",
       "    <tr>\n",
       "      <th>30</th>\n",
       "      <td>South Korea</td>\n",
       "      <td>3.0</td>\n",
       "      <td>h</td>\n",
       "    </tr>\n",
       "  </tbody>\n",
       "</table>\n",
       "</div>"
      ],
      "text/plain": [
       "        Country  Expected Score Group\n",
       "31        Ghana             9.0     h\n",
       "28      Uruguay             3.0     h\n",
       "29     Portugal             3.0     h\n",
       "30  South Korea             3.0     h"
      ]
     },
     "execution_count": 284,
     "metadata": {},
     "output_type": "execute_result"
    }
   ],
   "source": [
    "group_h = pd.DataFrame(expected_score_df).where(expected_score_df['Group'] == 'h').dropna()\n",
    "group_h"
   ]
  },
  {
   "cell_type": "code",
   "execution_count": null,
   "metadata": {
    "cell_id": "797c0fd2be6343b1bd79a9c17d5481a4",
    "deepnote_cell_type": "code",
    "deepnote_to_be_reexecuted": true,
    "execution_millis": 4,
    "execution_start": 1670899047573,
    "source_hash": "215c95e1",
    "tags": []
   },
   "outputs": [],
   "source": [
    "def simulation(group_stage_df, model):\n",
    "    teams = []\n",
    "    r = []\n",
    "    groups = ['a', 'b', 'c', 'd', 'e', 'f', 'g', 'h']\n",
    "    group = ['a', 'a', 'a', 'a', 'b', 'b', 'b', 'b', 'c',\n",
    "       'c', 'c', 'c', 'd', 'd', 'd', 'd', 'e', 'e',\n",
    "       'e', 'e', 'f', 'f', 'f', 'f', 'g', 'g', 'g',\n",
    "       'g', 'h', 'h', 'h', 'h']\n",
    "    for g in groups:\n",
    "        t = list(group_stage_df[(group_stage_df['group']==g)]['country1'].unique())\n",
    "        teams.append(t)\n",
    "    group_stage_df['Points'] = gs.apply(lambda x: group_stage_predictions2(x.country1, x.country2, model), axis=1)\n",
    "    for team in teams:\n",
    "        for i in np.arange(4):\n",
    "            country = team[i]\n",
    "            c = 0\n",
    "            for i in group_stage_df[(group_stage_df['country1']==country)]['Points']:\n",
    "                c += i[0]\n",
    "            for j in group_stage_df[(group_stage_df['country2']==country)]['Points']:\n",
    "                c += j[1]\n",
    "            r.append(c)\n",
    "    expected_score_df = pd.DataFrame(list(zip([item for sublist in teams for item in sublist], r)),columns =['Country', 'Expected Score'])\n",
    "    expected_score_df['Group'] = group\n",
    "    expected_score_df = expected_score_df.sort_values('Expected Score', ascending=False)\n",
    "    expected_score_df\n",
    "    return expected_score_df\n",
    "    "
   ]
  },
  {
   "cell_type": "code",
   "execution_count": null,
   "metadata": {
    "cell_id": "c08b7864f3924acd9ac3419488dfe030",
    "deepnote_cell_type": "code",
    "deepnote_to_be_reexecuted": true,
    "execution_millis": 2031,
    "execution_start": 1670899049067,
    "source_hash": "b20c5f8d",
    "tags": []
   },
   "outputs": [
    {
     "name": "stderr",
     "output_type": "stream",
     "text": [
      "/tmp/ipykernel_135/4005155662.py:12: SettingWithCopyWarning: \n",
      "A value is trying to be set on a copy of a slice from a DataFrame.\n",
      "Try using .loc[row_indexer,col_indexer] = value instead\n",
      "\n",
      "See the caveats in the documentation: https://pandas.pydata.org/pandas-docs/stable/user_guide/indexing.html#returning-a-view-versus-a-copy\n",
      "  group_stage_df['Points'] = gs.apply(lambda x: group_stage_predictions2(x.country1, x.country2, model), axis=1)\n"
     ]
    }
   ],
   "source": [
    "expected_score_df = simulation(gs, lda_final)"
   ]
  },
  {
   "cell_type": "code",
   "execution_count": null,
   "metadata": {
    "cell_id": "02981f58bd474e68887c94d547681723",
    "deepnote_cell_type": "code",
    "deepnote_to_be_reexecuted": true,
    "execution_millis": 7,
    "execution_start": 1670899058595,
    "source_hash": "ed403273",
    "tags": []
   },
   "outputs": [
    {
     "data": {
      "application/vnd.deepnote.dataframe.v3+json": {
       "column_count": 3,
       "columns": [
        {
         "dtype": "object",
         "name": "Country",
         "stats": {
          "categories": [
           {
            "count": 1,
            "name": "Senegal"
           },
           {
            "count": 1,
            "name": "Qatar"
           },
           {
            "count": 2,
            "name": "2 others"
           }
          ],
          "nan_count": 0,
          "unique_count": 4
         }
        },
        {
         "dtype": "float64",
         "name": "Expected Score",
         "stats": {
          "histogram": [
           {
            "bin_end": 0.7,
            "bin_start": 0,
            "count": 1
           },
           {
            "bin_end": 1.4,
            "bin_start": 0.7,
            "count": 0
           },
           {
            "bin_end": 2.0999999999999996,
            "bin_start": 1.4,
            "count": 0
           },
           {
            "bin_end": 2.8,
            "bin_start": 2.0999999999999996,
            "count": 0
           },
           {
            "bin_end": 3.5,
            "bin_start": 2.8,
            "count": 0
           },
           {
            "bin_end": 4.199999999999999,
            "bin_start": 3.5,
            "count": 1
           },
           {
            "bin_end": 4.8999999999999995,
            "bin_start": 4.199999999999999,
            "count": 0
           },
           {
            "bin_end": 5.6,
            "bin_start": 4.8999999999999995,
            "count": 1
           },
           {
            "bin_end": 6.3,
            "bin_start": 5.6,
            "count": 0
           },
           {
            "bin_end": 7,
            "bin_start": 6.3,
            "count": 1
           }
          ],
          "max": "7.0",
          "min": "0.0",
          "nan_count": 0,
          "unique_count": 4
         }
        },
        {
         "dtype": "object",
         "name": "Group",
         "stats": {
          "categories": [
           {
            "count": 4,
            "name": "a"
           }
          ],
          "nan_count": 0,
          "unique_count": 1
         }
        },
        {
         "dtype": "int64",
         "name": "_deepnote_index_column"
        }
       ],
       "row_count": 4,
       "rows": [
        {
         "Country": "Senegal",
         "Expected Score": "7.0",
         "Group": "a",
         "_deepnote_index_column": "1"
        },
        {
         "Country": "Qatar",
         "Expected Score": "5.0",
         "Group": "a",
         "_deepnote_index_column": "0"
        },
        {
         "Country": "Netherlands",
         "Expected Score": "4.0",
         "Group": "a",
         "_deepnote_index_column": "2"
        },
        {
         "Country": "Ecuador",
         "Expected Score": "0.0",
         "Group": "a",
         "_deepnote_index_column": "3"
        }
       ]
      },
      "text/html": [
       "<div>\n",
       "<style scoped>\n",
       "    .dataframe tbody tr th:only-of-type {\n",
       "        vertical-align: middle;\n",
       "    }\n",
       "\n",
       "    .dataframe tbody tr th {\n",
       "        vertical-align: top;\n",
       "    }\n",
       "\n",
       "    .dataframe thead th {\n",
       "        text-align: right;\n",
       "    }\n",
       "</style>\n",
       "<table border=\"1\" class=\"dataframe\">\n",
       "  <thead>\n",
       "    <tr style=\"text-align: right;\">\n",
       "      <th></th>\n",
       "      <th>Country</th>\n",
       "      <th>Expected Score</th>\n",
       "      <th>Group</th>\n",
       "    </tr>\n",
       "  </thead>\n",
       "  <tbody>\n",
       "    <tr>\n",
       "      <th>1</th>\n",
       "      <td>Senegal</td>\n",
       "      <td>7.0</td>\n",
       "      <td>a</td>\n",
       "    </tr>\n",
       "    <tr>\n",
       "      <th>0</th>\n",
       "      <td>Qatar</td>\n",
       "      <td>5.0</td>\n",
       "      <td>a</td>\n",
       "    </tr>\n",
       "    <tr>\n",
       "      <th>2</th>\n",
       "      <td>Netherlands</td>\n",
       "      <td>4.0</td>\n",
       "      <td>a</td>\n",
       "    </tr>\n",
       "    <tr>\n",
       "      <th>3</th>\n",
       "      <td>Ecuador</td>\n",
       "      <td>0.0</td>\n",
       "      <td>a</td>\n",
       "    </tr>\n",
       "  </tbody>\n",
       "</table>\n",
       "</div>"
      ],
      "text/plain": [
       "       Country  Expected Score Group\n",
       "1      Senegal             7.0     a\n",
       "0        Qatar             5.0     a\n",
       "2  Netherlands             4.0     a\n",
       "3      Ecuador             0.0     a"
      ]
     },
     "execution_count": 327,
     "metadata": {},
     "output_type": "execute_result"
    }
   ],
   "source": [
    "pd.DataFrame(expected_score_df).where(expected_score_df['Group'] == 'a').dropna()\n"
   ]
  },
  {
   "cell_type": "code",
   "execution_count": null,
   "metadata": {
    "cell_id": "6adae5c9927940c194de756ced8ba056",
    "deepnote_cell_type": "code",
    "deepnote_to_be_reexecuted": true,
    "execution_millis": 6,
    "execution_start": 1670899069124,
    "source_hash": "4af55862",
    "tags": []
   },
   "outputs": [
    {
     "data": {
      "application/vnd.deepnote.dataframe.v3+json": {
       "column_count": 3,
       "columns": [
        {
         "dtype": "object",
         "name": "Country",
         "stats": {
          "categories": [
           {
            "count": 1,
            "name": "Iran"
           },
           {
            "count": 1,
            "name": "England"
           },
           {
            "count": 2,
            "name": "2 others"
           }
          ],
          "nan_count": 0,
          "unique_count": 4
         }
        },
        {
         "dtype": "float64",
         "name": "Expected Score",
         "stats": {
          "histogram": [
           {
            "bin_end": 0.9,
            "bin_start": 0,
            "count": 1
           },
           {
            "bin_end": 1.8,
            "bin_start": 0.9,
            "count": 0
           },
           {
            "bin_end": 2.7,
            "bin_start": 1.8,
            "count": 0
           },
           {
            "bin_end": 3.6,
            "bin_start": 2.7,
            "count": 1
           },
           {
            "bin_end": 4.5,
            "bin_start": 3.6,
            "count": 0
           },
           {
            "bin_end": 5.4,
            "bin_start": 4.5,
            "count": 0
           },
           {
            "bin_end": 6.3,
            "bin_start": 5.4,
            "count": 1
           },
           {
            "bin_end": 7.2,
            "bin_start": 6.3,
            "count": 0
           },
           {
            "bin_end": 8.1,
            "bin_start": 7.2,
            "count": 0
           },
           {
            "bin_end": 9,
            "bin_start": 8.1,
            "count": 1
           }
          ],
          "max": "9.0",
          "min": "0.0",
          "nan_count": 0,
          "unique_count": 4
         }
        },
        {
         "dtype": "object",
         "name": "Group",
         "stats": {
          "categories": [
           {
            "count": 4,
            "name": "b"
           }
          ],
          "nan_count": 0,
          "unique_count": 1
         }
        },
        {
         "dtype": "int64",
         "name": "_deepnote_index_column"
        }
       ],
       "row_count": 4,
       "rows": [
        {
         "Country": "Iran",
         "Expected Score": "9.0",
         "Group": "b",
         "_deepnote_index_column": "7"
        },
        {
         "Country": "England",
         "Expected Score": "6.0",
         "Group": "b",
         "_deepnote_index_column": "4"
        },
        {
         "Country": "USMNT",
         "Expected Score": "3.0",
         "Group": "b",
         "_deepnote_index_column": "5"
        },
        {
         "Country": "Wales",
         "Expected Score": "0.0",
         "Group": "b",
         "_deepnote_index_column": "6"
        }
       ]
      },
      "text/html": [
       "<div>\n",
       "<style scoped>\n",
       "    .dataframe tbody tr th:only-of-type {\n",
       "        vertical-align: middle;\n",
       "    }\n",
       "\n",
       "    .dataframe tbody tr th {\n",
       "        vertical-align: top;\n",
       "    }\n",
       "\n",
       "    .dataframe thead th {\n",
       "        text-align: right;\n",
       "    }\n",
       "</style>\n",
       "<table border=\"1\" class=\"dataframe\">\n",
       "  <thead>\n",
       "    <tr style=\"text-align: right;\">\n",
       "      <th></th>\n",
       "      <th>Country</th>\n",
       "      <th>Expected Score</th>\n",
       "      <th>Group</th>\n",
       "    </tr>\n",
       "  </thead>\n",
       "  <tbody>\n",
       "    <tr>\n",
       "      <th>7</th>\n",
       "      <td>Iran</td>\n",
       "      <td>9.0</td>\n",
       "      <td>b</td>\n",
       "    </tr>\n",
       "    <tr>\n",
       "      <th>4</th>\n",
       "      <td>England</td>\n",
       "      <td>6.0</td>\n",
       "      <td>b</td>\n",
       "    </tr>\n",
       "    <tr>\n",
       "      <th>5</th>\n",
       "      <td>USMNT</td>\n",
       "      <td>3.0</td>\n",
       "      <td>b</td>\n",
       "    </tr>\n",
       "    <tr>\n",
       "      <th>6</th>\n",
       "      <td>Wales</td>\n",
       "      <td>0.0</td>\n",
       "      <td>b</td>\n",
       "    </tr>\n",
       "  </tbody>\n",
       "</table>\n",
       "</div>"
      ],
      "text/plain": [
       "   Country  Expected Score Group\n",
       "7     Iran             9.0     b\n",
       "4  England             6.0     b\n",
       "5    USMNT             3.0     b\n",
       "6    Wales             0.0     b"
      ]
     },
     "execution_count": 328,
     "metadata": {},
     "output_type": "execute_result"
    }
   ],
   "source": [
    "pd.DataFrame(expected_score_df).where(expected_score_df['Group'] == 'b').dropna()"
   ]
  },
  {
   "cell_type": "code",
   "execution_count": null,
   "metadata": {
    "cell_id": "b47d59d3ed38408db8673c8300d0823d",
    "deepnote_cell_type": "code",
    "deepnote_to_be_reexecuted": true,
    "execution_millis": 2,
    "execution_start": 1670899119396,
    "source_hash": "d7879b59",
    "tags": []
   },
   "outputs": [
    {
     "data": {
      "application/vnd.deepnote.dataframe.v3+json": {
       "column_count": 3,
       "columns": [
        {
         "dtype": "object",
         "name": "Country",
         "stats": {
          "categories": [
           {
            "count": 1,
            "name": "Argentina"
           },
           {
            "count": 1,
            "name": "Poland"
           },
           {
            "count": 2,
            "name": "2 others"
           }
          ],
          "nan_count": 0,
          "unique_count": 4
         }
        },
        {
         "dtype": "float64",
         "name": "Expected Score",
         "stats": {
          "histogram": [
           {
            "bin_end": 1.8,
            "bin_start": 1,
            "count": 1
           },
           {
            "bin_end": 2.6,
            "bin_start": 1.8,
            "count": 1
           },
           {
            "bin_end": 3.4000000000000004,
            "bin_start": 2.6,
            "count": 0
           },
           {
            "bin_end": 4.2,
            "bin_start": 3.4000000000000004,
            "count": 1
           },
           {
            "bin_end": 5,
            "bin_start": 4.2,
            "count": 0
           },
           {
            "bin_end": 5.800000000000001,
            "bin_start": 5,
            "count": 0
           },
           {
            "bin_end": 6.6000000000000005,
            "bin_start": 5.800000000000001,
            "count": 0
           },
           {
            "bin_end": 7.4,
            "bin_start": 6.6000000000000005,
            "count": 0
           },
           {
            "bin_end": 8.2,
            "bin_start": 7.4,
            "count": 0
           },
           {
            "bin_end": 9,
            "bin_start": 8.2,
            "count": 1
           }
          ],
          "max": "9.0",
          "min": "1.0",
          "nan_count": 0,
          "unique_count": 4
         }
        },
        {
         "dtype": "object",
         "name": "Group",
         "stats": {
          "categories": [
           {
            "count": 4,
            "name": "c"
           }
          ],
          "nan_count": 0,
          "unique_count": 1
         }
        },
        {
         "dtype": "int64",
         "name": "_deepnote_index_column"
        }
       ],
       "row_count": 4,
       "rows": [
        {
         "Country": "Argentina",
         "Expected Score": "9.0",
         "Group": "c",
         "_deepnote_index_column": "9"
        },
        {
         "Country": "Poland",
         "Expected Score": "4.0",
         "Group": "c",
         "_deepnote_index_column": "10"
        },
        {
         "Country": "Mexico",
         "Expected Score": "2.0",
         "Group": "c",
         "_deepnote_index_column": "8"
        },
        {
         "Country": "Saudi Arabia",
         "Expected Score": "1.0",
         "Group": "c",
         "_deepnote_index_column": "11"
        }
       ]
      },
      "text/html": [
       "<div>\n",
       "<style scoped>\n",
       "    .dataframe tbody tr th:only-of-type {\n",
       "        vertical-align: middle;\n",
       "    }\n",
       "\n",
       "    .dataframe tbody tr th {\n",
       "        vertical-align: top;\n",
       "    }\n",
       "\n",
       "    .dataframe thead th {\n",
       "        text-align: right;\n",
       "    }\n",
       "</style>\n",
       "<table border=\"1\" class=\"dataframe\">\n",
       "  <thead>\n",
       "    <tr style=\"text-align: right;\">\n",
       "      <th></th>\n",
       "      <th>Country</th>\n",
       "      <th>Expected Score</th>\n",
       "      <th>Group</th>\n",
       "    </tr>\n",
       "  </thead>\n",
       "  <tbody>\n",
       "    <tr>\n",
       "      <th>9</th>\n",
       "      <td>Argentina</td>\n",
       "      <td>9.0</td>\n",
       "      <td>c</td>\n",
       "    </tr>\n",
       "    <tr>\n",
       "      <th>10</th>\n",
       "      <td>Poland</td>\n",
       "      <td>4.0</td>\n",
       "      <td>c</td>\n",
       "    </tr>\n",
       "    <tr>\n",
       "      <th>8</th>\n",
       "      <td>Mexico</td>\n",
       "      <td>2.0</td>\n",
       "      <td>c</td>\n",
       "    </tr>\n",
       "    <tr>\n",
       "      <th>11</th>\n",
       "      <td>Saudi Arabia</td>\n",
       "      <td>1.0</td>\n",
       "      <td>c</td>\n",
       "    </tr>\n",
       "  </tbody>\n",
       "</table>\n",
       "</div>"
      ],
      "text/plain": [
       "         Country  Expected Score Group\n",
       "9      Argentina             9.0     c\n",
       "10        Poland             4.0     c\n",
       "8         Mexico             2.0     c\n",
       "11  Saudi Arabia             1.0     c"
      ]
     },
     "execution_count": 329,
     "metadata": {},
     "output_type": "execute_result"
    }
   ],
   "source": [
    "pd.DataFrame(expected_score_df).where(expected_score_df['Group'] == 'c').dropna()"
   ]
  },
  {
   "cell_type": "code",
   "execution_count": null,
   "metadata": {
    "cell_id": "4962b943abbd47b2882f901f521d1c11",
    "deepnote_cell_type": "code",
    "deepnote_to_be_reexecuted": true,
    "source_hash": "b623e53d",
    "tags": []
   },
   "outputs": [],
   "source": []
  },
  {
   "cell_type": "markdown",
   "metadata": {
    "created_in_deepnote_cell": true,
    "deepnote_cell_type": "markdown",
    "tags": []
   },
   "source": [
    "<a style='text-decoration:none;line-height:16px;display:flex;color:#5B5B62;padding:10px;justify-content:end;' href='https://deepnote.com?utm_source=created-in-deepnote-cell&projectId=7dd733e4-f9c8-46de-9a9b-4c58af878fe3' target=\"_blank\">\n",
    "<img alt='Created in deepnote.com' style='display:inline;max-height:16px;margin:0px;margin-right:7.5px;' src='data:image/svg+xml;base64,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' > </img>\n",
    "Created in <span style='font-weight:600;margin-left:4px;'>Deepnote</span></a>"
   ]
  }
 ],
 "metadata": {
  "deepnote": {},
  "deepnote_execution_queue": [],
  "deepnote_notebook_id": "5c7ff9a7c5be44e88de534ea211ca7b4",
  "kernelspec": {
   "display_name": "Python 3 (ipykernel)",
   "language": "python",
   "name": "python3"
  },
  "language_info": {
   "codemirror_mode": {
    "name": "ipython",
    "version": 3
   },
   "file_extension": ".py",
   "mimetype": "text/x-python",
   "name": "python",
   "nbconvert_exporter": "python",
   "pygments_lexer": "ipython3",
   "version": "3.9.12"
  }
 },
 "nbformat": 4,
 "nbformat_minor": 1
}
